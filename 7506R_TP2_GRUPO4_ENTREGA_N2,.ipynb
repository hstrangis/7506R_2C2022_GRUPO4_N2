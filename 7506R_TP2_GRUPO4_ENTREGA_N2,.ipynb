{
  "cells": [
    {
      "cell_type": "markdown",
      "metadata": {
        "id": "view-in-github",
        "colab_type": "text"
      },
      "source": [
        "<a href=\"https://colab.research.google.com/github/hstrangis/7506R_2C2022_GRUPO4_N2/blob/main/7506R_TP2_GRUPO4_ENTREGA_N2%2C.ipynb\" target=\"_parent\"><img src=\"https://colab.research.google.com/assets/colab-badge.svg\" alt=\"Open In Colab\"/></a>"
      ]
    },
    {
      "cell_type": "markdown",
      "metadata": {
        "id": "lGseJZJxSH9e"
      },
      "source": [
        "# Trabajo práctico 2: Propiedades en venta\n",
        "# Grupo 4"
      ]
    },
    {
      "cell_type": "markdown",
      "metadata": {
        "id": "TJiVLaVYZDkt"
      },
      "source": [
        "### Integrantes\n",
        "### 106963\t- Matias Daniel Rueda\n",
        "### 96407 - Nicolás Hernán Strangis\n",
        "### 93525 - Miguel Centellas Leon"
      ]
    },
    {
      "cell_type": "markdown",
      "metadata": {
        "id": "EoyIaosDkW9e"
      },
      "source": [
        "# Imports y setup"
      ]
    },
    {
      "cell_type": "markdown",
      "metadata": {
        "id": "b0dKUj0Wltwq"
      },
      "source": [
        "Importación e instalación de librerías y paquetes necesarios"
      ]
    },
    {
      "cell_type": "code",
      "execution_count": 31,
      "metadata": {
        "id": "HAcbMnVuSiY3"
      },
      "outputs": [],
      "source": [
        "import pandas as pd\n",
        "import matplotlib.pyplot as plt\n",
        "from google.colab import drive\n",
        "import geopandas as gpd\n",
        "import seaborn as sns\n",
        "import numpy as np\n",
        "import folium\n",
        "import matplotlib\n",
        "import mapclassify\n",
        "import joblib\n",
        "import re\n",
        "\n",
        "from sklearn.model_selection import train_test_split"
      ]
    },
    {
      "cell_type": "code",
      "execution_count": 32,
      "metadata": {
        "colab": {
          "base_uri": "https://localhost:8080/"
        },
        "id": "4VuXc1dPSrTP",
        "outputId": "1fb03ebb-e2c2-4a57-f2b6-6fe7a841354a"
      },
      "outputs": [
        {
          "output_type": "stream",
          "name": "stdout",
          "text": [
            "Drive already mounted at /content/drive; to attempt to forcibly remount, call drive.mount(\"/content/drive\", force_remount=True).\n"
          ]
        }
      ],
      "source": [
        "drive.mount('/content/drive')"
      ]
    },
    {
      "cell_type": "code",
      "execution_count": 253,
      "metadata": {
        "id": "svrVxz5BSuD3"
      },
      "outputs": [],
      "source": [
        "df_test = pd.read_csv(\"/content/drive/MyDrive/datasets/df_test_post_preprocesamiento.csv\")\n",
        "df_train = pd.read_csv(\"/content/drive/MyDrive/datasets/df_train_post_preprocesamiento.csv\")\n",
        "df_original = pd.read_csv(\"/content/drive/MyDrive/datasets/properati_argentina_2021.csv\")"
      ]
    },
    {
      "cell_type": "code",
      "execution_count": 252,
      "metadata": {
        "colab": {
          "base_uri": "https://localhost:8080/"
        },
        "id": "393tLD6xTA_I",
        "outputId": "4a9b7405-c23c-4293-d198-c2166b9a3cf3"
      },
      "outputs": [
        {
          "output_type": "stream",
          "name": "stderr",
          "text": [
            "/usr/local/lib/python3.8/dist-packages/IPython/core/interactiveshell.py:3326: FutureWarning: The error_bad_lines argument has been deprecated and will be removed in a future version.\n",
            "\n",
            "\n",
            "  exec(code_obj, self.user_global_ns, self.user_ns)\n"
          ]
        }
      ],
      "source": [
        "df_descrip = pd.read_csv(\"/content/drive/MyDrive/datasets/properati_argentina_2021_decrip.csv\", engine='python', encoding='utf-8', error_bad_lines=False)"
      ]
    },
    {
      "cell_type": "markdown",
      "metadata": {
        "id": "ab8MsLzaI14A"
      },
      "source": [
        "#a) Ampliación del dataset"
      ]
    },
    {
      "cell_type": "code",
      "execution_count": 254,
      "metadata": {
        "colab": {
          "base_uri": "https://localhost:8080/",
          "height": 206
        },
        "id": "UpwxobJkSkzi",
        "outputId": "0cebdcc9-79c6-4609-acfc-b467be881019"
      },
      "outputs": [
        {
          "output_type": "execute_result",
          "data": {
            "text/plain": [
              "                         id                               property_description\n",
              "0  BZCeiGkJr1WBUi6pKJQwJQ==  Corredor Responsable: MARIA ALEJANDRA GENOVEVA...\n",
              "1  zuHOGgUE0UB71W7m/YCLoA==  ¡HERMOSO PH TIPO CASA DE 2 AMBIENTES!<br>APTO ...\n",
              "2  TUL813tXchVBlHUsfaA6DA==  Excelente PH en Núñez 4 amb!!!! Oportunidad !!...\n",
              "3  gn55JPmcjftBV/at1a7fPg==  UNICO PH DE 4 DORMITORIOS EN IMPECABLE ESTADO,...\n",
              "4  qg4m3QHcuo1+wMmyp7kx3Q==  Ph 2 Amb. Villa Crespo exclusivo uso profesion..."
            ],
            "text/html": [
              "\n",
              "  <div id=\"df-8a6d6b60-b262-4ebf-a559-ae01e0fd123d\">\n",
              "    <div class=\"colab-df-container\">\n",
              "      <div>\n",
              "<style scoped>\n",
              "    .dataframe tbody tr th:only-of-type {\n",
              "        vertical-align: middle;\n",
              "    }\n",
              "\n",
              "    .dataframe tbody tr th {\n",
              "        vertical-align: top;\n",
              "    }\n",
              "\n",
              "    .dataframe thead th {\n",
              "        text-align: right;\n",
              "    }\n",
              "</style>\n",
              "<table border=\"1\" class=\"dataframe\">\n",
              "  <thead>\n",
              "    <tr style=\"text-align: right;\">\n",
              "      <th></th>\n",
              "      <th>id</th>\n",
              "      <th>property_description</th>\n",
              "    </tr>\n",
              "  </thead>\n",
              "  <tbody>\n",
              "    <tr>\n",
              "      <th>0</th>\n",
              "      <td>BZCeiGkJr1WBUi6pKJQwJQ==</td>\n",
              "      <td>Corredor Responsable: MARIA ALEJANDRA GENOVEVA...</td>\n",
              "    </tr>\n",
              "    <tr>\n",
              "      <th>1</th>\n",
              "      <td>zuHOGgUE0UB71W7m/YCLoA==</td>\n",
              "      <td>¡HERMOSO PH TIPO CASA DE 2 AMBIENTES!&lt;br&gt;APTO ...</td>\n",
              "    </tr>\n",
              "    <tr>\n",
              "      <th>2</th>\n",
              "      <td>TUL813tXchVBlHUsfaA6DA==</td>\n",
              "      <td>Excelente PH en Núñez 4 amb!!!! Oportunidad !!...</td>\n",
              "    </tr>\n",
              "    <tr>\n",
              "      <th>3</th>\n",
              "      <td>gn55JPmcjftBV/at1a7fPg==</td>\n",
              "      <td>UNICO PH DE 4 DORMITORIOS EN IMPECABLE ESTADO,...</td>\n",
              "    </tr>\n",
              "    <tr>\n",
              "      <th>4</th>\n",
              "      <td>qg4m3QHcuo1+wMmyp7kx3Q==</td>\n",
              "      <td>Ph 2 Amb. Villa Crespo exclusivo uso profesion...</td>\n",
              "    </tr>\n",
              "  </tbody>\n",
              "</table>\n",
              "</div>\n",
              "      <button class=\"colab-df-convert\" onclick=\"convertToInteractive('df-8a6d6b60-b262-4ebf-a559-ae01e0fd123d')\"\n",
              "              title=\"Convert this dataframe to an interactive table.\"\n",
              "              style=\"display:none;\">\n",
              "        \n",
              "  <svg xmlns=\"http://www.w3.org/2000/svg\" height=\"24px\"viewBox=\"0 0 24 24\"\n",
              "       width=\"24px\">\n",
              "    <path d=\"M0 0h24v24H0V0z\" fill=\"none\"/>\n",
              "    <path d=\"M18.56 5.44l.94 2.06.94-2.06 2.06-.94-2.06-.94-.94-2.06-.94 2.06-2.06.94zm-11 1L8.5 8.5l.94-2.06 2.06-.94-2.06-.94L8.5 2.5l-.94 2.06-2.06.94zm10 10l.94 2.06.94-2.06 2.06-.94-2.06-.94-.94-2.06-.94 2.06-2.06.94z\"/><path d=\"M17.41 7.96l-1.37-1.37c-.4-.4-.92-.59-1.43-.59-.52 0-1.04.2-1.43.59L10.3 9.45l-7.72 7.72c-.78.78-.78 2.05 0 2.83L4 21.41c.39.39.9.59 1.41.59.51 0 1.02-.2 1.41-.59l7.78-7.78 2.81-2.81c.8-.78.8-2.07 0-2.86zM5.41 20L4 18.59l7.72-7.72 1.47 1.35L5.41 20z\"/>\n",
              "  </svg>\n",
              "      </button>\n",
              "      \n",
              "  <style>\n",
              "    .colab-df-container {\n",
              "      display:flex;\n",
              "      flex-wrap:wrap;\n",
              "      gap: 12px;\n",
              "    }\n",
              "\n",
              "    .colab-df-convert {\n",
              "      background-color: #E8F0FE;\n",
              "      border: none;\n",
              "      border-radius: 50%;\n",
              "      cursor: pointer;\n",
              "      display: none;\n",
              "      fill: #1967D2;\n",
              "      height: 32px;\n",
              "      padding: 0 0 0 0;\n",
              "      width: 32px;\n",
              "    }\n",
              "\n",
              "    .colab-df-convert:hover {\n",
              "      background-color: #E2EBFA;\n",
              "      box-shadow: 0px 1px 2px rgba(60, 64, 67, 0.3), 0px 1px 3px 1px rgba(60, 64, 67, 0.15);\n",
              "      fill: #174EA6;\n",
              "    }\n",
              "\n",
              "    [theme=dark] .colab-df-convert {\n",
              "      background-color: #3B4455;\n",
              "      fill: #D2E3FC;\n",
              "    }\n",
              "\n",
              "    [theme=dark] .colab-df-convert:hover {\n",
              "      background-color: #434B5C;\n",
              "      box-shadow: 0px 1px 3px 1px rgba(0, 0, 0, 0.15);\n",
              "      filter: drop-shadow(0px 1px 2px rgba(0, 0, 0, 0.3));\n",
              "      fill: #FFFFFF;\n",
              "    }\n",
              "  </style>\n",
              "\n",
              "      <script>\n",
              "        const buttonEl =\n",
              "          document.querySelector('#df-8a6d6b60-b262-4ebf-a559-ae01e0fd123d button.colab-df-convert');\n",
              "        buttonEl.style.display =\n",
              "          google.colab.kernel.accessAllowed ? 'block' : 'none';\n",
              "\n",
              "        async function convertToInteractive(key) {\n",
              "          const element = document.querySelector('#df-8a6d6b60-b262-4ebf-a559-ae01e0fd123d');\n",
              "          const dataTable =\n",
              "            await google.colab.kernel.invokeFunction('convertToInteractive',\n",
              "                                                     [key], {});\n",
              "          if (!dataTable) return;\n",
              "\n",
              "          const docLinkHtml = 'Like what you see? Visit the ' +\n",
              "            '<a target=\"_blank\" href=https://colab.research.google.com/notebooks/data_table.ipynb>data table notebook</a>'\n",
              "            + ' to learn more about interactive tables.';\n",
              "          element.innerHTML = '';\n",
              "          dataTable['output_type'] = 'display_data';\n",
              "          await google.colab.output.renderOutput(dataTable, element);\n",
              "          const docLink = document.createElement('div');\n",
              "          docLink.innerHTML = docLinkHtml;\n",
              "          element.appendChild(docLink);\n",
              "        }\n",
              "      </script>\n",
              "    </div>\n",
              "  </div>\n",
              "  "
            ]
          },
          "metadata": {},
          "execution_count": 254
        }
      ],
      "source": [
        "df_descrip.head()"
      ]
    },
    {
      "cell_type": "markdown",
      "source": [
        "Eliminamos filas que contienen NaN del dataset de descripciones, para no tener problemas posteriormente al ejecutar ECMes"
      ],
      "metadata": {
        "id": "wQyHF6DsabYu"
      }
    },
    {
      "cell_type": "code",
      "execution_count": 255,
      "metadata": {
        "id": "M5KkbQE_W44w"
      },
      "outputs": [],
      "source": [
        "df_descrip = df_descrip.dropna()"
      ]
    },
    {
      "cell_type": "markdown",
      "source": [
        "Verificamos que no hay descripciones vacias"
      ],
      "metadata": {
        "id": "cCsWrUrpavcm"
      }
    },
    {
      "cell_type": "code",
      "execution_count": 256,
      "metadata": {
        "colab": {
          "base_uri": "https://localhost:8080/"
        },
        "id": "R2LmjGV1YYke",
        "outputId": "f38338df-6383-449b-fdd3-6fcae3f0e067"
      },
      "outputs": [
        {
          "output_type": "execute_result",
          "data": {
            "text/plain": [
              "id                      0.0\n",
              "property_description    0.0\n",
              "dtype: float64"
            ]
          },
          "metadata": {},
          "execution_count": 256
        }
      ],
      "source": [
        "df_descrip.loc[df_descrip['property_description'].apply(type) != str].sum()"
      ]
    },
    {
      "cell_type": "markdown",
      "source": [
        "Quitamos caracteres que luego nos traeran problemas con ECMes"
      ],
      "metadata": {
        "id": "79x89_dLa0D7"
      }
    },
    {
      "cell_type": "code",
      "execution_count": 257,
      "metadata": {
        "id": "vhJA5B-zf-ns",
        "colab": {
          "base_uri": "https://localhost:8080/",
          "height": 363
        },
        "outputId": "446e6ed0-f4f3-46ed-a9ae-6b88f68e85c9"
      },
      "outputs": [
        {
          "output_type": "execute_result",
          "data": {
            "text/plain": [
              "                         id                               property_description\n",
              "0  BZCeiGkJr1WBUi6pKJQwJQ==  Corredor Responsable: MARIA ALEJANDRA GENOVEVA...\n",
              "1  zuHOGgUE0UB71W7m/YCLoA==  ¡HERMOSO PH TIPO CASA DE 2 AMBIENTES!\\nAPTO CR...\n",
              "2  TUL813tXchVBlHUsfaA6DA==  Excelente PH en Núñez 4 amb!!!! Oportunidad !!...\n",
              "3  gn55JPmcjftBV/at1a7fPg==  UNICO PH DE 4 DORMITORIOS EN IMPECABLE ESTADO,...\n",
              "4  qg4m3QHcuo1+wMmyp7kx3Q==  Ph 2 Amb. Villa Crespo exclusivo uso profesion...\n",
              "5  XztoBkv1vE+dGuId8GiPyA==  Se Vende PH interno, ubicado en excelente barr...\n",
              "6  JEhUB1WqHYnvkmuPWlDgmg==  La propiedad se encuentra ubicada en Gobernado...\n",
              "7  ucluEQ4sNKNVbwyKJFnaBw==  Casa en venta sobre calle Alejandro Magno con ...\n",
              "8  a/LC2bANkFuEJYuHglYSTg==  Hermosa Casa en Ph ubicado a 10 cuadras del ce...\n",
              "9  XWCMzAub+1YSpvBCuREdPA==  Hermosa casa en PH ubicada en barrio Santa Rit..."
            ],
            "text/html": [
              "\n",
              "  <div id=\"df-5158193e-c5d8-4eca-992d-7228bad5844b\">\n",
              "    <div class=\"colab-df-container\">\n",
              "      <div>\n",
              "<style scoped>\n",
              "    .dataframe tbody tr th:only-of-type {\n",
              "        vertical-align: middle;\n",
              "    }\n",
              "\n",
              "    .dataframe tbody tr th {\n",
              "        vertical-align: top;\n",
              "    }\n",
              "\n",
              "    .dataframe thead th {\n",
              "        text-align: right;\n",
              "    }\n",
              "</style>\n",
              "<table border=\"1\" class=\"dataframe\">\n",
              "  <thead>\n",
              "    <tr style=\"text-align: right;\">\n",
              "      <th></th>\n",
              "      <th>id</th>\n",
              "      <th>property_description</th>\n",
              "    </tr>\n",
              "  </thead>\n",
              "  <tbody>\n",
              "    <tr>\n",
              "      <th>0</th>\n",
              "      <td>BZCeiGkJr1WBUi6pKJQwJQ==</td>\n",
              "      <td>Corredor Responsable: MARIA ALEJANDRA GENOVEVA...</td>\n",
              "    </tr>\n",
              "    <tr>\n",
              "      <th>1</th>\n",
              "      <td>zuHOGgUE0UB71W7m/YCLoA==</td>\n",
              "      <td>¡HERMOSO PH TIPO CASA DE 2 AMBIENTES!\\nAPTO CR...</td>\n",
              "    </tr>\n",
              "    <tr>\n",
              "      <th>2</th>\n",
              "      <td>TUL813tXchVBlHUsfaA6DA==</td>\n",
              "      <td>Excelente PH en Núñez 4 amb!!!! Oportunidad !!...</td>\n",
              "    </tr>\n",
              "    <tr>\n",
              "      <th>3</th>\n",
              "      <td>gn55JPmcjftBV/at1a7fPg==</td>\n",
              "      <td>UNICO PH DE 4 DORMITORIOS EN IMPECABLE ESTADO,...</td>\n",
              "    </tr>\n",
              "    <tr>\n",
              "      <th>4</th>\n",
              "      <td>qg4m3QHcuo1+wMmyp7kx3Q==</td>\n",
              "      <td>Ph 2 Amb. Villa Crespo exclusivo uso profesion...</td>\n",
              "    </tr>\n",
              "    <tr>\n",
              "      <th>5</th>\n",
              "      <td>XztoBkv1vE+dGuId8GiPyA==</td>\n",
              "      <td>Se Vende PH interno, ubicado en excelente barr...</td>\n",
              "    </tr>\n",
              "    <tr>\n",
              "      <th>6</th>\n",
              "      <td>JEhUB1WqHYnvkmuPWlDgmg==</td>\n",
              "      <td>La propiedad se encuentra ubicada en Gobernado...</td>\n",
              "    </tr>\n",
              "    <tr>\n",
              "      <th>7</th>\n",
              "      <td>ucluEQ4sNKNVbwyKJFnaBw==</td>\n",
              "      <td>Casa en venta sobre calle Alejandro Magno con ...</td>\n",
              "    </tr>\n",
              "    <tr>\n",
              "      <th>8</th>\n",
              "      <td>a/LC2bANkFuEJYuHglYSTg==</td>\n",
              "      <td>Hermosa Casa en Ph ubicado a 10 cuadras del ce...</td>\n",
              "    </tr>\n",
              "    <tr>\n",
              "      <th>9</th>\n",
              "      <td>XWCMzAub+1YSpvBCuREdPA==</td>\n",
              "      <td>Hermosa casa en PH ubicada en barrio Santa Rit...</td>\n",
              "    </tr>\n",
              "  </tbody>\n",
              "</table>\n",
              "</div>\n",
              "      <button class=\"colab-df-convert\" onclick=\"convertToInteractive('df-5158193e-c5d8-4eca-992d-7228bad5844b')\"\n",
              "              title=\"Convert this dataframe to an interactive table.\"\n",
              "              style=\"display:none;\">\n",
              "        \n",
              "  <svg xmlns=\"http://www.w3.org/2000/svg\" height=\"24px\"viewBox=\"0 0 24 24\"\n",
              "       width=\"24px\">\n",
              "    <path d=\"M0 0h24v24H0V0z\" fill=\"none\"/>\n",
              "    <path d=\"M18.56 5.44l.94 2.06.94-2.06 2.06-.94-2.06-.94-.94-2.06-.94 2.06-2.06.94zm-11 1L8.5 8.5l.94-2.06 2.06-.94-2.06-.94L8.5 2.5l-.94 2.06-2.06.94zm10 10l.94 2.06.94-2.06 2.06-.94-2.06-.94-.94-2.06-.94 2.06-2.06.94z\"/><path d=\"M17.41 7.96l-1.37-1.37c-.4-.4-.92-.59-1.43-.59-.52 0-1.04.2-1.43.59L10.3 9.45l-7.72 7.72c-.78.78-.78 2.05 0 2.83L4 21.41c.39.39.9.59 1.41.59.51 0 1.02-.2 1.41-.59l7.78-7.78 2.81-2.81c.8-.78.8-2.07 0-2.86zM5.41 20L4 18.59l7.72-7.72 1.47 1.35L5.41 20z\"/>\n",
              "  </svg>\n",
              "      </button>\n",
              "      \n",
              "  <style>\n",
              "    .colab-df-container {\n",
              "      display:flex;\n",
              "      flex-wrap:wrap;\n",
              "      gap: 12px;\n",
              "    }\n",
              "\n",
              "    .colab-df-convert {\n",
              "      background-color: #E8F0FE;\n",
              "      border: none;\n",
              "      border-radius: 50%;\n",
              "      cursor: pointer;\n",
              "      display: none;\n",
              "      fill: #1967D2;\n",
              "      height: 32px;\n",
              "      padding: 0 0 0 0;\n",
              "      width: 32px;\n",
              "    }\n",
              "\n",
              "    .colab-df-convert:hover {\n",
              "      background-color: #E2EBFA;\n",
              "      box-shadow: 0px 1px 2px rgba(60, 64, 67, 0.3), 0px 1px 3px 1px rgba(60, 64, 67, 0.15);\n",
              "      fill: #174EA6;\n",
              "    }\n",
              "\n",
              "    [theme=dark] .colab-df-convert {\n",
              "      background-color: #3B4455;\n",
              "      fill: #D2E3FC;\n",
              "    }\n",
              "\n",
              "    [theme=dark] .colab-df-convert:hover {\n",
              "      background-color: #434B5C;\n",
              "      box-shadow: 0px 1px 3px 1px rgba(0, 0, 0, 0.15);\n",
              "      filter: drop-shadow(0px 1px 2px rgba(0, 0, 0, 0.3));\n",
              "      fill: #FFFFFF;\n",
              "    }\n",
              "  </style>\n",
              "\n",
              "      <script>\n",
              "        const buttonEl =\n",
              "          document.querySelector('#df-5158193e-c5d8-4eca-992d-7228bad5844b button.colab-df-convert');\n",
              "        buttonEl.style.display =\n",
              "          google.colab.kernel.accessAllowed ? 'block' : 'none';\n",
              "\n",
              "        async function convertToInteractive(key) {\n",
              "          const element = document.querySelector('#df-5158193e-c5d8-4eca-992d-7228bad5844b');\n",
              "          const dataTable =\n",
              "            await google.colab.kernel.invokeFunction('convertToInteractive',\n",
              "                                                     [key], {});\n",
              "          if (!dataTable) return;\n",
              "\n",
              "          const docLinkHtml = 'Like what you see? Visit the ' +\n",
              "            '<a target=\"_blank\" href=https://colab.research.google.com/notebooks/data_table.ipynb>data table notebook</a>'\n",
              "            + ' to learn more about interactive tables.';\n",
              "          element.innerHTML = '';\n",
              "          dataTable['output_type'] = 'display_data';\n",
              "          await google.colab.output.renderOutput(dataTable, element);\n",
              "          const docLink = document.createElement('div');\n",
              "          docLink.innerHTML = docLinkHtml;\n",
              "          element.appendChild(docLink);\n",
              "        }\n",
              "      </script>\n",
              "    </div>\n",
              "  </div>\n",
              "  "
            ]
          },
          "metadata": {},
          "execution_count": 257
        }
      ],
      "source": [
        "df_descrip['property_description'] = df_descrip['property_description'].replace(['{','}','\\[',']','\\(','\\)'],'', regex=True)\n",
        "df_descrip['property_description'] = df_descrip['property_description'].replace('<br>','\\n', regex=True)\n",
        "df_descrip.head(10)"
      ]
    },
    {
      "cell_type": "markdown",
      "metadata": {
        "id": "AV4A6SV613ay"
      },
      "source": [
        "Generamos un archivo txt, que contiene las descripciones (solo 100, ya que sino demora muchisimo, fuimos tomando varias muestras aleatorias) sin nulos y sin caracteres que generen conflictos con las expresiones regulares"
      ]
    },
    {
      "cell_type": "code",
      "execution_count": 258,
      "metadata": {
        "id": "60-2KrzHJLsF"
      },
      "outputs": [],
      "source": [
        "with open(\"descripciones.txt\", \"w\") as file_out:\n",
        "  file_out.write('\\n'.join(df_descrip['property_description'].head(100)))"
      ]
    },
    {
      "cell_type": "markdown",
      "metadata": {
        "id": "L99cmfB62Ixf"
      },
      "source": [
        "Este archivo es procesado con ECMes localmente, obteniendo relaciones que nos permitieron extraer palabras claves para generar nuevas columnas de datos"
      ]
    },
    {
      "cell_type": "markdown",
      "source": [
        "Una vez analizados los resultados obtenidos, decidimos crear las siguientes columnas, utilizando como herramienta expresiones regulares, findall especificamente"
      ],
      "metadata": {
        "id": "rImTKJnSby96"
      }
    },
    {
      "cell_type": "markdown",
      "metadata": {
        "id": "_9GRa1u106aj"
      },
      "source": [
        "Columna nueva, indica si el aviso posee pileta/piscina"
      ]
    },
    {
      "cell_type": "code",
      "execution_count": 259,
      "metadata": {
        "id": "3nndLPkSi659"
      },
      "outputs": [],
      "source": [
        "df_descrip['tiene_pileta'] = df_descrip['property_description'].str.findall('pileta | piscina', flags=re.IGNORECASE)\n",
        "df_descrip['tiene_pileta'] = np.where(df_descrip['tiene_pileta'], 1, 0)"
      ]
    },
    {
      "cell_type": "markdown",
      "metadata": {
        "id": "lWMEaKgL1KL9"
      },
      "source": [
        "Columna nueva, indica si el aviso posee parrilla"
      ]
    },
    {
      "cell_type": "code",
      "execution_count": 260,
      "metadata": {
        "id": "THLxzGryzB9X"
      },
      "outputs": [],
      "source": [
        "df_descrip['tiene_parrilla'] = df_descrip['property_description'].str.findall('parrilla', flags=re.IGNORECASE)\n",
        "df_descrip['tiene_parrilla'] = np.where(df_descrip['tiene_parrilla'], 1, 0)"
      ]
    },
    {
      "cell_type": "markdown",
      "metadata": {
        "id": "nNbK-OEe1LFm"
      },
      "source": [
        "Columna nueva, indica si el aviso posee cochera"
      ]
    },
    {
      "cell_type": "code",
      "execution_count": 261,
      "metadata": {
        "id": "guNvlWLjzCRg"
      },
      "outputs": [],
      "source": [
        "df_descrip['tiene_cochera'] = df_descrip['property_description'].str.findall('cochera', flags=re.IGNORECASE)\n",
        "df_descrip['tiene_cochera'] = np.where(df_descrip['tiene_cochera'], 1, 0)"
      ]
    },
    {
      "cell_type": "markdown",
      "metadata": {
        "id": "7Ec8eWTh1Ls-"
      },
      "source": [
        "Columna nueva, indica si el aviso posee terraza/balcón"
      ]
    },
    {
      "cell_type": "code",
      "execution_count": 262,
      "metadata": {
        "id": "WG9b01CgzPV4"
      },
      "outputs": [],
      "source": [
        "df_descrip['tiene_terraza'] = df_descrip['property_description'].str.findall('terraza|balcon', flags=re.IGNORECASE)\n",
        "df_descrip['tiene_terraza'] = np.where(df_descrip['tiene_terraza'], 1, 0)"
      ]
    },
    {
      "cell_type": "markdown",
      "source": [
        "Columna nueva, indica si el aviso posee o no expensas, o si son bajas ('Sin expensas', 'Bajas expensas' o 'Con expensas')"
      ],
      "metadata": {
        "id": "1fEN_X0FWNIZ"
      }
    },
    {
      "cell_type": "markdown",
      "source": [
        "Columna que identifica todos los avisos que contienen alguna descripcion vinculada a las expensas"
      ],
      "metadata": {
        "id": "9to4QYsmPuIf"
      }
    },
    {
      "cell_type": "code",
      "source": [
        "df_descrip['con_expensas'] = df_descrip['property_description'].str.findall('expensas | expensa', flags=re.IGNORECASE)\n",
        "df_descrip['con_expensas'] = np.where((df_descrip['con_expensas'].str.len() != 0), 'Con expensas', '')"
      ],
      "metadata": {
        "id": "vbIGjtf8WMJL"
      },
      "execution_count": 263,
      "outputs": []
    },
    {
      "cell_type": "markdown",
      "source": [
        "Luego creamos una columna que identifica los avisos con \"Bajas\" expensas"
      ],
      "metadata": {
        "id": "WmH-bei-QH8_"
      }
    },
    {
      "cell_type": "code",
      "source": [
        "df_descrip['bajas_expensas'] = df_descrip['property_description'].str.findall('bajas expensas|expensas bajas', flags=re.IGNORECASE)\n",
        "df_descrip['bajas_expensas'] = np.where((df_descrip['bajas_expensas'].str.len() != 0), 'Bajas expensas', '')"
      ],
      "metadata": {
        "id": "XgWXWzUmXlYv"
      },
      "execution_count": 264,
      "outputs": []
    },
    {
      "cell_type": "markdown",
      "source": [
        "Finalmente, una que contiene los avisos de lugares \"Sin\" expensas"
      ],
      "metadata": {
        "id": "O2dEA43JQP9B"
      }
    },
    {
      "cell_type": "code",
      "source": [
        "df_descrip['sin_expensas'] = df_descrip['property_description'].str.findall('sin expensas|expensas $0|expensas $ 0', flags=re.IGNORECASE)\n",
        "df_descrip['sin_expensas'] = np.where((df_descrip['sin_expensas'].str.len() != 0), 'Sin expensas', '')"
      ],
      "metadata": {
        "id": "dxHKIXfhzMKe"
      },
      "execution_count": 265,
      "outputs": []
    },
    {
      "cell_type": "markdown",
      "source": [
        "Por ultimo concatenamos las 3 nuevas columnas, y dejamos la celda vacia ('') en caso de que no se haga referencia a las expensas "
      ],
      "metadata": {
        "id": "ngtp92upQan7"
      }
    },
    {
      "cell_type": "code",
      "source": [
        "df_descrip['expensas'] = df_descrip['bajas_expensas'] + df_descrip['sin_expensas']\n",
        "\n",
        "# Se concatena solo en los casos donde hay '', ya que sino se sobreescribirian los demás valores\n",
        "df_descrip['expensas'] = df_descrip[['expensas','con_expensas']].sum(axis=1).where(df_descrip['expensas'] == '', df_descrip['expensas'])"
      ],
      "metadata": {
        "id": "BU4yDzsbmOEL"
      },
      "execution_count": 266,
      "outputs": []
    },
    {
      "cell_type": "markdown",
      "source": [
        "Eliminamos las columnas de expensas intermedias a la resultante 'expensas'"
      ],
      "metadata": {
        "id": "4OjMT5f3Rxjo"
      }
    },
    {
      "cell_type": "code",
      "source": [
        "df_descrip.drop(['con_expensas', 'sin_expensas', 'bajas_expensas'], axis = 'columns', inplace=True)\n",
        "df_descrip.head(10)"
      ],
      "metadata": {
        "id": "U0--9kRCR-Vm",
        "outputId": "dbe9bbe1-cfda-4d31-a3ac-61159e195d40",
        "colab": {
          "base_uri": "https://localhost:8080/",
          "height": 363
        }
      },
      "execution_count": 267,
      "outputs": [
        {
          "output_type": "execute_result",
          "data": {
            "text/plain": [
              "                         id  \\\n",
              "0  BZCeiGkJr1WBUi6pKJQwJQ==   \n",
              "1  zuHOGgUE0UB71W7m/YCLoA==   \n",
              "2  TUL813tXchVBlHUsfaA6DA==   \n",
              "3  gn55JPmcjftBV/at1a7fPg==   \n",
              "4  qg4m3QHcuo1+wMmyp7kx3Q==   \n",
              "5  XztoBkv1vE+dGuId8GiPyA==   \n",
              "6  JEhUB1WqHYnvkmuPWlDgmg==   \n",
              "7  ucluEQ4sNKNVbwyKJFnaBw==   \n",
              "8  a/LC2bANkFuEJYuHglYSTg==   \n",
              "9  XWCMzAub+1YSpvBCuREdPA==   \n",
              "\n",
              "                                property_description  tiene_pileta  \\\n",
              "0  Corredor Responsable: MARIA ALEJANDRA GENOVEVA...             0   \n",
              "1  ¡HERMOSO PH TIPO CASA DE 2 AMBIENTES!\\nAPTO CR...             0   \n",
              "2  Excelente PH en Núñez 4 amb!!!! Oportunidad !!...             0   \n",
              "3  UNICO PH DE 4 DORMITORIOS EN IMPECABLE ESTADO,...             0   \n",
              "4  Ph 2 Amb. Villa Crespo exclusivo uso profesion...             0   \n",
              "5  Se Vende PH interno, ubicado en excelente barr...             0   \n",
              "6  La propiedad se encuentra ubicada en Gobernado...             1   \n",
              "7  Casa en venta sobre calle Alejandro Magno con ...             1   \n",
              "8  Hermosa Casa en Ph ubicado a 10 cuadras del ce...             0   \n",
              "9  Hermosa casa en PH ubicada en barrio Santa Rit...             0   \n",
              "\n",
              "   tiene_parrilla  tiene_cochera  tiene_terraza        expensas  \n",
              "0               0              0              1  Bajas expensas  \n",
              "1               0              0              0    Sin expensas  \n",
              "2               1              0              1                  \n",
              "3               0              1              1    Sin expensas  \n",
              "4               0              0              0                  \n",
              "5               0              1              0                  \n",
              "6               0              1              0                  \n",
              "7               0              1              0                  \n",
              "8               0              0              1                  \n",
              "9               0              0              0                  "
            ],
            "text/html": [
              "\n",
              "  <div id=\"df-e3f64710-ce71-4c47-a3b9-42e865ccc643\">\n",
              "    <div class=\"colab-df-container\">\n",
              "      <div>\n",
              "<style scoped>\n",
              "    .dataframe tbody tr th:only-of-type {\n",
              "        vertical-align: middle;\n",
              "    }\n",
              "\n",
              "    .dataframe tbody tr th {\n",
              "        vertical-align: top;\n",
              "    }\n",
              "\n",
              "    .dataframe thead th {\n",
              "        text-align: right;\n",
              "    }\n",
              "</style>\n",
              "<table border=\"1\" class=\"dataframe\">\n",
              "  <thead>\n",
              "    <tr style=\"text-align: right;\">\n",
              "      <th></th>\n",
              "      <th>id</th>\n",
              "      <th>property_description</th>\n",
              "      <th>tiene_pileta</th>\n",
              "      <th>tiene_parrilla</th>\n",
              "      <th>tiene_cochera</th>\n",
              "      <th>tiene_terraza</th>\n",
              "      <th>expensas</th>\n",
              "    </tr>\n",
              "  </thead>\n",
              "  <tbody>\n",
              "    <tr>\n",
              "      <th>0</th>\n",
              "      <td>BZCeiGkJr1WBUi6pKJQwJQ==</td>\n",
              "      <td>Corredor Responsable: MARIA ALEJANDRA GENOVEVA...</td>\n",
              "      <td>0</td>\n",
              "      <td>0</td>\n",
              "      <td>0</td>\n",
              "      <td>1</td>\n",
              "      <td>Bajas expensas</td>\n",
              "    </tr>\n",
              "    <tr>\n",
              "      <th>1</th>\n",
              "      <td>zuHOGgUE0UB71W7m/YCLoA==</td>\n",
              "      <td>¡HERMOSO PH TIPO CASA DE 2 AMBIENTES!\\nAPTO CR...</td>\n",
              "      <td>0</td>\n",
              "      <td>0</td>\n",
              "      <td>0</td>\n",
              "      <td>0</td>\n",
              "      <td>Sin expensas</td>\n",
              "    </tr>\n",
              "    <tr>\n",
              "      <th>2</th>\n",
              "      <td>TUL813tXchVBlHUsfaA6DA==</td>\n",
              "      <td>Excelente PH en Núñez 4 amb!!!! Oportunidad !!...</td>\n",
              "      <td>0</td>\n",
              "      <td>1</td>\n",
              "      <td>0</td>\n",
              "      <td>1</td>\n",
              "      <td></td>\n",
              "    </tr>\n",
              "    <tr>\n",
              "      <th>3</th>\n",
              "      <td>gn55JPmcjftBV/at1a7fPg==</td>\n",
              "      <td>UNICO PH DE 4 DORMITORIOS EN IMPECABLE ESTADO,...</td>\n",
              "      <td>0</td>\n",
              "      <td>0</td>\n",
              "      <td>1</td>\n",
              "      <td>1</td>\n",
              "      <td>Sin expensas</td>\n",
              "    </tr>\n",
              "    <tr>\n",
              "      <th>4</th>\n",
              "      <td>qg4m3QHcuo1+wMmyp7kx3Q==</td>\n",
              "      <td>Ph 2 Amb. Villa Crespo exclusivo uso profesion...</td>\n",
              "      <td>0</td>\n",
              "      <td>0</td>\n",
              "      <td>0</td>\n",
              "      <td>0</td>\n",
              "      <td></td>\n",
              "    </tr>\n",
              "    <tr>\n",
              "      <th>5</th>\n",
              "      <td>XztoBkv1vE+dGuId8GiPyA==</td>\n",
              "      <td>Se Vende PH interno, ubicado en excelente barr...</td>\n",
              "      <td>0</td>\n",
              "      <td>0</td>\n",
              "      <td>1</td>\n",
              "      <td>0</td>\n",
              "      <td></td>\n",
              "    </tr>\n",
              "    <tr>\n",
              "      <th>6</th>\n",
              "      <td>JEhUB1WqHYnvkmuPWlDgmg==</td>\n",
              "      <td>La propiedad se encuentra ubicada en Gobernado...</td>\n",
              "      <td>1</td>\n",
              "      <td>0</td>\n",
              "      <td>1</td>\n",
              "      <td>0</td>\n",
              "      <td></td>\n",
              "    </tr>\n",
              "    <tr>\n",
              "      <th>7</th>\n",
              "      <td>ucluEQ4sNKNVbwyKJFnaBw==</td>\n",
              "      <td>Casa en venta sobre calle Alejandro Magno con ...</td>\n",
              "      <td>1</td>\n",
              "      <td>0</td>\n",
              "      <td>1</td>\n",
              "      <td>0</td>\n",
              "      <td></td>\n",
              "    </tr>\n",
              "    <tr>\n",
              "      <th>8</th>\n",
              "      <td>a/LC2bANkFuEJYuHglYSTg==</td>\n",
              "      <td>Hermosa Casa en Ph ubicado a 10 cuadras del ce...</td>\n",
              "      <td>0</td>\n",
              "      <td>0</td>\n",
              "      <td>0</td>\n",
              "      <td>1</td>\n",
              "      <td></td>\n",
              "    </tr>\n",
              "    <tr>\n",
              "      <th>9</th>\n",
              "      <td>XWCMzAub+1YSpvBCuREdPA==</td>\n",
              "      <td>Hermosa casa en PH ubicada en barrio Santa Rit...</td>\n",
              "      <td>0</td>\n",
              "      <td>0</td>\n",
              "      <td>0</td>\n",
              "      <td>0</td>\n",
              "      <td></td>\n",
              "    </tr>\n",
              "  </tbody>\n",
              "</table>\n",
              "</div>\n",
              "      <button class=\"colab-df-convert\" onclick=\"convertToInteractive('df-e3f64710-ce71-4c47-a3b9-42e865ccc643')\"\n",
              "              title=\"Convert this dataframe to an interactive table.\"\n",
              "              style=\"display:none;\">\n",
              "        \n",
              "  <svg xmlns=\"http://www.w3.org/2000/svg\" height=\"24px\"viewBox=\"0 0 24 24\"\n",
              "       width=\"24px\">\n",
              "    <path d=\"M0 0h24v24H0V0z\" fill=\"none\"/>\n",
              "    <path d=\"M18.56 5.44l.94 2.06.94-2.06 2.06-.94-2.06-.94-.94-2.06-.94 2.06-2.06.94zm-11 1L8.5 8.5l.94-2.06 2.06-.94-2.06-.94L8.5 2.5l-.94 2.06-2.06.94zm10 10l.94 2.06.94-2.06 2.06-.94-2.06-.94-.94-2.06-.94 2.06-2.06.94z\"/><path d=\"M17.41 7.96l-1.37-1.37c-.4-.4-.92-.59-1.43-.59-.52 0-1.04.2-1.43.59L10.3 9.45l-7.72 7.72c-.78.78-.78 2.05 0 2.83L4 21.41c.39.39.9.59 1.41.59.51 0 1.02-.2 1.41-.59l7.78-7.78 2.81-2.81c.8-.78.8-2.07 0-2.86zM5.41 20L4 18.59l7.72-7.72 1.47 1.35L5.41 20z\"/>\n",
              "  </svg>\n",
              "      </button>\n",
              "      \n",
              "  <style>\n",
              "    .colab-df-container {\n",
              "      display:flex;\n",
              "      flex-wrap:wrap;\n",
              "      gap: 12px;\n",
              "    }\n",
              "\n",
              "    .colab-df-convert {\n",
              "      background-color: #E8F0FE;\n",
              "      border: none;\n",
              "      border-radius: 50%;\n",
              "      cursor: pointer;\n",
              "      display: none;\n",
              "      fill: #1967D2;\n",
              "      height: 32px;\n",
              "      padding: 0 0 0 0;\n",
              "      width: 32px;\n",
              "    }\n",
              "\n",
              "    .colab-df-convert:hover {\n",
              "      background-color: #E2EBFA;\n",
              "      box-shadow: 0px 1px 2px rgba(60, 64, 67, 0.3), 0px 1px 3px 1px rgba(60, 64, 67, 0.15);\n",
              "      fill: #174EA6;\n",
              "    }\n",
              "\n",
              "    [theme=dark] .colab-df-convert {\n",
              "      background-color: #3B4455;\n",
              "      fill: #D2E3FC;\n",
              "    }\n",
              "\n",
              "    [theme=dark] .colab-df-convert:hover {\n",
              "      background-color: #434B5C;\n",
              "      box-shadow: 0px 1px 3px 1px rgba(0, 0, 0, 0.15);\n",
              "      filter: drop-shadow(0px 1px 2px rgba(0, 0, 0, 0.3));\n",
              "      fill: #FFFFFF;\n",
              "    }\n",
              "  </style>\n",
              "\n",
              "      <script>\n",
              "        const buttonEl =\n",
              "          document.querySelector('#df-e3f64710-ce71-4c47-a3b9-42e865ccc643 button.colab-df-convert');\n",
              "        buttonEl.style.display =\n",
              "          google.colab.kernel.accessAllowed ? 'block' : 'none';\n",
              "\n",
              "        async function convertToInteractive(key) {\n",
              "          const element = document.querySelector('#df-e3f64710-ce71-4c47-a3b9-42e865ccc643');\n",
              "          const dataTable =\n",
              "            await google.colab.kernel.invokeFunction('convertToInteractive',\n",
              "                                                     [key], {});\n",
              "          if (!dataTable) return;\n",
              "\n",
              "          const docLinkHtml = 'Like what you see? Visit the ' +\n",
              "            '<a target=\"_blank\" href=https://colab.research.google.com/notebooks/data_table.ipynb>data table notebook</a>'\n",
              "            + ' to learn more about interactive tables.';\n",
              "          element.innerHTML = '';\n",
              "          dataTable['output_type'] = 'display_data';\n",
              "          await google.colab.output.renderOutput(dataTable, element);\n",
              "          const docLink = document.createElement('div');\n",
              "          docLink.innerHTML = docLinkHtml;\n",
              "          element.appendChild(docLink);\n",
              "        }\n",
              "      </script>\n",
              "    </div>\n",
              "  </div>\n",
              "  "
            ]
          },
          "metadata": {},
          "execution_count": 267
        }
      ]
    },
    {
      "cell_type": "markdown",
      "metadata": {
        "id": "hDdhzeIh4OwQ"
      },
      "source": [
        "Para agregar las columnas nuevas al df preprocesado, joineamos las columnas del dataset de descripciones usando como clave la columna 'id'"
      ]
    },
    {
      "cell_type": "code",
      "execution_count": 268,
      "metadata": {
        "id": "47n_MemC_veb",
        "colab": {
          "base_uri": "https://localhost:8080/",
          "height": 939
        },
        "outputId": "a64ffa46-0f0d-469b-ff00-94fbde7aab3e"
      },
      "outputs": [
        {
          "output_type": "execute_result",
          "data": {
            "text/plain": [
              "                          id    latitud   longitud         place_l2  \\\n",
              "0   VZsvT1lQEuvPqEM4cjT8/g== -34.566536 -58.479638  Capital Federal   \n",
              "1   QlFGJ8qbIENvmMXqW4JbsQ== -34.645625 -58.459408  Capital Federal   \n",
              "2   D9nGcyK9B6vsyeUvuT8qbQ== -34.592460 -58.453428  Capital Federal   \n",
              "3   FLCnXUUffcnknzXIH9pBCg== -34.577033 -58.423367  Capital Federal   \n",
              "4   U1B7lvnYtd4L18Ccb8mvhw== -34.580210 -58.412815  Capital Federal   \n",
              "..                       ...        ...        ...              ...   \n",
              "95  CmzBSYbHVmyVPDKlI+MA7w== -34.592927 -58.443849  Capital Federal   \n",
              "96  uV8HYBPZ40y2IQUm0zCoHw== -34.543026 -58.473482  Capital Federal   \n",
              "97  QTHzIXzZylNJSpu8yKIemw== -34.604960 -58.448139  Capital Federal   \n",
              "98  pt4YRpYfASBQQXT3D9tBpw== -34.596886 -58.403090  Capital Federal   \n",
              "99  uiqkDCMWiQivixjJAlcfRQ== -34.606034 -58.493623  Capital Federal   \n",
              "\n",
              "            place_l3 operation property_type  property_rooms  \\\n",
              "0            Coghlan     Venta  Departamento             2.0   \n",
              "1             Flores     Venta  Departamento             1.0   \n",
              "2          Caballito     Venta  Departamento             2.0   \n",
              "3            Palermo     Venta  Departamento             1.0   \n",
              "4            Palermo     Venta  Departamento             1.0   \n",
              "..               ...       ...           ...             ...   \n",
              "95      Villa Crespo     Venta  Departamento             2.0   \n",
              "96          Saavedra     Venta  Departamento             2.0   \n",
              "97      Villa Crespo     Venta            PH             2.0   \n",
              "98      Barrio Norte     Venta  Departamento             3.0   \n",
              "99  Villa del Parque     Venta  Departamento             2.0   \n",
              "\n",
              "    property_bedrooms  property_surface_total  property_surface_covered  \\\n",
              "0                 1.0                    65.0                      53.0   \n",
              "1                 1.0                    29.0                      29.0   \n",
              "2                 1.0                    41.0                      35.0   \n",
              "3                 1.0                    49.0                      44.0   \n",
              "4                 2.0                   113.2                      78.0   \n",
              "..                ...                     ...                       ...   \n",
              "95                1.0                    30.0                      30.0   \n",
              "96                1.0                    35.0                      35.0   \n",
              "97                1.0                    30.0                      24.0   \n",
              "98                2.0                    74.0                      71.0   \n",
              "99                1.0                    51.0                      44.0   \n",
              "\n",
              "    property_price property_currency  \\\n",
              "0         198000.0               USD   \n",
              "1          63000.0               USD   \n",
              "2          93000.0               USD   \n",
              "3         160000.0               USD   \n",
              "4         290000.0               USD   \n",
              "..             ...               ...   \n",
              "95         69900.0               USD   \n",
              "96         77000.0               USD   \n",
              "97         60000.0               USD   \n",
              "98        169000.0               USD   \n",
              "99         73900.0               USD   \n",
              "\n",
              "                                       property_title  tiene_cochera  \\\n",
              "0                                   1 - Holmberg 2700              1   \n",
              "1   Departamento a estrenar - Edificio con ameniti...              0   \n",
              "2   Departamento de 2 ambientes con balcón aterraz...              0   \n",
              "3   Departamento - Monoambiente - Palermo Nuevo - ...              0   \n",
              "4                             Departamento en Palermo              0   \n",
              "..                                                ...            ...   \n",
              "95                  DARWIN 700 - T/SOL - Villa Crespo              0   \n",
              "96  VENTA 2 AMBIENTES OPORTUNIDAD LUZ SAAVEDRA TER...              0   \n",
              "97          PH MUY LUMINOSO-2 AMB - PB - VILLA CRESPO              0   \n",
              "98  Departamento 3 ambientes con balcón A ESTRENAR...              0   \n",
              "99  VENTA - Departamento - 2 Ambientes - 2 patios ...              0   \n",
              "\n",
              "    tiene_parrilla  tiene_pileta  tiene_terraza      expensas  \n",
              "0                1             1              1                \n",
              "1                1             1              0                \n",
              "2                0             0              1  Con expensas  \n",
              "3                1             1              1                \n",
              "4                0             0              0                \n",
              "..             ...           ...            ...           ...  \n",
              "95               0             0              0                \n",
              "96               1             0              1  Con expensas  \n",
              "97               0             0              0  Con expensas  \n",
              "98               0             0              0                \n",
              "99               0             0              0                \n",
              "\n",
              "[100 rows x 19 columns]"
            ],
            "text/html": [
              "\n",
              "  <div id=\"df-f8d9de7e-109e-4a8d-86d8-7857c9f6fa17\">\n",
              "    <div class=\"colab-df-container\">\n",
              "      <div>\n",
              "<style scoped>\n",
              "    .dataframe tbody tr th:only-of-type {\n",
              "        vertical-align: middle;\n",
              "    }\n",
              "\n",
              "    .dataframe tbody tr th {\n",
              "        vertical-align: top;\n",
              "    }\n",
              "\n",
              "    .dataframe thead th {\n",
              "        text-align: right;\n",
              "    }\n",
              "</style>\n",
              "<table border=\"1\" class=\"dataframe\">\n",
              "  <thead>\n",
              "    <tr style=\"text-align: right;\">\n",
              "      <th></th>\n",
              "      <th>id</th>\n",
              "      <th>latitud</th>\n",
              "      <th>longitud</th>\n",
              "      <th>place_l2</th>\n",
              "      <th>place_l3</th>\n",
              "      <th>operation</th>\n",
              "      <th>property_type</th>\n",
              "      <th>property_rooms</th>\n",
              "      <th>property_bedrooms</th>\n",
              "      <th>property_surface_total</th>\n",
              "      <th>property_surface_covered</th>\n",
              "      <th>property_price</th>\n",
              "      <th>property_currency</th>\n",
              "      <th>property_title</th>\n",
              "      <th>tiene_cochera</th>\n",
              "      <th>tiene_parrilla</th>\n",
              "      <th>tiene_pileta</th>\n",
              "      <th>tiene_terraza</th>\n",
              "      <th>expensas</th>\n",
              "    </tr>\n",
              "  </thead>\n",
              "  <tbody>\n",
              "    <tr>\n",
              "      <th>0</th>\n",
              "      <td>VZsvT1lQEuvPqEM4cjT8/g==</td>\n",
              "      <td>-34.566536</td>\n",
              "      <td>-58.479638</td>\n",
              "      <td>Capital Federal</td>\n",
              "      <td>Coghlan</td>\n",
              "      <td>Venta</td>\n",
              "      <td>Departamento</td>\n",
              "      <td>2.0</td>\n",
              "      <td>1.0</td>\n",
              "      <td>65.0</td>\n",
              "      <td>53.0</td>\n",
              "      <td>198000.0</td>\n",
              "      <td>USD</td>\n",
              "      <td>1 - Holmberg 2700</td>\n",
              "      <td>1</td>\n",
              "      <td>1</td>\n",
              "      <td>1</td>\n",
              "      <td>1</td>\n",
              "      <td></td>\n",
              "    </tr>\n",
              "    <tr>\n",
              "      <th>1</th>\n",
              "      <td>QlFGJ8qbIENvmMXqW4JbsQ==</td>\n",
              "      <td>-34.645625</td>\n",
              "      <td>-58.459408</td>\n",
              "      <td>Capital Federal</td>\n",
              "      <td>Flores</td>\n",
              "      <td>Venta</td>\n",
              "      <td>Departamento</td>\n",
              "      <td>1.0</td>\n",
              "      <td>1.0</td>\n",
              "      <td>29.0</td>\n",
              "      <td>29.0</td>\n",
              "      <td>63000.0</td>\n",
              "      <td>USD</td>\n",
              "      <td>Departamento a estrenar - Edificio con ameniti...</td>\n",
              "      <td>0</td>\n",
              "      <td>1</td>\n",
              "      <td>1</td>\n",
              "      <td>0</td>\n",
              "      <td></td>\n",
              "    </tr>\n",
              "    <tr>\n",
              "      <th>2</th>\n",
              "      <td>D9nGcyK9B6vsyeUvuT8qbQ==</td>\n",
              "      <td>-34.592460</td>\n",
              "      <td>-58.453428</td>\n",
              "      <td>Capital Federal</td>\n",
              "      <td>Caballito</td>\n",
              "      <td>Venta</td>\n",
              "      <td>Departamento</td>\n",
              "      <td>2.0</td>\n",
              "      <td>1.0</td>\n",
              "      <td>41.0</td>\n",
              "      <td>35.0</td>\n",
              "      <td>93000.0</td>\n",
              "      <td>USD</td>\n",
              "      <td>Departamento de 2 ambientes con balcón aterraz...</td>\n",
              "      <td>0</td>\n",
              "      <td>0</td>\n",
              "      <td>0</td>\n",
              "      <td>1</td>\n",
              "      <td>Con expensas</td>\n",
              "    </tr>\n",
              "    <tr>\n",
              "      <th>3</th>\n",
              "      <td>FLCnXUUffcnknzXIH9pBCg==</td>\n",
              "      <td>-34.577033</td>\n",
              "      <td>-58.423367</td>\n",
              "      <td>Capital Federal</td>\n",
              "      <td>Palermo</td>\n",
              "      <td>Venta</td>\n",
              "      <td>Departamento</td>\n",
              "      <td>1.0</td>\n",
              "      <td>1.0</td>\n",
              "      <td>49.0</td>\n",
              "      <td>44.0</td>\n",
              "      <td>160000.0</td>\n",
              "      <td>USD</td>\n",
              "      <td>Departamento - Monoambiente - Palermo Nuevo - ...</td>\n",
              "      <td>0</td>\n",
              "      <td>1</td>\n",
              "      <td>1</td>\n",
              "      <td>1</td>\n",
              "      <td></td>\n",
              "    </tr>\n",
              "    <tr>\n",
              "      <th>4</th>\n",
              "      <td>U1B7lvnYtd4L18Ccb8mvhw==</td>\n",
              "      <td>-34.580210</td>\n",
              "      <td>-58.412815</td>\n",
              "      <td>Capital Federal</td>\n",
              "      <td>Palermo</td>\n",
              "      <td>Venta</td>\n",
              "      <td>Departamento</td>\n",
              "      <td>1.0</td>\n",
              "      <td>2.0</td>\n",
              "      <td>113.2</td>\n",
              "      <td>78.0</td>\n",
              "      <td>290000.0</td>\n",
              "      <td>USD</td>\n",
              "      <td>Departamento en Palermo</td>\n",
              "      <td>0</td>\n",
              "      <td>0</td>\n",
              "      <td>0</td>\n",
              "      <td>0</td>\n",
              "      <td></td>\n",
              "    </tr>\n",
              "    <tr>\n",
              "      <th>...</th>\n",
              "      <td>...</td>\n",
              "      <td>...</td>\n",
              "      <td>...</td>\n",
              "      <td>...</td>\n",
              "      <td>...</td>\n",
              "      <td>...</td>\n",
              "      <td>...</td>\n",
              "      <td>...</td>\n",
              "      <td>...</td>\n",
              "      <td>...</td>\n",
              "      <td>...</td>\n",
              "      <td>...</td>\n",
              "      <td>...</td>\n",
              "      <td>...</td>\n",
              "      <td>...</td>\n",
              "      <td>...</td>\n",
              "      <td>...</td>\n",
              "      <td>...</td>\n",
              "      <td>...</td>\n",
              "    </tr>\n",
              "    <tr>\n",
              "      <th>95</th>\n",
              "      <td>CmzBSYbHVmyVPDKlI+MA7w==</td>\n",
              "      <td>-34.592927</td>\n",
              "      <td>-58.443849</td>\n",
              "      <td>Capital Federal</td>\n",
              "      <td>Villa Crespo</td>\n",
              "      <td>Venta</td>\n",
              "      <td>Departamento</td>\n",
              "      <td>2.0</td>\n",
              "      <td>1.0</td>\n",
              "      <td>30.0</td>\n",
              "      <td>30.0</td>\n",
              "      <td>69900.0</td>\n",
              "      <td>USD</td>\n",
              "      <td>DARWIN 700 - T/SOL - Villa Crespo</td>\n",
              "      <td>0</td>\n",
              "      <td>0</td>\n",
              "      <td>0</td>\n",
              "      <td>0</td>\n",
              "      <td></td>\n",
              "    </tr>\n",
              "    <tr>\n",
              "      <th>96</th>\n",
              "      <td>uV8HYBPZ40y2IQUm0zCoHw==</td>\n",
              "      <td>-34.543026</td>\n",
              "      <td>-58.473482</td>\n",
              "      <td>Capital Federal</td>\n",
              "      <td>Saavedra</td>\n",
              "      <td>Venta</td>\n",
              "      <td>Departamento</td>\n",
              "      <td>2.0</td>\n",
              "      <td>1.0</td>\n",
              "      <td>35.0</td>\n",
              "      <td>35.0</td>\n",
              "      <td>77000.0</td>\n",
              "      <td>USD</td>\n",
              "      <td>VENTA 2 AMBIENTES OPORTUNIDAD LUZ SAAVEDRA TER...</td>\n",
              "      <td>0</td>\n",
              "      <td>1</td>\n",
              "      <td>0</td>\n",
              "      <td>1</td>\n",
              "      <td>Con expensas</td>\n",
              "    </tr>\n",
              "    <tr>\n",
              "      <th>97</th>\n",
              "      <td>QTHzIXzZylNJSpu8yKIemw==</td>\n",
              "      <td>-34.604960</td>\n",
              "      <td>-58.448139</td>\n",
              "      <td>Capital Federal</td>\n",
              "      <td>Villa Crespo</td>\n",
              "      <td>Venta</td>\n",
              "      <td>PH</td>\n",
              "      <td>2.0</td>\n",
              "      <td>1.0</td>\n",
              "      <td>30.0</td>\n",
              "      <td>24.0</td>\n",
              "      <td>60000.0</td>\n",
              "      <td>USD</td>\n",
              "      <td>PH MUY LUMINOSO-2 AMB - PB - VILLA CRESPO</td>\n",
              "      <td>0</td>\n",
              "      <td>0</td>\n",
              "      <td>0</td>\n",
              "      <td>0</td>\n",
              "      <td>Con expensas</td>\n",
              "    </tr>\n",
              "    <tr>\n",
              "      <th>98</th>\n",
              "      <td>pt4YRpYfASBQQXT3D9tBpw==</td>\n",
              "      <td>-34.596886</td>\n",
              "      <td>-58.403090</td>\n",
              "      <td>Capital Federal</td>\n",
              "      <td>Barrio Norte</td>\n",
              "      <td>Venta</td>\n",
              "      <td>Departamento</td>\n",
              "      <td>3.0</td>\n",
              "      <td>2.0</td>\n",
              "      <td>74.0</td>\n",
              "      <td>71.0</td>\n",
              "      <td>169000.0</td>\n",
              "      <td>USD</td>\n",
              "      <td>Departamento 3 ambientes con balcón A ESTRENAR...</td>\n",
              "      <td>0</td>\n",
              "      <td>0</td>\n",
              "      <td>0</td>\n",
              "      <td>0</td>\n",
              "      <td></td>\n",
              "    </tr>\n",
              "    <tr>\n",
              "      <th>99</th>\n",
              "      <td>uiqkDCMWiQivixjJAlcfRQ==</td>\n",
              "      <td>-34.606034</td>\n",
              "      <td>-58.493623</td>\n",
              "      <td>Capital Federal</td>\n",
              "      <td>Villa del Parque</td>\n",
              "      <td>Venta</td>\n",
              "      <td>Departamento</td>\n",
              "      <td>2.0</td>\n",
              "      <td>1.0</td>\n",
              "      <td>51.0</td>\n",
              "      <td>44.0</td>\n",
              "      <td>73900.0</td>\n",
              "      <td>USD</td>\n",
              "      <td>VENTA - Departamento - 2 Ambientes - 2 patios ...</td>\n",
              "      <td>0</td>\n",
              "      <td>0</td>\n",
              "      <td>0</td>\n",
              "      <td>0</td>\n",
              "      <td></td>\n",
              "    </tr>\n",
              "  </tbody>\n",
              "</table>\n",
              "<p>100 rows × 19 columns</p>\n",
              "</div>\n",
              "      <button class=\"colab-df-convert\" onclick=\"convertToInteractive('df-f8d9de7e-109e-4a8d-86d8-7857c9f6fa17')\"\n",
              "              title=\"Convert this dataframe to an interactive table.\"\n",
              "              style=\"display:none;\">\n",
              "        \n",
              "  <svg xmlns=\"http://www.w3.org/2000/svg\" height=\"24px\"viewBox=\"0 0 24 24\"\n",
              "       width=\"24px\">\n",
              "    <path d=\"M0 0h24v24H0V0z\" fill=\"none\"/>\n",
              "    <path d=\"M18.56 5.44l.94 2.06.94-2.06 2.06-.94-2.06-.94-.94-2.06-.94 2.06-2.06.94zm-11 1L8.5 8.5l.94-2.06 2.06-.94-2.06-.94L8.5 2.5l-.94 2.06-2.06.94zm10 10l.94 2.06.94-2.06 2.06-.94-2.06-.94-.94-2.06-.94 2.06-2.06.94z\"/><path d=\"M17.41 7.96l-1.37-1.37c-.4-.4-.92-.59-1.43-.59-.52 0-1.04.2-1.43.59L10.3 9.45l-7.72 7.72c-.78.78-.78 2.05 0 2.83L4 21.41c.39.39.9.59 1.41.59.51 0 1.02-.2 1.41-.59l7.78-7.78 2.81-2.81c.8-.78.8-2.07 0-2.86zM5.41 20L4 18.59l7.72-7.72 1.47 1.35L5.41 20z\"/>\n",
              "  </svg>\n",
              "      </button>\n",
              "      \n",
              "  <style>\n",
              "    .colab-df-container {\n",
              "      display:flex;\n",
              "      flex-wrap:wrap;\n",
              "      gap: 12px;\n",
              "    }\n",
              "\n",
              "    .colab-df-convert {\n",
              "      background-color: #E8F0FE;\n",
              "      border: none;\n",
              "      border-radius: 50%;\n",
              "      cursor: pointer;\n",
              "      display: none;\n",
              "      fill: #1967D2;\n",
              "      height: 32px;\n",
              "      padding: 0 0 0 0;\n",
              "      width: 32px;\n",
              "    }\n",
              "\n",
              "    .colab-df-convert:hover {\n",
              "      background-color: #E2EBFA;\n",
              "      box-shadow: 0px 1px 2px rgba(60, 64, 67, 0.3), 0px 1px 3px 1px rgba(60, 64, 67, 0.15);\n",
              "      fill: #174EA6;\n",
              "    }\n",
              "\n",
              "    [theme=dark] .colab-df-convert {\n",
              "      background-color: #3B4455;\n",
              "      fill: #D2E3FC;\n",
              "    }\n",
              "\n",
              "    [theme=dark] .colab-df-convert:hover {\n",
              "      background-color: #434B5C;\n",
              "      box-shadow: 0px 1px 3px 1px rgba(0, 0, 0, 0.15);\n",
              "      filter: drop-shadow(0px 1px 2px rgba(0, 0, 0, 0.3));\n",
              "      fill: #FFFFFF;\n",
              "    }\n",
              "  </style>\n",
              "\n",
              "      <script>\n",
              "        const buttonEl =\n",
              "          document.querySelector('#df-f8d9de7e-109e-4a8d-86d8-7857c9f6fa17 button.colab-df-convert');\n",
              "        buttonEl.style.display =\n",
              "          google.colab.kernel.accessAllowed ? 'block' : 'none';\n",
              "\n",
              "        async function convertToInteractive(key) {\n",
              "          const element = document.querySelector('#df-f8d9de7e-109e-4a8d-86d8-7857c9f6fa17');\n",
              "          const dataTable =\n",
              "            await google.colab.kernel.invokeFunction('convertToInteractive',\n",
              "                                                     [key], {});\n",
              "          if (!dataTable) return;\n",
              "\n",
              "          const docLinkHtml = 'Like what you see? Visit the ' +\n",
              "            '<a target=\"_blank\" href=https://colab.research.google.com/notebooks/data_table.ipynb>data table notebook</a>'\n",
              "            + ' to learn more about interactive tables.';\n",
              "          element.innerHTML = '';\n",
              "          dataTable['output_type'] = 'display_data';\n",
              "          await google.colab.output.renderOutput(dataTable, element);\n",
              "          const docLink = document.createElement('div');\n",
              "          docLink.innerHTML = docLinkHtml;\n",
              "          element.appendChild(docLink);\n",
              "        }\n",
              "      </script>\n",
              "    </div>\n",
              "  </div>\n",
              "  "
            ]
          },
          "metadata": {},
          "execution_count": 268
        }
      ],
      "source": [
        "df_ampliado_train = pd.merge(df_train, df_descrip[['tiene_cochera','tiene_parrilla','tiene_pileta','tiene_terraza','expensas','id']], on='id')\n",
        "df_ampliado_test = pd.merge(df_test, df_descrip[['tiene_cochera','tiene_parrilla','tiene_pileta','tiene_terraza','expensas','id']], on='id')\n",
        "\n",
        "# Borramos columna innecesaria\n",
        "df_ampliado_train.drop(['Unnamed: 0'], axis = 'columns', inplace=True)\n",
        "df_ampliado_test.drop(['Unnamed: 0'], axis = 'columns', inplace=True)\n",
        "df_ampliado_train.head(100)"
      ]
    },
    {
      "cell_type": "markdown",
      "source": [
        "##Guardamos el dataset ampliado"
      ],
      "metadata": {
        "id": "hV1py8DMchhF"
      }
    },
    {
      "cell_type": "code",
      "source": [
        "df_ampliado_train.to_csv(\"df_ampliado_train.csv\");\n",
        "df_ampliado_test.to_csv(\"df_ampliado_test.csv\");"
      ],
      "metadata": {
        "id": "8s63Ck2Rcr5H"
      },
      "execution_count": 270,
      "outputs": []
    }
  ],
  "metadata": {
    "colab": {
      "provenance": [],
      "mount_file_id": "1-llrgVq2QiQR327hq80WgEaFrLCnx1qV",
      "authorship_tag": "ABX9TyOWIJeVa8BJXnCtXVrpRXDs",
      "include_colab_link": true
    },
    "kernelspec": {
      "display_name": "Python 3",
      "name": "python3"
    },
    "language_info": {
      "name": "python"
    }
  },
  "nbformat": 4,
  "nbformat_minor": 0
}