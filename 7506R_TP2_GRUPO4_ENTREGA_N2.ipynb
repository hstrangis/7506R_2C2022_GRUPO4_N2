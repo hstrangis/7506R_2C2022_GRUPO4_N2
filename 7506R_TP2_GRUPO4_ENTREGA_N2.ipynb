{
  "cells": [
    {
      "cell_type": "markdown",
      "metadata": {
        "id": "view-in-github",
        "colab_type": "text"
      },
      "source": [
        "<a href=\"https://colab.research.google.com/github/hstrangis/7506R_2C2022_GRUPO4_N2/blob/main/7506R_TP2_GRUPO4_ENTREGA_N2.ipynb\" target=\"_parent\"><img src=\"https://colab.research.google.com/assets/colab-badge.svg\" alt=\"Open In Colab\"/></a>"
      ]
    },
    {
      "cell_type": "markdown",
      "metadata": {
        "id": "lGseJZJxSH9e"
      },
      "source": [
        "# Trabajo práctico 2: Propiedades en venta\n",
        "# Grupo 4"
      ]
    },
    {
      "cell_type": "markdown",
      "metadata": {
        "id": "TJiVLaVYZDkt"
      },
      "source": [
        "### Integrantes\n",
        "### 106963\t- Matias Daniel Rueda\n",
        "### 96407 - Nicolás Hernán Strangis\n",
        "### 93525 - Miguel Centellas Leon"
      ]
    },
    {
      "cell_type": "markdown",
      "metadata": {
        "id": "EoyIaosDkW9e"
      },
      "source": [
        "# Imports y setup"
      ]
    },
    {
      "cell_type": "markdown",
      "metadata": {
        "id": "b0dKUj0Wltwq"
      },
      "source": [
        "Importación e instalación de librerías y paquetes necesarios"
      ]
    },
    {
      "cell_type": "code",
      "execution_count": null,
      "metadata": {
        "id": "HAcbMnVuSiY3"
      },
      "outputs": [],
      "source": [
        "import pandas as pd\n",
        "import matplotlib.pyplot as plt\n",
        "from google.colab import drive\n",
        "import seaborn as sns\n",
        "import numpy as np\n",
        "import folium\n",
        "import matplotlib\n",
        "import joblib\n",
        "import re\n",
        "\n",
        "from sklearn.model_selection import train_test_split"
      ]
    },
    {
      "cell_type": "code",
      "execution_count": null,
      "metadata": {
        "colab": {
          "base_uri": "https://localhost:8080/"
        },
        "id": "4VuXc1dPSrTP",
        "outputId": "80f990b0-773b-41b6-a0bf-805d663f097e"
      },
      "outputs": [
        {
          "output_type": "stream",
          "name": "stdout",
          "text": [
            "Mounted at /content/drive\n"
          ]
        }
      ],
      "source": [
        "drive.mount('/content/drive')"
      ]
    },
    {
      "cell_type": "code",
      "execution_count": null,
      "metadata": {
        "id": "svrVxz5BSuD3"
      },
      "outputs": [],
      "source": [
        "df_test = pd.read_csv(\"/content/drive/MyDrive/datasets/df_test_post_preprocesamiento.csv\")\n",
        "df_train = pd.read_csv(\"/content/drive/MyDrive/datasets/df_train_post_preprocesamiento.csv\")\n",
        "df_original = pd.read_csv(\"/content/drive/MyDrive/datasets/properati_argentina_2021.csv\")"
      ]
    },
    {
      "cell_type": "code",
      "execution_count": null,
      "metadata": {
        "colab": {
          "base_uri": "https://localhost:8080/"
        },
        "id": "393tLD6xTA_I",
        "outputId": "f8cb3a6a-8e8e-4fe5-836f-ad3ec1326c9a"
      },
      "outputs": [
        {
          "output_type": "stream",
          "name": "stderr",
          "text": [
            "/usr/local/lib/python3.8/dist-packages/IPython/core/interactiveshell.py:3326: FutureWarning: The error_bad_lines argument has been deprecated and will be removed in a future version.\n",
            "\n",
            "\n",
            "  exec(code_obj, self.user_global_ns, self.user_ns)\n"
          ]
        }
      ],
      "source": [
        "df_descrip = pd.read_csv(\"/content/drive/MyDrive/datasets/properati_argentina_2021_decrip.csv\", engine='python', encoding='utf-8', error_bad_lines=False)"
      ]
    },
    {
      "cell_type": "markdown",
      "source": [
        "#Procesamiento del lenguaje natural\n"
      ],
      "metadata": {
        "id": "ayCSsO_-WyzQ"
      }
    },
    {
      "cell_type": "markdown",
      "metadata": {
        "id": "ab8MsLzaI14A"
      },
      "source": [
        "##a) Ampliación del dataset"
      ]
    },
    {
      "cell_type": "code",
      "execution_count": null,
      "metadata": {
        "colab": {
          "base_uri": "https://localhost:8080/",
          "height": 206
        },
        "id": "UpwxobJkSkzi",
        "outputId": "b5cb73e6-3bcb-45c0-c2ce-d91cb03eb620"
      },
      "outputs": [
        {
          "output_type": "execute_result",
          "data": {
            "text/plain": [
              "                         id                               property_description\n",
              "0  BZCeiGkJr1WBUi6pKJQwJQ==  Corredor Responsable: MARIA ALEJANDRA GENOVEVA...\n",
              "1  zuHOGgUE0UB71W7m/YCLoA==  ¡HERMOSO PH TIPO CASA DE 2 AMBIENTES!\\nAPTO CR...\n",
              "2  TUL813tXchVBlHUsfaA6DA==  Excelente PH en Núñez 4 amb!!!! Oportunidad !!...\n",
              "3  gn55JPmcjftBV/at1a7fPg==  UNICO PH DE 4 DORMITORIOS EN IMPECABLE ESTADO,...\n",
              "4  qg4m3QHcuo1+wMmyp7kx3Q==  Ph 2 Amb. Villa Crespo exclusivo uso profesion..."
            ],
            "text/html": [
              "\n",
              "  <div id=\"df-272b45b7-70bd-451e-88e4-46f8d689de46\">\n",
              "    <div class=\"colab-df-container\">\n",
              "      <div>\n",
              "<style scoped>\n",
              "    .dataframe tbody tr th:only-of-type {\n",
              "        vertical-align: middle;\n",
              "    }\n",
              "\n",
              "    .dataframe tbody tr th {\n",
              "        vertical-align: top;\n",
              "    }\n",
              "\n",
              "    .dataframe thead th {\n",
              "        text-align: right;\n",
              "    }\n",
              "</style>\n",
              "<table border=\"1\" class=\"dataframe\">\n",
              "  <thead>\n",
              "    <tr style=\"text-align: right;\">\n",
              "      <th></th>\n",
              "      <th>id</th>\n",
              "      <th>property_description</th>\n",
              "    </tr>\n",
              "  </thead>\n",
              "  <tbody>\n",
              "    <tr>\n",
              "      <th>0</th>\n",
              "      <td>BZCeiGkJr1WBUi6pKJQwJQ==</td>\n",
              "      <td>Corredor Responsable: MARIA ALEJANDRA GENOVEVA...</td>\n",
              "    </tr>\n",
              "    <tr>\n",
              "      <th>1</th>\n",
              "      <td>zuHOGgUE0UB71W7m/YCLoA==</td>\n",
              "      <td>¡HERMOSO PH TIPO CASA DE 2 AMBIENTES!\\nAPTO CR...</td>\n",
              "    </tr>\n",
              "    <tr>\n",
              "      <th>2</th>\n",
              "      <td>TUL813tXchVBlHUsfaA6DA==</td>\n",
              "      <td>Excelente PH en Núñez 4 amb!!!! Oportunidad !!...</td>\n",
              "    </tr>\n",
              "    <tr>\n",
              "      <th>3</th>\n",
              "      <td>gn55JPmcjftBV/at1a7fPg==</td>\n",
              "      <td>UNICO PH DE 4 DORMITORIOS EN IMPECABLE ESTADO,...</td>\n",
              "    </tr>\n",
              "    <tr>\n",
              "      <th>4</th>\n",
              "      <td>qg4m3QHcuo1+wMmyp7kx3Q==</td>\n",
              "      <td>Ph 2 Amb. Villa Crespo exclusivo uso profesion...</td>\n",
              "    </tr>\n",
              "  </tbody>\n",
              "</table>\n",
              "</div>\n",
              "      <button class=\"colab-df-convert\" onclick=\"convertToInteractive('df-272b45b7-70bd-451e-88e4-46f8d689de46')\"\n",
              "              title=\"Convert this dataframe to an interactive table.\"\n",
              "              style=\"display:none;\">\n",
              "        \n",
              "  <svg xmlns=\"http://www.w3.org/2000/svg\" height=\"24px\"viewBox=\"0 0 24 24\"\n",
              "       width=\"24px\">\n",
              "    <path d=\"M0 0h24v24H0V0z\" fill=\"none\"/>\n",
              "    <path d=\"M18.56 5.44l.94 2.06.94-2.06 2.06-.94-2.06-.94-.94-2.06-.94 2.06-2.06.94zm-11 1L8.5 8.5l.94-2.06 2.06-.94-2.06-.94L8.5 2.5l-.94 2.06-2.06.94zm10 10l.94 2.06.94-2.06 2.06-.94-2.06-.94-.94-2.06-.94 2.06-2.06.94z\"/><path d=\"M17.41 7.96l-1.37-1.37c-.4-.4-.92-.59-1.43-.59-.52 0-1.04.2-1.43.59L10.3 9.45l-7.72 7.72c-.78.78-.78 2.05 0 2.83L4 21.41c.39.39.9.59 1.41.59.51 0 1.02-.2 1.41-.59l7.78-7.78 2.81-2.81c.8-.78.8-2.07 0-2.86zM5.41 20L4 18.59l7.72-7.72 1.47 1.35L5.41 20z\"/>\n",
              "  </svg>\n",
              "      </button>\n",
              "      \n",
              "  <style>\n",
              "    .colab-df-container {\n",
              "      display:flex;\n",
              "      flex-wrap:wrap;\n",
              "      gap: 12px;\n",
              "    }\n",
              "\n",
              "    .colab-df-convert {\n",
              "      background-color: #E8F0FE;\n",
              "      border: none;\n",
              "      border-radius: 50%;\n",
              "      cursor: pointer;\n",
              "      display: none;\n",
              "      fill: #1967D2;\n",
              "      height: 32px;\n",
              "      padding: 0 0 0 0;\n",
              "      width: 32px;\n",
              "    }\n",
              "\n",
              "    .colab-df-convert:hover {\n",
              "      background-color: #E2EBFA;\n",
              "      box-shadow: 0px 1px 2px rgba(60, 64, 67, 0.3), 0px 1px 3px 1px rgba(60, 64, 67, 0.15);\n",
              "      fill: #174EA6;\n",
              "    }\n",
              "\n",
              "    [theme=dark] .colab-df-convert {\n",
              "      background-color: #3B4455;\n",
              "      fill: #D2E3FC;\n",
              "    }\n",
              "\n",
              "    [theme=dark] .colab-df-convert:hover {\n",
              "      background-color: #434B5C;\n",
              "      box-shadow: 0px 1px 3px 1px rgba(0, 0, 0, 0.15);\n",
              "      filter: drop-shadow(0px 1px 2px rgba(0, 0, 0, 0.3));\n",
              "      fill: #FFFFFF;\n",
              "    }\n",
              "  </style>\n",
              "\n",
              "      <script>\n",
              "        const buttonEl =\n",
              "          document.querySelector('#df-272b45b7-70bd-451e-88e4-46f8d689de46 button.colab-df-convert');\n",
              "        buttonEl.style.display =\n",
              "          google.colab.kernel.accessAllowed ? 'block' : 'none';\n",
              "\n",
              "        async function convertToInteractive(key) {\n",
              "          const element = document.querySelector('#df-272b45b7-70bd-451e-88e4-46f8d689de46');\n",
              "          const dataTable =\n",
              "            await google.colab.kernel.invokeFunction('convertToInteractive',\n",
              "                                                     [key], {});\n",
              "          if (!dataTable) return;\n",
              "\n",
              "          const docLinkHtml = 'Like what you see? Visit the ' +\n",
              "            '<a target=\"_blank\" href=https://colab.research.google.com/notebooks/data_table.ipynb>data table notebook</a>'\n",
              "            + ' to learn more about interactive tables.';\n",
              "          element.innerHTML = '';\n",
              "          dataTable['output_type'] = 'display_data';\n",
              "          await google.colab.output.renderOutput(dataTable, element);\n",
              "          const docLink = document.createElement('div');\n",
              "          docLink.innerHTML = docLinkHtml;\n",
              "          element.appendChild(docLink);\n",
              "        }\n",
              "      </script>\n",
              "    </div>\n",
              "  </div>\n",
              "  "
            ]
          },
          "metadata": {},
          "execution_count": 11
        }
      ],
      "source": [
        "df_descrip.head()"
      ]
    },
    {
      "cell_type": "markdown",
      "source": [
        "Eliminamos filas que contienen NaN del dataset de descripciones, para no tener problemas posteriormente al ejecutar ECMes"
      ],
      "metadata": {
        "id": "wQyHF6DsabYu"
      }
    },
    {
      "cell_type": "code",
      "execution_count": null,
      "metadata": {
        "id": "M5KkbQE_W44w"
      },
      "outputs": [],
      "source": [
        "df_descrip = df_descrip.dropna()"
      ]
    },
    {
      "cell_type": "markdown",
      "source": [
        "Verificamos que no hay descripciones vacias"
      ],
      "metadata": {
        "id": "cCsWrUrpavcm"
      }
    },
    {
      "cell_type": "code",
      "execution_count": null,
      "metadata": {
        "colab": {
          "base_uri": "https://localhost:8080/"
        },
        "id": "R2LmjGV1YYke",
        "outputId": "134728b9-992e-4992-ecc6-dd64d4d57df2"
      },
      "outputs": [
        {
          "output_type": "execute_result",
          "data": {
            "text/plain": [
              "id                      0.0\n",
              "property_description    0.0\n",
              "dtype: float64"
            ]
          },
          "metadata": {},
          "execution_count": 13
        }
      ],
      "source": [
        "df_descrip.loc[df_descrip['property_description'].apply(type) != str].sum()"
      ]
    },
    {
      "cell_type": "markdown",
      "source": [
        "Quitamos caracteres que luego nos traeran problemas con ECMes"
      ],
      "metadata": {
        "id": "79x89_dLa0D7"
      }
    },
    {
      "cell_type": "code",
      "execution_count": null,
      "metadata": {
        "id": "vhJA5B-zf-ns",
        "colab": {
          "base_uri": "https://localhost:8080/",
          "height": 363
        },
        "outputId": "9e6c9cc8-07d0-4daf-e250-02ece57bc4aa"
      },
      "outputs": [
        {
          "output_type": "execute_result",
          "data": {
            "text/plain": [
              "                         id                               property_description\n",
              "0  BZCeiGkJr1WBUi6pKJQwJQ==  Corredor Responsable: MARIA ALEJANDRA GENOVEVA...\n",
              "1  zuHOGgUE0UB71W7m/YCLoA==  ¡HERMOSO PH TIPO CASA DE 2 AMBIENTES!\\nAPTO CR...\n",
              "2  TUL813tXchVBlHUsfaA6DA==  Excelente PH en Núñez 4 amb!!!! Oportunidad !!...\n",
              "3  gn55JPmcjftBV/at1a7fPg==  UNICO PH DE 4 DORMITORIOS EN IMPECABLE ESTADO,...\n",
              "4  qg4m3QHcuo1+wMmyp7kx3Q==  Ph 2 Amb. Villa Crespo exclusivo uso profesion...\n",
              "5  XztoBkv1vE+dGuId8GiPyA==  Se Vende PH interno, ubicado en excelente barr...\n",
              "6  JEhUB1WqHYnvkmuPWlDgmg==  La propiedad se encuentra ubicada en Gobernado...\n",
              "7  ucluEQ4sNKNVbwyKJFnaBw==  Casa en venta sobre calle Alejandro Magno con ...\n",
              "8  a/LC2bANkFuEJYuHglYSTg==  Hermosa Casa en Ph ubicado a 10 cuadras del ce...\n",
              "9  XWCMzAub+1YSpvBCuREdPA==  Hermosa casa en PH ubicada en barrio Santa Rit..."
            ],
            "text/html": [
              "\n",
              "  <div id=\"df-f9bd6a95-895e-4e89-ab89-a8a50beb0089\">\n",
              "    <div class=\"colab-df-container\">\n",
              "      <div>\n",
              "<style scoped>\n",
              "    .dataframe tbody tr th:only-of-type {\n",
              "        vertical-align: middle;\n",
              "    }\n",
              "\n",
              "    .dataframe tbody tr th {\n",
              "        vertical-align: top;\n",
              "    }\n",
              "\n",
              "    .dataframe thead th {\n",
              "        text-align: right;\n",
              "    }\n",
              "</style>\n",
              "<table border=\"1\" class=\"dataframe\">\n",
              "  <thead>\n",
              "    <tr style=\"text-align: right;\">\n",
              "      <th></th>\n",
              "      <th>id</th>\n",
              "      <th>property_description</th>\n",
              "    </tr>\n",
              "  </thead>\n",
              "  <tbody>\n",
              "    <tr>\n",
              "      <th>0</th>\n",
              "      <td>BZCeiGkJr1WBUi6pKJQwJQ==</td>\n",
              "      <td>Corredor Responsable: MARIA ALEJANDRA GENOVEVA...</td>\n",
              "    </tr>\n",
              "    <tr>\n",
              "      <th>1</th>\n",
              "      <td>zuHOGgUE0UB71W7m/YCLoA==</td>\n",
              "      <td>¡HERMOSO PH TIPO CASA DE 2 AMBIENTES!\\nAPTO CR...</td>\n",
              "    </tr>\n",
              "    <tr>\n",
              "      <th>2</th>\n",
              "      <td>TUL813tXchVBlHUsfaA6DA==</td>\n",
              "      <td>Excelente PH en Núñez 4 amb!!!! Oportunidad !!...</td>\n",
              "    </tr>\n",
              "    <tr>\n",
              "      <th>3</th>\n",
              "      <td>gn55JPmcjftBV/at1a7fPg==</td>\n",
              "      <td>UNICO PH DE 4 DORMITORIOS EN IMPECABLE ESTADO,...</td>\n",
              "    </tr>\n",
              "    <tr>\n",
              "      <th>4</th>\n",
              "      <td>qg4m3QHcuo1+wMmyp7kx3Q==</td>\n",
              "      <td>Ph 2 Amb. Villa Crespo exclusivo uso profesion...</td>\n",
              "    </tr>\n",
              "    <tr>\n",
              "      <th>5</th>\n",
              "      <td>XztoBkv1vE+dGuId8GiPyA==</td>\n",
              "      <td>Se Vende PH interno, ubicado en excelente barr...</td>\n",
              "    </tr>\n",
              "    <tr>\n",
              "      <th>6</th>\n",
              "      <td>JEhUB1WqHYnvkmuPWlDgmg==</td>\n",
              "      <td>La propiedad se encuentra ubicada en Gobernado...</td>\n",
              "    </tr>\n",
              "    <tr>\n",
              "      <th>7</th>\n",
              "      <td>ucluEQ4sNKNVbwyKJFnaBw==</td>\n",
              "      <td>Casa en venta sobre calle Alejandro Magno con ...</td>\n",
              "    </tr>\n",
              "    <tr>\n",
              "      <th>8</th>\n",
              "      <td>a/LC2bANkFuEJYuHglYSTg==</td>\n",
              "      <td>Hermosa Casa en Ph ubicado a 10 cuadras del ce...</td>\n",
              "    </tr>\n",
              "    <tr>\n",
              "      <th>9</th>\n",
              "      <td>XWCMzAub+1YSpvBCuREdPA==</td>\n",
              "      <td>Hermosa casa en PH ubicada en barrio Santa Rit...</td>\n",
              "    </tr>\n",
              "  </tbody>\n",
              "</table>\n",
              "</div>\n",
              "      <button class=\"colab-df-convert\" onclick=\"convertToInteractive('df-f9bd6a95-895e-4e89-ab89-a8a50beb0089')\"\n",
              "              title=\"Convert this dataframe to an interactive table.\"\n",
              "              style=\"display:none;\">\n",
              "        \n",
              "  <svg xmlns=\"http://www.w3.org/2000/svg\" height=\"24px\"viewBox=\"0 0 24 24\"\n",
              "       width=\"24px\">\n",
              "    <path d=\"M0 0h24v24H0V0z\" fill=\"none\"/>\n",
              "    <path d=\"M18.56 5.44l.94 2.06.94-2.06 2.06-.94-2.06-.94-.94-2.06-.94 2.06-2.06.94zm-11 1L8.5 8.5l.94-2.06 2.06-.94-2.06-.94L8.5 2.5l-.94 2.06-2.06.94zm10 10l.94 2.06.94-2.06 2.06-.94-2.06-.94-.94-2.06-.94 2.06-2.06.94z\"/><path d=\"M17.41 7.96l-1.37-1.37c-.4-.4-.92-.59-1.43-.59-.52 0-1.04.2-1.43.59L10.3 9.45l-7.72 7.72c-.78.78-.78 2.05 0 2.83L4 21.41c.39.39.9.59 1.41.59.51 0 1.02-.2 1.41-.59l7.78-7.78 2.81-2.81c.8-.78.8-2.07 0-2.86zM5.41 20L4 18.59l7.72-7.72 1.47 1.35L5.41 20z\"/>\n",
              "  </svg>\n",
              "      </button>\n",
              "      \n",
              "  <style>\n",
              "    .colab-df-container {\n",
              "      display:flex;\n",
              "      flex-wrap:wrap;\n",
              "      gap: 12px;\n",
              "    }\n",
              "\n",
              "    .colab-df-convert {\n",
              "      background-color: #E8F0FE;\n",
              "      border: none;\n",
              "      border-radius: 50%;\n",
              "      cursor: pointer;\n",
              "      display: none;\n",
              "      fill: #1967D2;\n",
              "      height: 32px;\n",
              "      padding: 0 0 0 0;\n",
              "      width: 32px;\n",
              "    }\n",
              "\n",
              "    .colab-df-convert:hover {\n",
              "      background-color: #E2EBFA;\n",
              "      box-shadow: 0px 1px 2px rgba(60, 64, 67, 0.3), 0px 1px 3px 1px rgba(60, 64, 67, 0.15);\n",
              "      fill: #174EA6;\n",
              "    }\n",
              "\n",
              "    [theme=dark] .colab-df-convert {\n",
              "      background-color: #3B4455;\n",
              "      fill: #D2E3FC;\n",
              "    }\n",
              "\n",
              "    [theme=dark] .colab-df-convert:hover {\n",
              "      background-color: #434B5C;\n",
              "      box-shadow: 0px 1px 3px 1px rgba(0, 0, 0, 0.15);\n",
              "      filter: drop-shadow(0px 1px 2px rgba(0, 0, 0, 0.3));\n",
              "      fill: #FFFFFF;\n",
              "    }\n",
              "  </style>\n",
              "\n",
              "      <script>\n",
              "        const buttonEl =\n",
              "          document.querySelector('#df-f9bd6a95-895e-4e89-ab89-a8a50beb0089 button.colab-df-convert');\n",
              "        buttonEl.style.display =\n",
              "          google.colab.kernel.accessAllowed ? 'block' : 'none';\n",
              "\n",
              "        async function convertToInteractive(key) {\n",
              "          const element = document.querySelector('#df-f9bd6a95-895e-4e89-ab89-a8a50beb0089');\n",
              "          const dataTable =\n",
              "            await google.colab.kernel.invokeFunction('convertToInteractive',\n",
              "                                                     [key], {});\n",
              "          if (!dataTable) return;\n",
              "\n",
              "          const docLinkHtml = 'Like what you see? Visit the ' +\n",
              "            '<a target=\"_blank\" href=https://colab.research.google.com/notebooks/data_table.ipynb>data table notebook</a>'\n",
              "            + ' to learn more about interactive tables.';\n",
              "          element.innerHTML = '';\n",
              "          dataTable['output_type'] = 'display_data';\n",
              "          await google.colab.output.renderOutput(dataTable, element);\n",
              "          const docLink = document.createElement('div');\n",
              "          docLink.innerHTML = docLinkHtml;\n",
              "          element.appendChild(docLink);\n",
              "        }\n",
              "      </script>\n",
              "    </div>\n",
              "  </div>\n",
              "  "
            ]
          },
          "metadata": {},
          "execution_count": 14
        }
      ],
      "source": [
        "df_descrip['property_description'] = df_descrip['property_description'].replace(['{','}','\\[',']','\\(','\\)'],'', regex=True)\n",
        "df_descrip['property_description'] = df_descrip['property_description'].replace('<br>','\\n', regex=True)\n",
        "df_descrip.head(10)"
      ]
    },
    {
      "cell_type": "markdown",
      "metadata": {
        "id": "AV4A6SV613ay"
      },
      "source": [
        "Generamos un archivo txt, que contiene las descripciones (solo 100, ya que sino demora muchisimo, fuimos tomando varias muestras aleatorias) sin nulos y sin caracteres que generen conflictos con las expresiones regulares"
      ]
    },
    {
      "cell_type": "code",
      "execution_count": null,
      "metadata": {
        "id": "60-2KrzHJLsF"
      },
      "outputs": [],
      "source": [
        "with open(\"descripciones.txt\", \"w\") as file_out:\n",
        "  file_out.write('\\n'.join(df_descrip['property_description'].head(100)))"
      ]
    },
    {
      "cell_type": "markdown",
      "metadata": {
        "id": "L99cmfB62Ixf"
      },
      "source": [
        "Este archivo es procesado con ECMes localmente, obteniendo relaciones que nos permitieron extraer palabras claves para generar nuevas columnas de datos"
      ]
    },
    {
      "cell_type": "markdown",
      "source": [
        "Una vez analizados los resultados obtenidos, decidimos crear las siguientes columnas, utilizando como herramienta expresiones regulares, findall especificamente"
      ],
      "metadata": {
        "id": "rImTKJnSby96"
      }
    },
    {
      "cell_type": "markdown",
      "metadata": {
        "id": "_9GRa1u106aj"
      },
      "source": [
        "Columna nueva, indica si el aviso posee pileta/piscina"
      ]
    },
    {
      "cell_type": "code",
      "execution_count": null,
      "metadata": {
        "id": "3nndLPkSi659"
      },
      "outputs": [],
      "source": [
        "df_descrip['tiene_pileta'] = df_descrip['property_description'].str.findall('pileta | piscina', flags=re.IGNORECASE)\n",
        "df_descrip['tiene_pileta'] = np.where(df_descrip['tiene_pileta'], 1, 0)"
      ]
    },
    {
      "cell_type": "markdown",
      "metadata": {
        "id": "lWMEaKgL1KL9"
      },
      "source": [
        "Columna nueva, indica si el aviso posee parrilla"
      ]
    },
    {
      "cell_type": "code",
      "execution_count": null,
      "metadata": {
        "id": "THLxzGryzB9X"
      },
      "outputs": [],
      "source": [
        "df_descrip['tiene_parrilla'] = df_descrip['property_description'].str.findall('parrilla', flags=re.IGNORECASE)\n",
        "df_descrip['tiene_parrilla'] = np.where(df_descrip['tiene_parrilla'], 1, 0)"
      ]
    },
    {
      "cell_type": "markdown",
      "metadata": {
        "id": "nNbK-OEe1LFm"
      },
      "source": [
        "Columna nueva, indica si el aviso posee cochera"
      ]
    },
    {
      "cell_type": "code",
      "execution_count": null,
      "metadata": {
        "id": "guNvlWLjzCRg"
      },
      "outputs": [],
      "source": [
        "df_descrip['tiene_cochera'] = df_descrip['property_description'].str.findall('cochera', flags=re.IGNORECASE)\n",
        "df_descrip['tiene_cochera'] = np.where(df_descrip['tiene_cochera'], 1, 0)"
      ]
    },
    {
      "cell_type": "markdown",
      "metadata": {
        "id": "7Ec8eWTh1Ls-"
      },
      "source": [
        "Columna nueva, indica si el aviso posee terraza/balcón"
      ]
    },
    {
      "cell_type": "code",
      "execution_count": null,
      "metadata": {
        "id": "WG9b01CgzPV4"
      },
      "outputs": [],
      "source": [
        "df_descrip['tiene_terraza'] = df_descrip['property_description'].str.findall('terraza|balcon', flags=re.IGNORECASE)\n",
        "df_descrip['tiene_terraza'] = np.where(df_descrip['tiene_terraza'], 1, 0)"
      ]
    },
    {
      "cell_type": "markdown",
      "source": [
        "Columna nueva, indica si el aviso posee o no expensas, o si son bajas ('Sin expensas', 'Bajas expensas' o 'Con expensas')"
      ],
      "metadata": {
        "id": "1fEN_X0FWNIZ"
      }
    },
    {
      "cell_type": "markdown",
      "source": [
        "Columna que identifica todos los avisos que contienen alguna descripcion vinculada a las expensas"
      ],
      "metadata": {
        "id": "9to4QYsmPuIf"
      }
    },
    {
      "cell_type": "code",
      "source": [
        "df_descrip['con_expensas'] = df_descrip['property_description'].str.findall('expensas | expensa', flags=re.IGNORECASE)\n",
        "df_descrip['con_expensas'] = np.where((df_descrip['con_expensas'].str.len() != 0), 'Con expensas', '')"
      ],
      "metadata": {
        "id": "vbIGjtf8WMJL"
      },
      "execution_count": null,
      "outputs": []
    },
    {
      "cell_type": "markdown",
      "source": [
        "Luego creamos una columna que identifica los avisos con \"Bajas\" expensas"
      ],
      "metadata": {
        "id": "WmH-bei-QH8_"
      }
    },
    {
      "cell_type": "code",
      "source": [
        "df_descrip['bajas_expensas'] = df_descrip['property_description'].str.findall('bajas expensas|expensas bajas', flags=re.IGNORECASE)\n",
        "df_descrip['bajas_expensas'] = np.where((df_descrip['bajas_expensas'].str.len() != 0), 'Bajas expensas', '')"
      ],
      "metadata": {
        "id": "XgWXWzUmXlYv"
      },
      "execution_count": null,
      "outputs": []
    },
    {
      "cell_type": "markdown",
      "source": [
        "Finalmente, una que contiene los avisos de lugares \"Sin\" expensas"
      ],
      "metadata": {
        "id": "O2dEA43JQP9B"
      }
    },
    {
      "cell_type": "code",
      "source": [
        "df_descrip['sin_expensas'] = df_descrip['property_description'].str.findall('sin expensas|expensas $0|expensas $ 0', flags=re.IGNORECASE)\n",
        "df_descrip['sin_expensas'] = np.where((df_descrip['sin_expensas'].str.len() != 0), 'Sin expensas', '')"
      ],
      "metadata": {
        "id": "dxHKIXfhzMKe"
      },
      "execution_count": null,
      "outputs": []
    },
    {
      "cell_type": "markdown",
      "source": [
        "Por ultimo concatenamos las 3 nuevas columnas, y dejamos la celda vacia ('') en caso de que no se haga referencia a las expensas "
      ],
      "metadata": {
        "id": "ngtp92upQan7"
      }
    },
    {
      "cell_type": "code",
      "source": [
        "df_descrip['expensas'] = df_descrip['bajas_expensas'] + df_descrip['sin_expensas']\n",
        "\n",
        "# Se concatena solo en los casos donde hay '', ya que sino se sobreescribirian los demás valores\n",
        "df_descrip['expensas'] = df_descrip[['expensas','con_expensas']].sum(axis=1).where(df_descrip['expensas'] == '', df_descrip['expensas'])"
      ],
      "metadata": {
        "id": "BU4yDzsbmOEL"
      },
      "execution_count": null,
      "outputs": []
    },
    {
      "cell_type": "markdown",
      "source": [
        "Eliminamos las columnas de expensas intermedias a la resultante 'expensas'"
      ],
      "metadata": {
        "id": "4OjMT5f3Rxjo"
      }
    },
    {
      "cell_type": "code",
      "source": [
        "df_descrip.drop(['con_expensas', 'sin_expensas', 'bajas_expensas'], axis = 'columns', inplace=True)\n",
        "df_descrip.head(10)"
      ],
      "metadata": {
        "colab": {
          "base_uri": "https://localhost:8080/",
          "height": 363
        },
        "id": "U0--9kRCR-Vm",
        "outputId": "8a32cce2-dce8-4f0b-94de-7d1662d77aab"
      },
      "execution_count": null,
      "outputs": [
        {
          "output_type": "execute_result",
          "data": {
            "text/plain": [
              "                         id  \\\n",
              "0  BZCeiGkJr1WBUi6pKJQwJQ==   \n",
              "1  zuHOGgUE0UB71W7m/YCLoA==   \n",
              "2  TUL813tXchVBlHUsfaA6DA==   \n",
              "3  gn55JPmcjftBV/at1a7fPg==   \n",
              "4  qg4m3QHcuo1+wMmyp7kx3Q==   \n",
              "5  XztoBkv1vE+dGuId8GiPyA==   \n",
              "6  JEhUB1WqHYnvkmuPWlDgmg==   \n",
              "7  ucluEQ4sNKNVbwyKJFnaBw==   \n",
              "8  a/LC2bANkFuEJYuHglYSTg==   \n",
              "9  XWCMzAub+1YSpvBCuREdPA==   \n",
              "\n",
              "                                property_description  tiene_pileta  \\\n",
              "0  Corredor Responsable: MARIA ALEJANDRA GENOVEVA...             0   \n",
              "1  ¡HERMOSO PH TIPO CASA DE 2 AMBIENTES!\\nAPTO CR...             0   \n",
              "2  Excelente PH en Núñez 4 amb!!!! Oportunidad !!...             0   \n",
              "3  UNICO PH DE 4 DORMITORIOS EN IMPECABLE ESTADO,...             0   \n",
              "4  Ph 2 Amb. Villa Crespo exclusivo uso profesion...             0   \n",
              "5  Se Vende PH interno, ubicado en excelente barr...             0   \n",
              "6  La propiedad se encuentra ubicada en Gobernado...             1   \n",
              "7  Casa en venta sobre calle Alejandro Magno con ...             1   \n",
              "8  Hermosa Casa en Ph ubicado a 10 cuadras del ce...             0   \n",
              "9  Hermosa casa en PH ubicada en barrio Santa Rit...             0   \n",
              "\n",
              "   tiene_parrilla  tiene_cochera  tiene_terraza        expensas  \n",
              "0               0              0              1  Bajas expensas  \n",
              "1               0              0              0    Sin expensas  \n",
              "2               1              0              1                  \n",
              "3               0              1              1    Sin expensas  \n",
              "4               0              0              0                  \n",
              "5               0              1              0                  \n",
              "6               0              1              0                  \n",
              "7               0              1              0                  \n",
              "8               0              0              1                  \n",
              "9               0              0              0                  "
            ],
            "text/html": [
              "\n",
              "  <div id=\"df-34ae857a-7a18-4131-8745-536ed4afd323\">\n",
              "    <div class=\"colab-df-container\">\n",
              "      <div>\n",
              "<style scoped>\n",
              "    .dataframe tbody tr th:only-of-type {\n",
              "        vertical-align: middle;\n",
              "    }\n",
              "\n",
              "    .dataframe tbody tr th {\n",
              "        vertical-align: top;\n",
              "    }\n",
              "\n",
              "    .dataframe thead th {\n",
              "        text-align: right;\n",
              "    }\n",
              "</style>\n",
              "<table border=\"1\" class=\"dataframe\">\n",
              "  <thead>\n",
              "    <tr style=\"text-align: right;\">\n",
              "      <th></th>\n",
              "      <th>id</th>\n",
              "      <th>property_description</th>\n",
              "      <th>tiene_pileta</th>\n",
              "      <th>tiene_parrilla</th>\n",
              "      <th>tiene_cochera</th>\n",
              "      <th>tiene_terraza</th>\n",
              "      <th>expensas</th>\n",
              "    </tr>\n",
              "  </thead>\n",
              "  <tbody>\n",
              "    <tr>\n",
              "      <th>0</th>\n",
              "      <td>BZCeiGkJr1WBUi6pKJQwJQ==</td>\n",
              "      <td>Corredor Responsable: MARIA ALEJANDRA GENOVEVA...</td>\n",
              "      <td>0</td>\n",
              "      <td>0</td>\n",
              "      <td>0</td>\n",
              "      <td>1</td>\n",
              "      <td>Bajas expensas</td>\n",
              "    </tr>\n",
              "    <tr>\n",
              "      <th>1</th>\n",
              "      <td>zuHOGgUE0UB71W7m/YCLoA==</td>\n",
              "      <td>¡HERMOSO PH TIPO CASA DE 2 AMBIENTES!\\nAPTO CR...</td>\n",
              "      <td>0</td>\n",
              "      <td>0</td>\n",
              "      <td>0</td>\n",
              "      <td>0</td>\n",
              "      <td>Sin expensas</td>\n",
              "    </tr>\n",
              "    <tr>\n",
              "      <th>2</th>\n",
              "      <td>TUL813tXchVBlHUsfaA6DA==</td>\n",
              "      <td>Excelente PH en Núñez 4 amb!!!! Oportunidad !!...</td>\n",
              "      <td>0</td>\n",
              "      <td>1</td>\n",
              "      <td>0</td>\n",
              "      <td>1</td>\n",
              "      <td></td>\n",
              "    </tr>\n",
              "    <tr>\n",
              "      <th>3</th>\n",
              "      <td>gn55JPmcjftBV/at1a7fPg==</td>\n",
              "      <td>UNICO PH DE 4 DORMITORIOS EN IMPECABLE ESTADO,...</td>\n",
              "      <td>0</td>\n",
              "      <td>0</td>\n",
              "      <td>1</td>\n",
              "      <td>1</td>\n",
              "      <td>Sin expensas</td>\n",
              "    </tr>\n",
              "    <tr>\n",
              "      <th>4</th>\n",
              "      <td>qg4m3QHcuo1+wMmyp7kx3Q==</td>\n",
              "      <td>Ph 2 Amb. Villa Crespo exclusivo uso profesion...</td>\n",
              "      <td>0</td>\n",
              "      <td>0</td>\n",
              "      <td>0</td>\n",
              "      <td>0</td>\n",
              "      <td></td>\n",
              "    </tr>\n",
              "    <tr>\n",
              "      <th>5</th>\n",
              "      <td>XztoBkv1vE+dGuId8GiPyA==</td>\n",
              "      <td>Se Vende PH interno, ubicado en excelente barr...</td>\n",
              "      <td>0</td>\n",
              "      <td>0</td>\n",
              "      <td>1</td>\n",
              "      <td>0</td>\n",
              "      <td></td>\n",
              "    </tr>\n",
              "    <tr>\n",
              "      <th>6</th>\n",
              "      <td>JEhUB1WqHYnvkmuPWlDgmg==</td>\n",
              "      <td>La propiedad se encuentra ubicada en Gobernado...</td>\n",
              "      <td>1</td>\n",
              "      <td>0</td>\n",
              "      <td>1</td>\n",
              "      <td>0</td>\n",
              "      <td></td>\n",
              "    </tr>\n",
              "    <tr>\n",
              "      <th>7</th>\n",
              "      <td>ucluEQ4sNKNVbwyKJFnaBw==</td>\n",
              "      <td>Casa en venta sobre calle Alejandro Magno con ...</td>\n",
              "      <td>1</td>\n",
              "      <td>0</td>\n",
              "      <td>1</td>\n",
              "      <td>0</td>\n",
              "      <td></td>\n",
              "    </tr>\n",
              "    <tr>\n",
              "      <th>8</th>\n",
              "      <td>a/LC2bANkFuEJYuHglYSTg==</td>\n",
              "      <td>Hermosa Casa en Ph ubicado a 10 cuadras del ce...</td>\n",
              "      <td>0</td>\n",
              "      <td>0</td>\n",
              "      <td>0</td>\n",
              "      <td>1</td>\n",
              "      <td></td>\n",
              "    </tr>\n",
              "    <tr>\n",
              "      <th>9</th>\n",
              "      <td>XWCMzAub+1YSpvBCuREdPA==</td>\n",
              "      <td>Hermosa casa en PH ubicada en barrio Santa Rit...</td>\n",
              "      <td>0</td>\n",
              "      <td>0</td>\n",
              "      <td>0</td>\n",
              "      <td>0</td>\n",
              "      <td></td>\n",
              "    </tr>\n",
              "  </tbody>\n",
              "</table>\n",
              "</div>\n",
              "      <button class=\"colab-df-convert\" onclick=\"convertToInteractive('df-34ae857a-7a18-4131-8745-536ed4afd323')\"\n",
              "              title=\"Convert this dataframe to an interactive table.\"\n",
              "              style=\"display:none;\">\n",
              "        \n",
              "  <svg xmlns=\"http://www.w3.org/2000/svg\" height=\"24px\"viewBox=\"0 0 24 24\"\n",
              "       width=\"24px\">\n",
              "    <path d=\"M0 0h24v24H0V0z\" fill=\"none\"/>\n",
              "    <path d=\"M18.56 5.44l.94 2.06.94-2.06 2.06-.94-2.06-.94-.94-2.06-.94 2.06-2.06.94zm-11 1L8.5 8.5l.94-2.06 2.06-.94-2.06-.94L8.5 2.5l-.94 2.06-2.06.94zm10 10l.94 2.06.94-2.06 2.06-.94-2.06-.94-.94-2.06-.94 2.06-2.06.94z\"/><path d=\"M17.41 7.96l-1.37-1.37c-.4-.4-.92-.59-1.43-.59-.52 0-1.04.2-1.43.59L10.3 9.45l-7.72 7.72c-.78.78-.78 2.05 0 2.83L4 21.41c.39.39.9.59 1.41.59.51 0 1.02-.2 1.41-.59l7.78-7.78 2.81-2.81c.8-.78.8-2.07 0-2.86zM5.41 20L4 18.59l7.72-7.72 1.47 1.35L5.41 20z\"/>\n",
              "  </svg>\n",
              "      </button>\n",
              "      \n",
              "  <style>\n",
              "    .colab-df-container {\n",
              "      display:flex;\n",
              "      flex-wrap:wrap;\n",
              "      gap: 12px;\n",
              "    }\n",
              "\n",
              "    .colab-df-convert {\n",
              "      background-color: #E8F0FE;\n",
              "      border: none;\n",
              "      border-radius: 50%;\n",
              "      cursor: pointer;\n",
              "      display: none;\n",
              "      fill: #1967D2;\n",
              "      height: 32px;\n",
              "      padding: 0 0 0 0;\n",
              "      width: 32px;\n",
              "    }\n",
              "\n",
              "    .colab-df-convert:hover {\n",
              "      background-color: #E2EBFA;\n",
              "      box-shadow: 0px 1px 2px rgba(60, 64, 67, 0.3), 0px 1px 3px 1px rgba(60, 64, 67, 0.15);\n",
              "      fill: #174EA6;\n",
              "    }\n",
              "\n",
              "    [theme=dark] .colab-df-convert {\n",
              "      background-color: #3B4455;\n",
              "      fill: #D2E3FC;\n",
              "    }\n",
              "\n",
              "    [theme=dark] .colab-df-convert:hover {\n",
              "      background-color: #434B5C;\n",
              "      box-shadow: 0px 1px 3px 1px rgba(0, 0, 0, 0.15);\n",
              "      filter: drop-shadow(0px 1px 2px rgba(0, 0, 0, 0.3));\n",
              "      fill: #FFFFFF;\n",
              "    }\n",
              "  </style>\n",
              "\n",
              "      <script>\n",
              "        const buttonEl =\n",
              "          document.querySelector('#df-34ae857a-7a18-4131-8745-536ed4afd323 button.colab-df-convert');\n",
              "        buttonEl.style.display =\n",
              "          google.colab.kernel.accessAllowed ? 'block' : 'none';\n",
              "\n",
              "        async function convertToInteractive(key) {\n",
              "          const element = document.querySelector('#df-34ae857a-7a18-4131-8745-536ed4afd323');\n",
              "          const dataTable =\n",
              "            await google.colab.kernel.invokeFunction('convertToInteractive',\n",
              "                                                     [key], {});\n",
              "          if (!dataTable) return;\n",
              "\n",
              "          const docLinkHtml = 'Like what you see? Visit the ' +\n",
              "            '<a target=\"_blank\" href=https://colab.research.google.com/notebooks/data_table.ipynb>data table notebook</a>'\n",
              "            + ' to learn more about interactive tables.';\n",
              "          element.innerHTML = '';\n",
              "          dataTable['output_type'] = 'display_data';\n",
              "          await google.colab.output.renderOutput(dataTable, element);\n",
              "          const docLink = document.createElement('div');\n",
              "          docLink.innerHTML = docLinkHtml;\n",
              "          element.appendChild(docLink);\n",
              "        }\n",
              "      </script>\n",
              "    </div>\n",
              "  </div>\n",
              "  "
            ]
          },
          "metadata": {},
          "execution_count": 24
        }
      ]
    },
    {
      "cell_type": "markdown",
      "metadata": {
        "id": "hDdhzeIh4OwQ"
      },
      "source": [
        "Para agregar las columnas nuevas al df preprocesado, joineamos las columnas del dataset de descripciones usando como clave la columna 'id'"
      ]
    },
    {
      "cell_type": "code",
      "execution_count": null,
      "metadata": {
        "id": "47n_MemC_veb",
        "colab": {
          "base_uri": "https://localhost:8080/",
          "height": 939
        },
        "outputId": "57a7f31d-c1f0-41f7-c877-fcde338c6643"
      },
      "outputs": [
        {
          "output_type": "execute_result",
          "data": {
            "text/plain": [
              "      latitud   longitud         place_l2          place_l3 operation  \\\n",
              "0  -34.566536 -58.479638  Capital Federal           Coghlan     Venta   \n",
              "1  -34.645625 -58.459408  Capital Federal            Flores     Venta   \n",
              "2  -34.592408 -58.454732  Capital Federal         Caballito     Venta   \n",
              "3  -34.577033 -58.423367  Capital Federal           Palermo     Venta   \n",
              "4  -34.580210 -58.412815  Capital Federal           Palermo     Venta   \n",
              "..        ...        ...              ...               ...       ...   \n",
              "95 -34.592927 -58.443849  Capital Federal      Villa Crespo     Venta   \n",
              "96 -34.543026 -58.473482  Capital Federal          Saavedra     Venta   \n",
              "97 -34.604960 -58.448139  Capital Federal      Villa Crespo     Venta   \n",
              "98 -34.596886 -58.403090  Capital Federal      Barrio Norte     Venta   \n",
              "99 -34.606034 -58.493623  Capital Federal  Villa del Parque     Venta   \n",
              "\n",
              "   property_type  property_rooms  property_bedrooms  property_surface_total  \\\n",
              "0   Departamento             2.0                1.0                    65.0   \n",
              "1   Departamento             1.0                1.0                    29.0   \n",
              "2   Departamento             2.0                1.0                    41.0   \n",
              "3   Departamento             1.0                1.0                    49.0   \n",
              "4   Departamento             1.0                2.0                   115.1   \n",
              "..           ...             ...                ...                     ...   \n",
              "95  Departamento             2.0                1.0                    30.0   \n",
              "96  Departamento             2.0                1.0                    35.0   \n",
              "97            PH             2.0                1.0                    30.0   \n",
              "98  Departamento             3.0                2.0                    74.0   \n",
              "99  Departamento             2.0                1.0                    51.0   \n",
              "\n",
              "    property_surface_covered  property_price property_currency  \\\n",
              "0                       53.0        198000.0               USD   \n",
              "1                       29.0         63000.0               USD   \n",
              "2                       35.0         93000.0               USD   \n",
              "3                       44.0        160000.0               USD   \n",
              "4                       78.0        290000.0               USD   \n",
              "..                       ...             ...               ...   \n",
              "95                      30.0         69900.0               USD   \n",
              "96                      35.0         77000.0               USD   \n",
              "97                      24.0         60000.0               USD   \n",
              "98                      71.0        169000.0               USD   \n",
              "99                      44.0         73900.0               USD   \n",
              "\n",
              "                                       property_title  \\\n",
              "0                                   1 - Holmberg 2700   \n",
              "1   Departamento a estrenar - Edificio con ameniti...   \n",
              "2   Departamento de 2 ambientes con balcón aterraz...   \n",
              "3   Departamento - Monoambiente - Palermo Nuevo - ...   \n",
              "4                             Departamento en Palermo   \n",
              "..                                                ...   \n",
              "95                  DARWIN 700 - T/SOL - Villa Crespo   \n",
              "96  VENTA 2 AMBIENTES OPORTUNIDAD LUZ SAAVEDRA TER...   \n",
              "97          PH MUY LUMINOSO-2 AMB - PB - VILLA CRESPO   \n",
              "98  Departamento 3 ambientes con balcón A ESTRENAR...   \n",
              "99  VENTA - Departamento - 2 Ambientes - 2 patios ...   \n",
              "\n",
              "                          id  tiene_cochera  tiene_parrilla  tiene_pileta  \\\n",
              "0   VZsvT1lQEuvPqEM4cjT8/g==              1               1             1   \n",
              "1   QlFGJ8qbIENvmMXqW4JbsQ==              0               1             1   \n",
              "2   D9nGcyK9B6vsyeUvuT8qbQ==              0               0             0   \n",
              "3   FLCnXUUffcnknzXIH9pBCg==              0               1             1   \n",
              "4   U1B7lvnYtd4L18Ccb8mvhw==              0               0             0   \n",
              "..                       ...            ...             ...           ...   \n",
              "95  CmzBSYbHVmyVPDKlI+MA7w==              0               0             0   \n",
              "96  uV8HYBPZ40y2IQUm0zCoHw==              0               1             0   \n",
              "97  QTHzIXzZylNJSpu8yKIemw==              0               0             0   \n",
              "98  pt4YRpYfASBQQXT3D9tBpw==              0               0             0   \n",
              "99  uiqkDCMWiQivixjJAlcfRQ==              0               0             0   \n",
              "\n",
              "    tiene_terraza      expensas  \n",
              "0               1                \n",
              "1               0                \n",
              "2               1  Con expensas  \n",
              "3               1                \n",
              "4               0                \n",
              "..            ...           ...  \n",
              "95              0                \n",
              "96              1  Con expensas  \n",
              "97              0  Con expensas  \n",
              "98              0                \n",
              "99              0                \n",
              "\n",
              "[100 rows x 19 columns]"
            ],
            "text/html": [
              "\n",
              "  <div id=\"df-7d35eef5-5637-41c9-af9e-c0d3cb0a3d9d\">\n",
              "    <div class=\"colab-df-container\">\n",
              "      <div>\n",
              "<style scoped>\n",
              "    .dataframe tbody tr th:only-of-type {\n",
              "        vertical-align: middle;\n",
              "    }\n",
              "\n",
              "    .dataframe tbody tr th {\n",
              "        vertical-align: top;\n",
              "    }\n",
              "\n",
              "    .dataframe thead th {\n",
              "        text-align: right;\n",
              "    }\n",
              "</style>\n",
              "<table border=\"1\" class=\"dataframe\">\n",
              "  <thead>\n",
              "    <tr style=\"text-align: right;\">\n",
              "      <th></th>\n",
              "      <th>latitud</th>\n",
              "      <th>longitud</th>\n",
              "      <th>place_l2</th>\n",
              "      <th>place_l3</th>\n",
              "      <th>operation</th>\n",
              "      <th>property_type</th>\n",
              "      <th>property_rooms</th>\n",
              "      <th>property_bedrooms</th>\n",
              "      <th>property_surface_total</th>\n",
              "      <th>property_surface_covered</th>\n",
              "      <th>property_price</th>\n",
              "      <th>property_currency</th>\n",
              "      <th>property_title</th>\n",
              "      <th>id</th>\n",
              "      <th>tiene_cochera</th>\n",
              "      <th>tiene_parrilla</th>\n",
              "      <th>tiene_pileta</th>\n",
              "      <th>tiene_terraza</th>\n",
              "      <th>expensas</th>\n",
              "    </tr>\n",
              "  </thead>\n",
              "  <tbody>\n",
              "    <tr>\n",
              "      <th>0</th>\n",
              "      <td>-34.566536</td>\n",
              "      <td>-58.479638</td>\n",
              "      <td>Capital Federal</td>\n",
              "      <td>Coghlan</td>\n",
              "      <td>Venta</td>\n",
              "      <td>Departamento</td>\n",
              "      <td>2.0</td>\n",
              "      <td>1.0</td>\n",
              "      <td>65.0</td>\n",
              "      <td>53.0</td>\n",
              "      <td>198000.0</td>\n",
              "      <td>USD</td>\n",
              "      <td>1 - Holmberg 2700</td>\n",
              "      <td>VZsvT1lQEuvPqEM4cjT8/g==</td>\n",
              "      <td>1</td>\n",
              "      <td>1</td>\n",
              "      <td>1</td>\n",
              "      <td>1</td>\n",
              "      <td></td>\n",
              "    </tr>\n",
              "    <tr>\n",
              "      <th>1</th>\n",
              "      <td>-34.645625</td>\n",
              "      <td>-58.459408</td>\n",
              "      <td>Capital Federal</td>\n",
              "      <td>Flores</td>\n",
              "      <td>Venta</td>\n",
              "      <td>Departamento</td>\n",
              "      <td>1.0</td>\n",
              "      <td>1.0</td>\n",
              "      <td>29.0</td>\n",
              "      <td>29.0</td>\n",
              "      <td>63000.0</td>\n",
              "      <td>USD</td>\n",
              "      <td>Departamento a estrenar - Edificio con ameniti...</td>\n",
              "      <td>QlFGJ8qbIENvmMXqW4JbsQ==</td>\n",
              "      <td>0</td>\n",
              "      <td>1</td>\n",
              "      <td>1</td>\n",
              "      <td>0</td>\n",
              "      <td></td>\n",
              "    </tr>\n",
              "    <tr>\n",
              "      <th>2</th>\n",
              "      <td>-34.592408</td>\n",
              "      <td>-58.454732</td>\n",
              "      <td>Capital Federal</td>\n",
              "      <td>Caballito</td>\n",
              "      <td>Venta</td>\n",
              "      <td>Departamento</td>\n",
              "      <td>2.0</td>\n",
              "      <td>1.0</td>\n",
              "      <td>41.0</td>\n",
              "      <td>35.0</td>\n",
              "      <td>93000.0</td>\n",
              "      <td>USD</td>\n",
              "      <td>Departamento de 2 ambientes con balcón aterraz...</td>\n",
              "      <td>D9nGcyK9B6vsyeUvuT8qbQ==</td>\n",
              "      <td>0</td>\n",
              "      <td>0</td>\n",
              "      <td>0</td>\n",
              "      <td>1</td>\n",
              "      <td>Con expensas</td>\n",
              "    </tr>\n",
              "    <tr>\n",
              "      <th>3</th>\n",
              "      <td>-34.577033</td>\n",
              "      <td>-58.423367</td>\n",
              "      <td>Capital Federal</td>\n",
              "      <td>Palermo</td>\n",
              "      <td>Venta</td>\n",
              "      <td>Departamento</td>\n",
              "      <td>1.0</td>\n",
              "      <td>1.0</td>\n",
              "      <td>49.0</td>\n",
              "      <td>44.0</td>\n",
              "      <td>160000.0</td>\n",
              "      <td>USD</td>\n",
              "      <td>Departamento - Monoambiente - Palermo Nuevo - ...</td>\n",
              "      <td>FLCnXUUffcnknzXIH9pBCg==</td>\n",
              "      <td>0</td>\n",
              "      <td>1</td>\n",
              "      <td>1</td>\n",
              "      <td>1</td>\n",
              "      <td></td>\n",
              "    </tr>\n",
              "    <tr>\n",
              "      <th>4</th>\n",
              "      <td>-34.580210</td>\n",
              "      <td>-58.412815</td>\n",
              "      <td>Capital Federal</td>\n",
              "      <td>Palermo</td>\n",
              "      <td>Venta</td>\n",
              "      <td>Departamento</td>\n",
              "      <td>1.0</td>\n",
              "      <td>2.0</td>\n",
              "      <td>115.1</td>\n",
              "      <td>78.0</td>\n",
              "      <td>290000.0</td>\n",
              "      <td>USD</td>\n",
              "      <td>Departamento en Palermo</td>\n",
              "      <td>U1B7lvnYtd4L18Ccb8mvhw==</td>\n",
              "      <td>0</td>\n",
              "      <td>0</td>\n",
              "      <td>0</td>\n",
              "      <td>0</td>\n",
              "      <td></td>\n",
              "    </tr>\n",
              "    <tr>\n",
              "      <th>...</th>\n",
              "      <td>...</td>\n",
              "      <td>...</td>\n",
              "      <td>...</td>\n",
              "      <td>...</td>\n",
              "      <td>...</td>\n",
              "      <td>...</td>\n",
              "      <td>...</td>\n",
              "      <td>...</td>\n",
              "      <td>...</td>\n",
              "      <td>...</td>\n",
              "      <td>...</td>\n",
              "      <td>...</td>\n",
              "      <td>...</td>\n",
              "      <td>...</td>\n",
              "      <td>...</td>\n",
              "      <td>...</td>\n",
              "      <td>...</td>\n",
              "      <td>...</td>\n",
              "      <td>...</td>\n",
              "    </tr>\n",
              "    <tr>\n",
              "      <th>95</th>\n",
              "      <td>-34.592927</td>\n",
              "      <td>-58.443849</td>\n",
              "      <td>Capital Federal</td>\n",
              "      <td>Villa Crespo</td>\n",
              "      <td>Venta</td>\n",
              "      <td>Departamento</td>\n",
              "      <td>2.0</td>\n",
              "      <td>1.0</td>\n",
              "      <td>30.0</td>\n",
              "      <td>30.0</td>\n",
              "      <td>69900.0</td>\n",
              "      <td>USD</td>\n",
              "      <td>DARWIN 700 - T/SOL - Villa Crespo</td>\n",
              "      <td>CmzBSYbHVmyVPDKlI+MA7w==</td>\n",
              "      <td>0</td>\n",
              "      <td>0</td>\n",
              "      <td>0</td>\n",
              "      <td>0</td>\n",
              "      <td></td>\n",
              "    </tr>\n",
              "    <tr>\n",
              "      <th>96</th>\n",
              "      <td>-34.543026</td>\n",
              "      <td>-58.473482</td>\n",
              "      <td>Capital Federal</td>\n",
              "      <td>Saavedra</td>\n",
              "      <td>Venta</td>\n",
              "      <td>Departamento</td>\n",
              "      <td>2.0</td>\n",
              "      <td>1.0</td>\n",
              "      <td>35.0</td>\n",
              "      <td>35.0</td>\n",
              "      <td>77000.0</td>\n",
              "      <td>USD</td>\n",
              "      <td>VENTA 2 AMBIENTES OPORTUNIDAD LUZ SAAVEDRA TER...</td>\n",
              "      <td>uV8HYBPZ40y2IQUm0zCoHw==</td>\n",
              "      <td>0</td>\n",
              "      <td>1</td>\n",
              "      <td>0</td>\n",
              "      <td>1</td>\n",
              "      <td>Con expensas</td>\n",
              "    </tr>\n",
              "    <tr>\n",
              "      <th>97</th>\n",
              "      <td>-34.604960</td>\n",
              "      <td>-58.448139</td>\n",
              "      <td>Capital Federal</td>\n",
              "      <td>Villa Crespo</td>\n",
              "      <td>Venta</td>\n",
              "      <td>PH</td>\n",
              "      <td>2.0</td>\n",
              "      <td>1.0</td>\n",
              "      <td>30.0</td>\n",
              "      <td>24.0</td>\n",
              "      <td>60000.0</td>\n",
              "      <td>USD</td>\n",
              "      <td>PH MUY LUMINOSO-2 AMB - PB - VILLA CRESPO</td>\n",
              "      <td>QTHzIXzZylNJSpu8yKIemw==</td>\n",
              "      <td>0</td>\n",
              "      <td>0</td>\n",
              "      <td>0</td>\n",
              "      <td>0</td>\n",
              "      <td>Con expensas</td>\n",
              "    </tr>\n",
              "    <tr>\n",
              "      <th>98</th>\n",
              "      <td>-34.596886</td>\n",
              "      <td>-58.403090</td>\n",
              "      <td>Capital Federal</td>\n",
              "      <td>Barrio Norte</td>\n",
              "      <td>Venta</td>\n",
              "      <td>Departamento</td>\n",
              "      <td>3.0</td>\n",
              "      <td>2.0</td>\n",
              "      <td>74.0</td>\n",
              "      <td>71.0</td>\n",
              "      <td>169000.0</td>\n",
              "      <td>USD</td>\n",
              "      <td>Departamento 3 ambientes con balcón A ESTRENAR...</td>\n",
              "      <td>pt4YRpYfASBQQXT3D9tBpw==</td>\n",
              "      <td>0</td>\n",
              "      <td>0</td>\n",
              "      <td>0</td>\n",
              "      <td>0</td>\n",
              "      <td></td>\n",
              "    </tr>\n",
              "    <tr>\n",
              "      <th>99</th>\n",
              "      <td>-34.606034</td>\n",
              "      <td>-58.493623</td>\n",
              "      <td>Capital Federal</td>\n",
              "      <td>Villa del Parque</td>\n",
              "      <td>Venta</td>\n",
              "      <td>Departamento</td>\n",
              "      <td>2.0</td>\n",
              "      <td>1.0</td>\n",
              "      <td>51.0</td>\n",
              "      <td>44.0</td>\n",
              "      <td>73900.0</td>\n",
              "      <td>USD</td>\n",
              "      <td>VENTA - Departamento - 2 Ambientes - 2 patios ...</td>\n",
              "      <td>uiqkDCMWiQivixjJAlcfRQ==</td>\n",
              "      <td>0</td>\n",
              "      <td>0</td>\n",
              "      <td>0</td>\n",
              "      <td>0</td>\n",
              "      <td></td>\n",
              "    </tr>\n",
              "  </tbody>\n",
              "</table>\n",
              "<p>100 rows × 19 columns</p>\n",
              "</div>\n",
              "      <button class=\"colab-df-convert\" onclick=\"convertToInteractive('df-7d35eef5-5637-41c9-af9e-c0d3cb0a3d9d')\"\n",
              "              title=\"Convert this dataframe to an interactive table.\"\n",
              "              style=\"display:none;\">\n",
              "        \n",
              "  <svg xmlns=\"http://www.w3.org/2000/svg\" height=\"24px\"viewBox=\"0 0 24 24\"\n",
              "       width=\"24px\">\n",
              "    <path d=\"M0 0h24v24H0V0z\" fill=\"none\"/>\n",
              "    <path d=\"M18.56 5.44l.94 2.06.94-2.06 2.06-.94-2.06-.94-.94-2.06-.94 2.06-2.06.94zm-11 1L8.5 8.5l.94-2.06 2.06-.94-2.06-.94L8.5 2.5l-.94 2.06-2.06.94zm10 10l.94 2.06.94-2.06 2.06-.94-2.06-.94-.94-2.06-.94 2.06-2.06.94z\"/><path d=\"M17.41 7.96l-1.37-1.37c-.4-.4-.92-.59-1.43-.59-.52 0-1.04.2-1.43.59L10.3 9.45l-7.72 7.72c-.78.78-.78 2.05 0 2.83L4 21.41c.39.39.9.59 1.41.59.51 0 1.02-.2 1.41-.59l7.78-7.78 2.81-2.81c.8-.78.8-2.07 0-2.86zM5.41 20L4 18.59l7.72-7.72 1.47 1.35L5.41 20z\"/>\n",
              "  </svg>\n",
              "      </button>\n",
              "      \n",
              "  <style>\n",
              "    .colab-df-container {\n",
              "      display:flex;\n",
              "      flex-wrap:wrap;\n",
              "      gap: 12px;\n",
              "    }\n",
              "\n",
              "    .colab-df-convert {\n",
              "      background-color: #E8F0FE;\n",
              "      border: none;\n",
              "      border-radius: 50%;\n",
              "      cursor: pointer;\n",
              "      display: none;\n",
              "      fill: #1967D2;\n",
              "      height: 32px;\n",
              "      padding: 0 0 0 0;\n",
              "      width: 32px;\n",
              "    }\n",
              "\n",
              "    .colab-df-convert:hover {\n",
              "      background-color: #E2EBFA;\n",
              "      box-shadow: 0px 1px 2px rgba(60, 64, 67, 0.3), 0px 1px 3px 1px rgba(60, 64, 67, 0.15);\n",
              "      fill: #174EA6;\n",
              "    }\n",
              "\n",
              "    [theme=dark] .colab-df-convert {\n",
              "      background-color: #3B4455;\n",
              "      fill: #D2E3FC;\n",
              "    }\n",
              "\n",
              "    [theme=dark] .colab-df-convert:hover {\n",
              "      background-color: #434B5C;\n",
              "      box-shadow: 0px 1px 3px 1px rgba(0, 0, 0, 0.15);\n",
              "      filter: drop-shadow(0px 1px 2px rgba(0, 0, 0, 0.3));\n",
              "      fill: #FFFFFF;\n",
              "    }\n",
              "  </style>\n",
              "\n",
              "      <script>\n",
              "        const buttonEl =\n",
              "          document.querySelector('#df-7d35eef5-5637-41c9-af9e-c0d3cb0a3d9d button.colab-df-convert');\n",
              "        buttonEl.style.display =\n",
              "          google.colab.kernel.accessAllowed ? 'block' : 'none';\n",
              "\n",
              "        async function convertToInteractive(key) {\n",
              "          const element = document.querySelector('#df-7d35eef5-5637-41c9-af9e-c0d3cb0a3d9d');\n",
              "          const dataTable =\n",
              "            await google.colab.kernel.invokeFunction('convertToInteractive',\n",
              "                                                     [key], {});\n",
              "          if (!dataTable) return;\n",
              "\n",
              "          const docLinkHtml = 'Like what you see? Visit the ' +\n",
              "            '<a target=\"_blank\" href=https://colab.research.google.com/notebooks/data_table.ipynb>data table notebook</a>'\n",
              "            + ' to learn more about interactive tables.';\n",
              "          element.innerHTML = '';\n",
              "          dataTable['output_type'] = 'display_data';\n",
              "          await google.colab.output.renderOutput(dataTable, element);\n",
              "          const docLink = document.createElement('div');\n",
              "          docLink.innerHTML = docLinkHtml;\n",
              "          element.appendChild(docLink);\n",
              "        }\n",
              "      </script>\n",
              "    </div>\n",
              "  </div>\n",
              "  "
            ]
          },
          "metadata": {},
          "execution_count": 25
        }
      ],
      "source": [
        "df_ampliado_train = pd.merge(df_train, df_descrip[['tiene_cochera','tiene_parrilla','tiene_pileta','tiene_terraza','expensas','id']], on='id')\n",
        "df_ampliado_test = pd.merge(df_test, df_descrip[['tiene_cochera','tiene_parrilla','tiene_pileta','tiene_terraza','expensas','id']], on='id')\n",
        "\n",
        "# Borramos columna innecesaria\n",
        "df_ampliado_train.drop(['Unnamed: 0'], axis = 'columns', inplace=True)\n",
        "df_ampliado_test.drop(['Unnamed: 0'], axis = 'columns', inplace=True)\n",
        "df_ampliado_train.head(100)"
      ]
    },
    {
      "cell_type": "markdown",
      "source": [
        "##Guardamos el dataset ampliado"
      ],
      "metadata": {
        "id": "hV1py8DMchhF"
      }
    },
    {
      "cell_type": "code",
      "source": [
        "df_ampliado_train.to_csv(\"df_ampliado_train.csv\");\n",
        "df_ampliado_test.to_csv(\"df_ampliado_test.csv\");"
      ],
      "metadata": {
        "id": "8s63Ck2Rcr5H"
      },
      "execution_count": null,
      "outputs": []
    },
    {
      "cell_type": "markdown",
      "source": [
        "##b) Modelos"
      ],
      "metadata": {
        "id": "JmcncdrhW2zK"
      }
    },
    {
      "cell_type": "markdown",
      "source": [
        "Imports"
      ],
      "metadata": {
        "id": "R0m6k28CXmfI"
      }
    },
    {
      "cell_type": "code",
      "source": [
        "import xgboost as xgb\n",
        "from sklearn.model_selection import RandomizedSearchCV, StratifiedKFold\n",
        "from sklearn.preprocessing import StandardScaler, LabelEncoder\n",
        "from sklearn import metrics"
      ],
      "metadata": {
        "id": "9hKCfJG_XhGd"
      },
      "execution_count": null,
      "outputs": []
    },
    {
      "cell_type": "markdown",
      "source": [
        "Utilizamos los x_train, y_train, x_test e y_test del TP1"
      ],
      "metadata": {
        "id": "eWbfvQYWfy-D"
      }
    },
    {
      "cell_type": "code",
      "source": [
        "x_train_TP1 = pd.read_csv(\"/content/drive/MyDrive/datasets/x_train_regresion.csv\")\n",
        "y_train_regresion = pd.read_csv(\"/content/drive/MyDrive/datasets/y_train_regresion.csv\")\n",
        "x_test_TP1 = pd.read_csv(\"/content/drive/MyDrive/datasets/x_test_regresion.csv\")\n",
        "y_test_regresion = pd.read_csv(\"/content/drive/MyDrive/datasets/y_test_regresion.csv\")\n",
        "\n",
        "\n",
        "x_train_TP1.drop([\"Unnamed: 0\"], axis=1, inplace=True)\n",
        "y_train_regresion.drop([\"Unnamed: 0\"], axis=1, inplace=True)\n",
        "x_test_TP1.drop([\"Unnamed: 0\"], axis=1, inplace=True)\n",
        "y_test_regresion.drop([\"Unnamed: 0\"], axis=1, inplace=True)"
      ],
      "metadata": {
        "id": "SJQno1DbXlWg"
      },
      "execution_count": null,
      "outputs": []
    },
    {
      "cell_type": "markdown",
      "source": [
        "Eliminamos columnas del dataset que no utilizaremos"
      ],
      "metadata": {
        "id": "3cipbtnXXsoj"
      }
    },
    {
      "cell_type": "code",
      "source": [
        "df_ampliado_train.drop([\"id\"], axis=1, inplace=True)\n",
        "df_ampliado_test.drop([\"id\"], axis=1, inplace=True)"
      ],
      "metadata": {
        "id": "2mrl3WHCW2eC"
      },
      "execution_count": null,
      "outputs": []
    },
    {
      "cell_type": "markdown",
      "source": [
        "Seleccionamos las columnas nuevas generadas en la primera parte, tanto para la parte de train y test"
      ],
      "metadata": {
        "id": "HpOnn4-1Xr4z"
      }
    },
    {
      "cell_type": "code",
      "source": [
        "nuevas_columnas_train = df_ampliado_train[[\"tiene_cochera\",\"tiene_parrilla\",\"tiene_pileta\",\"tiene_terraza\",\"expensas\"]]\n",
        "nuevas_columnas_test = df_ampliado_test[[\"tiene_cochera\",\"tiene_parrilla\",\"tiene_pileta\",\"tiene_terraza\", \"expensas\"]]"
      ],
      "metadata": {
        "id": "uqmm0vrkXfZF"
      },
      "execution_count": null,
      "outputs": []
    },
    {
      "cell_type": "markdown",
      "source": [
        "Agregamos las nuevas columnas a x_train y x_test"
      ],
      "metadata": {
        "id": "9RVmIyRoX3QQ"
      }
    },
    {
      "cell_type": "code",
      "source": [
        "x_train_regresion = pd.concat([x_train_TP1, nuevas_columnas_train], axis=1)\n",
        "x_test_regresion = pd.concat([x_test_TP1, nuevas_columnas_test], axis=1)"
      ],
      "metadata": {
        "id": "KMOakZVqX0An"
      },
      "execution_count": null,
      "outputs": []
    },
    {
      "cell_type": "markdown",
      "source": [
        "**Guardamos los modelos de x_train, x_test, y_train e y_test que utilizaremos para los modelos de regresion**"
      ],
      "metadata": {
        "id": "XiIkdqSyjz5i"
      }
    },
    {
      "cell_type": "code",
      "source": [
        "x_train_regresion.to_csv(\"x_train_regresion_TP2.csv\");\n",
        "y_train_regresion.to_csv(\"y_train_regresion_TP2.csv\");\n",
        "x_test_regresion.to_csv(\"x_test_regresion_TP2.csv\");\n",
        "y_test_regresion.to_csv(\"y_test_regresion_TP2.csv\");"
      ],
      "metadata": {
        "id": "Vz6elX5Ujzdj"
      },
      "execution_count": null,
      "outputs": []
    },
    {
      "cell_type": "markdown",
      "source": [
        "Utilizamos labelEncoder para tranformar la variable expensas en un variable numerica. A labelEncoder lo entrenamos y transformamos con la variable expensas de x_train, para luego aplicar solamente transform sobre expensas en x_test"
      ],
      "metadata": {
        "id": "wlpZU4Amg8sm"
      }
    },
    {
      "cell_type": "code",
      "source": [
        "labelEncoder = LabelEncoder()\n",
        "x_train_regresion['expensas'] = labelEncoder.fit_transform(x_train_regresion['expensas'].astype(str))"
      ],
      "metadata": {
        "id": "HfmyjWYZYga2"
      },
      "execution_count": null,
      "outputs": []
    },
    {
      "cell_type": "code",
      "source": [
        "x_test_regresion['expensas'] = labelEncoder.transform(x_test_regresion['expensas'].astype(str))"
      ],
      "metadata": {
        "id": "Zy5WrV-ZYeRc"
      },
      "execution_count": null,
      "outputs": []
    },
    {
      "cell_type": "markdown",
      "source": [
        "**Estandarizamos los valores y de esta forma aquello valores grandes no tendran un mayor peso en los algorimos futuros que vayamos a utilizar**"
      ],
      "metadata": {
        "id": "k7MO9DWxYJlp"
      }
    },
    {
      "cell_type": "code",
      "source": [
        "scaler = StandardScaler() \n",
        "x_train_regresion = scaler.fit_transform(x_train_regresion)"
      ],
      "metadata": {
        "id": "ljhDEKNgX6TC"
      },
      "execution_count": null,
      "outputs": []
    },
    {
      "cell_type": "markdown",
      "source": [
        "Utilizamos el scaler ya entrenado con x_train para x_test"
      ],
      "metadata": {
        "id": "YGlOqSfyYUUG"
      }
    },
    {
      "cell_type": "code",
      "source": [
        "x_test_regresion = scaler.transform(x_test_regresion)"
      ],
      "metadata": {
        "id": "uFBriUzTYWC3"
      },
      "execution_count": null,
      "outputs": []
    },
    {
      "cell_type": "markdown",
      "source": [
        "###Mismos HiperParametros que el TP1"
      ],
      "metadata": {
        "id": "GdWJ9ofrZxAj"
      }
    },
    {
      "cell_type": "markdown",
      "source": [
        "Utilizamos los mismos hiperparametros utilizados en el TP1"
      ],
      "metadata": {
        "id": "sDRx2-ikYce6"
      }
    },
    {
      "cell_type": "code",
      "source": [
        "xgbr_sin_optimizar = xgb.XGBRegressor(subsample = 1.0,objective ='reg:squarederror',min_child_weight= 1, max_depth= 5, learning_rate= 0.2, gamma= 0.1, eval_metric = \"rmse\", eta = 0.5)\n",
        "xgbr_sin_optimizar.fit(x_train_regresion, y_train_regresion);"
      ],
      "metadata": {
        "id": "5xCZhx1BYeAD"
      },
      "execution_count": null,
      "outputs": []
    },
    {
      "cell_type": "markdown",
      "source": [
        "Aplicamos las mismas metricas que utilizamos en el TP1"
      ],
      "metadata": {
        "id": "irj6E7xxh6Js"
      }
    },
    {
      "cell_type": "code",
      "source": [
        "pred_train=xgbr_sin_optimizar.predict(x_train_regresion)\n",
        "pred_test=xgbr_sin_optimizar.predict(x_test_regresion)\n",
        "\n",
        "mse_train = metrics.mean_squared_error(y_train_regresion, pred_train)\n",
        "mse_test = metrics.mean_squared_error(y_test_regresion, pred_test)\n",
        "print(f\"El error (mse) de train es: {mse_train}\")\n",
        "print(f\"El error (mse) de test es: {mse_test}\")\n",
        "\n",
        "\n",
        "rmse_train = metrics.mean_squared_error(y_train_regresion, pred_train, squared=False)\n",
        "rmse_test = metrics.mean_squared_error(y_test_regresion, pred_test, squared=False)\n",
        "print(f\"El error (rmse) de train es: {rmse_train}\")\n",
        "print(f\"El error (rmse) de test es: {rmse_test}\")\n",
        "\n",
        "print(f\"La diferencia del error es {rmse_test - rmse_train}\");\n",
        "\n",
        "\n",
        "score = xgbr_sin_optimizar.score(x_test_regresion, y_test_regresion)\n",
        "print(f\"Y el score de test es {score}\")"
      ],
      "metadata": {
        "id": "yBS0WnSwYfuc"
      },
      "execution_count": null,
      "outputs": []
    },
    {
      "cell_type": "markdown",
      "source": [
        "La siguiente imagen son las metricas obtenidas en el TP1"
      ],
      "metadata": {
        "id": "xqWH83_jiBVP"
      }
    },
    {
      "cell_type": "markdown",
      "source": [
        "![metricaXGBoost.png](data:image/png;base64,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)"
      ],
      "metadata": {
        "id": "1k89Q5kBiGcx"
      }
    },
    {
      "cell_type": "markdown",
      "source": [
        "Como se puede ver las metricas son peores que las del TP1:\n",
        "- El MSE de train y test en el TP1 son menores por lo tanto son mejores\n",
        "- Lo mismo ocurre con las metricas obtenidas en RMSE, estas son mejores en el TP1\n",
        "- El score obtenido en el TP1 es mejor que el obtenido en este nuevo modelo"
      ],
      "metadata": {
        "id": "BRoqZ6YjiO6N"
      }
    },
    {
      "cell_type": "markdown",
      "source": [
        "**Guardamos el modelo NO optimizado**"
      ],
      "metadata": {
        "id": "B1ryo1d5qWyy"
      }
    },
    {
      "cell_type": "code",
      "source": [
        "#Guadamos el modelo\n",
        "joblib.dump(xgbr_sin_optimizar,\"XGBoost_no_optimizado.pkl\")"
      ],
      "metadata": {
        "id": "ZuvECTkHrKjr"
      },
      "execution_count": null,
      "outputs": []
    },
    {
      "cell_type": "markdown",
      "source": [
        "###Optimizamos los HiperParametros"
      ],
      "metadata": {
        "id": "oK5jT1wHYxJU"
      }
    },
    {
      "cell_type": "markdown",
      "source": [
        "Para optimizar los hiperparametros utilizaremos RandomizedSearchCV, para ahorrar tiempo en la busqueda de parametros"
      ],
      "metadata": {
        "id": "VdqY2v4tYzbd"
      }
    },
    {
      "cell_type": "code",
      "source": [
        "#XGBoost regressor\n",
        "xgbr = xgb.XGBRegressor()\n",
        "\n",
        "#Parametros\n",
        "parametros = {\n",
        "    \"max_depth\": [3,4,5],\n",
        "    \"min_child_weight\": [1,2,3],\n",
        "    \"gamma\": [i/10.0 for i in range(2,5)],\n",
        "    \"learning_rate\": [0.05, 0.1, 0.5],\n",
        "    \"objective\":['reg:squarederror'],\n",
        "    \"subsample\":[i/10.0 for i in range(2,5)],\n",
        "    \"eval_metric\": ['rmse'],\n",
        "    \"eta\": [i/10.0 for i in range(3,6)],\n",
        "\n",
        "}\n",
        "\n",
        "rand = RandomizedSearchCV(xgbr, param_distributions=parametros, cv = 5, n_iter = 10,random_state = 2)\n",
        "rand.fit(x_train_regresion, y_train_regresion)\n",
        "print(rand.best_params_)"
      ],
      "metadata": {
        "id": "8vdNmtiAY8AJ"
      },
      "execution_count": null,
      "outputs": []
    },
    {
      "cell_type": "code",
      "source": [
        "xgbr = xgb.XGBRegressor(subsample = 0.4,objective ='reg:squarederror',min_child_weight= 2, max_depth= 5, learning_rate= 0.5, gamma= 0.2, eval_metric = \"rmse\", eta = 0.3)\n",
        "xgbr.fit(x_train_regresion, y_train_regresion);"
      ],
      "metadata": {
        "id": "e4oUFhgJZom-"
      },
      "execution_count": null,
      "outputs": []
    },
    {
      "cell_type": "code",
      "source": [
        "pred_train=xgbr.predict(x_train_regresion)\n",
        "pred_test=xgbr.predict(x_test_regresion)\n",
        "\n",
        "mse_train = metrics.mean_squared_error(y_train_regresion, pred_train)\n",
        "mse_test = metrics.mean_squared_error(y_test_regresion, pred_test)\n",
        "print(f\"El error (mse) de train es: {mse_train}\")\n",
        "print(f\"El error (mse) de test es: {mse_test}\")\n",
        "\n",
        "\n",
        "rmse_train = metrics.mean_squared_error(y_train_regresion, pred_train, squared=False)\n",
        "rmse_test = metrics.mean_squared_error(y_test_regresion, pred_test, squared=False)\n",
        "print(f\"El error (rmse) de train es: {rmse_train}\")\n",
        "print(f\"El error (rmse) de test es: {rmse_test}\")\n",
        "\n",
        "print(f\"La diferencia del error es {rmse_test - rmse_train}\");\n",
        "\n",
        "\n",
        "score = xgbr.score(x_test_regresion, y_test_regresion)\n",
        "print(f\"Y el score de test es {score}\")"
      ],
      "metadata": {
        "id": "zVK6joOGZt-x"
      },
      "execution_count": null,
      "outputs": []
    },
    {
      "cell_type": "markdown",
      "source": [
        "Despues de optimizar los hiperparametros los resultados de las metricas mejoran por ejemplo:\n",
        "\n",
        "- Las metrica mse obtenidas tanto para train y test en el TP1 son mas mayores a los obtenidos por este modelo \n",
        "- Y ademas el score obtenido es levemente mejor pasamode de un score 0.9834 a uno de 0.9844"
      ],
      "metadata": {
        "id": "fNuwt5E0m9ve"
      }
    },
    {
      "cell_type": "markdown",
      "source": [
        "**Guardamos el modelo optimizado**"
      ],
      "metadata": {
        "id": "1_VzjbBPqvtP"
      }
    },
    {
      "cell_type": "code",
      "source": [
        "#Guadamos el modelo\n",
        "joblib.dump(xgbr,\"XGBoost_optimizado.pkl\")"
      ],
      "metadata": {
        "id": "llE7H9RCquZ1"
      },
      "execution_count": null,
      "outputs": []
    },
    {
      "cell_type": "markdown",
      "source": [
        "#Redes Neuronales"
      ],
      "metadata": {
        "id": "hUAF-gdfaLu5"
      }
    },
    {
      "cell_type": "markdown",
      "source": [
        "Imports"
      ],
      "metadata": {
        "id": "K6E_Zqpna2x8"
      }
    },
    {
      "cell_type": "code",
      "source": [
        "pip install -q -U keras-tuner"
      ],
      "metadata": {
        "id": "e7hKQYOAaOKj",
        "colab": {
          "base_uri": "https://localhost:8080/"
        },
        "outputId": "5c4480a0-9572-4c8e-f53d-b5f63caec6ee"
      },
      "execution_count": null,
      "outputs": [
        {
          "output_type": "stream",
          "name": "stdout",
          "text": [
            "\u001b[K     |████████████████████████████████| 135 kB 4.2 MB/s \n",
            "\u001b[K     |████████████████████████████████| 1.6 MB 31.4 MB/s \n",
            "\u001b[?25h"
          ]
        }
      ]
    },
    {
      "cell_type": "code",
      "source": [
        "import keras_tuner as kt\n",
        "import tensorflow as tf\n",
        "\n",
        "from tensorflow import keras\n",
        "from tensorflow.keras import layers"
      ],
      "metadata": {
        "id": "bNZtD5UPaTPk"
      },
      "execution_count": null,
      "outputs": []
    },
    {
      "cell_type": "markdown",
      "source": [
        "##Modelo Regresion"
      ],
      "metadata": {
        "id": "Lkk6C3caa3s5"
      }
    },
    {
      "cell_type": "markdown",
      "source": [
        "Los x_train, y_train , x_test e y_test que utilizaremos son los ya creados en el punto anterior"
      ],
      "metadata": {
        "id": "qc7Me5IqOmiD"
      }
    },
    {
      "cell_type": "markdown",
      "source": [
        "Creamos el modelo que utilizaremos para regresion"
      ],
      "metadata": {
        "id": "XsRz_dQyj1GO"
      }
    },
    {
      "cell_type": "code",
      "source": [
        "def model_builder(hp):\n",
        "  model = keras.Sequential()\n",
        "  model.add(keras.layers.Flatten(input_shape=(10,)))\n",
        "\n",
        "  hp_units = hp.Int('units', min_value=32, max_value=512, step=32)\n",
        "  hp_units2 = hp.Int('units2', min_value=32, max_value=512, step=32)\n",
        "  model.add(keras.layers.Dense(units=hp_units,  activation = \"relu\"))\n",
        "  model.add(tf.keras.layers.Dense(units=hp_units2, activation='relu'))\n",
        "\n",
        "  model.add(keras.layers.Dense(1, kernel_initializer='normal', activation='relu'))\n",
        "\n",
        "  hp_learning_rate = hp.Choice('learning_rate', values=[0.5, 1e-2, 1e-3, 1e-4])\n",
        "\n",
        "  model.compile(optimizer=keras.optimizers.Adam(learning_rate = hp_learning_rate),\n",
        "                loss=\"mse\",\n",
        "                metrics=[\"mse\"])\n",
        "\n",
        "  return model"
      ],
      "metadata": {
        "id": "Xt5iPxlIaVPs"
      },
      "execution_count": null,
      "outputs": []
    },
    {
      "cell_type": "code",
      "source": [
        "tuner = kt.RandomSearch(model_builder,\n",
        "                     objective='mse',\n",
        "                     max_trials=5,\n",
        "                     seed = 2)\n",
        "\n",
        "early_stopping = tf.keras.callbacks.EarlyStopping(monitor='mse', patience=5)\n",
        "tuner.search(x_train_regresion, y_train_regresion, epochs=500, batch_size=200, callbacks=[early_stopping], verbose=1)"
      ],
      "metadata": {
        "id": "7KiWuzI0aXnl"
      },
      "execution_count": null,
      "outputs": []
    },
    {
      "cell_type": "markdown",
      "source": [
        "Buscamos cual es la mejor epoca"
      ],
      "metadata": {
        "id": "bhHaneC4i0IJ"
      }
    },
    {
      "cell_type": "code",
      "source": [
        "mejores_hiperParametros = tuner.get_best_hyperparameters(num_trials=1)[0]\n",
        "\n",
        "modelo_armado = tuner.hypermodel.build(mejores_hiperParametros);\n",
        "\n",
        "modelo_entrenado = modelo_armado.fit(x_train_regresion, y_train_regresion, epochs=150 , batch_size=200, callbacks=[early_stopping]);\n",
        "\n",
        "valores_de_mse = modelo_entrenado.history['mse']\n",
        "\n",
        "mejor_epoca = valores_de_mse.index(min(valores_de_mse)) + 1\n",
        "\n",
        "print(\"La mejor epoca es:\", mejor_epoca)"
      ],
      "metadata": {
        "colab": {
          "base_uri": "https://localhost:8080/"
        },
        "id": "v3wXeue2aZCl",
        "outputId": "3935fb98-28b3-4276-c7cf-85bfa9cab94a"
      },
      "execution_count": null,
      "outputs": [
        {
          "output_type": "stream",
          "name": "stdout",
          "text": [
            "Epoch 1/150\n",
            "316/316 [==============================] - 2s 6ms/step - loss: 40965091328.0000 - mse: 40965099520.0000\n",
            "Epoch 2/150\n",
            "316/316 [==============================] - 2s 5ms/step - loss: 19224113152.0000 - mse: 19224113152.0000\n",
            "Epoch 3/150\n",
            "316/316 [==============================] - 3s 9ms/step - loss: 8749960192.0000 - mse: 8749960192.0000\n",
            "Epoch 4/150\n",
            "316/316 [==============================] - 3s 10ms/step - loss: 7033888768.0000 - mse: 7033888768.0000\n",
            "Epoch 5/150\n",
            "316/316 [==============================] - 3s 9ms/step - loss: 5753716736.0000 - mse: 5753716736.0000\n",
            "Epoch 6/150\n",
            "316/316 [==============================] - 3s 9ms/step - loss: 4853275648.0000 - mse: 4853275648.0000\n",
            "Epoch 7/150\n",
            "316/316 [==============================] - 3s 8ms/step - loss: 4284427776.0000 - mse: 4284427776.0000\n",
            "Epoch 8/150\n",
            "316/316 [==============================] - 3s 10ms/step - loss: 3911116800.0000 - mse: 3911116800.0000\n",
            "Epoch 9/150\n",
            "316/316 [==============================] - 3s 9ms/step - loss: 3635193856.0000 - mse: 3635193856.0000\n",
            "Epoch 10/150\n",
            "316/316 [==============================] - 3s 9ms/step - loss: 3401047552.0000 - mse: 3401047552.0000\n",
            "Epoch 11/150\n",
            "316/316 [==============================] - 3s 9ms/step - loss: 3182977536.0000 - mse: 3182977536.0000\n",
            "Epoch 12/150\n",
            "316/316 [==============================] - 3s 8ms/step - loss: 2967215104.0000 - mse: 2967215104.0000\n",
            "Epoch 13/150\n",
            "316/316 [==============================] - 3s 9ms/step - loss: 2745456384.0000 - mse: 2745456384.0000\n",
            "Epoch 14/150\n",
            "316/316 [==============================] - 3s 11ms/step - loss: 2505233664.0000 - mse: 2505233664.0000\n",
            "Epoch 15/150\n",
            "316/316 [==============================] - 3s 9ms/step - loss: 2239877888.0000 - mse: 2239877888.0000\n",
            "Epoch 16/150\n",
            "316/316 [==============================] - 3s 9ms/step - loss: 1944041600.0000 - mse: 1944041600.0000\n",
            "Epoch 17/150\n",
            "316/316 [==============================] - 3s 9ms/step - loss: 1611836928.0000 - mse: 1611836928.0000\n",
            "Epoch 18/150\n",
            "316/316 [==============================] - 3s 9ms/step - loss: 1248245760.0000 - mse: 1248245760.0000\n",
            "Epoch 19/150\n",
            "316/316 [==============================] - 3s 9ms/step - loss: 864784000.0000 - mse: 864784000.0000\n",
            "Epoch 20/150\n",
            "316/316 [==============================] - 3s 9ms/step - loss: 503450944.0000 - mse: 503450944.0000\n",
            "Epoch 21/150\n",
            "316/316 [==============================] - 3s 9ms/step - loss: 226331824.0000 - mse: 226331824.0000\n",
            "Epoch 22/150\n",
            "316/316 [==============================] - 3s 9ms/step - loss: 75676104.0000 - mse: 75676104.0000\n",
            "Epoch 23/150\n",
            "316/316 [==============================] - 2s 7ms/step - loss: 24912030.0000 - mse: 24912030.0000\n",
            "Epoch 24/150\n",
            "316/316 [==============================] - 2s 5ms/step - loss: 14114319.0000 - mse: 14114319.0000\n",
            "Epoch 25/150\n",
            "316/316 [==============================] - 2s 5ms/step - loss: 11581117.0000 - mse: 11581117.0000\n",
            "Epoch 26/150\n",
            "316/316 [==============================] - 2s 5ms/step - loss: 10380847.0000 - mse: 10380847.0000\n",
            "Epoch 27/150\n",
            "316/316 [==============================] - 2s 5ms/step - loss: 9560889.0000 - mse: 9560889.0000\n",
            "Epoch 28/150\n",
            "316/316 [==============================] - 2s 5ms/step - loss: 8956124.0000 - mse: 8956124.0000\n",
            "Epoch 29/150\n",
            "316/316 [==============================] - 2s 5ms/step - loss: 8487878.0000 - mse: 8487878.0000\n",
            "Epoch 30/150\n",
            "316/316 [==============================] - 2s 5ms/step - loss: 8127484.0000 - mse: 8127485.0000\n",
            "Epoch 31/150\n",
            "316/316 [==============================] - 2s 5ms/step - loss: 7796395.5000 - mse: 7796395.5000\n",
            "Epoch 32/150\n",
            "316/316 [==============================] - 2s 5ms/step - loss: 7576514.5000 - mse: 7576514.5000\n",
            "Epoch 33/150\n",
            "316/316 [==============================] - 2s 5ms/step - loss: 7364189.5000 - mse: 7364189.5000\n",
            "Epoch 34/150\n",
            "316/316 [==============================] - 2s 5ms/step - loss: 7220149.0000 - mse: 7220149.0000\n",
            "Epoch 35/150\n",
            "316/316 [==============================] - 2s 5ms/step - loss: 7111601.5000 - mse: 7111601.5000\n",
            "Epoch 36/150\n",
            "316/316 [==============================] - 2s 5ms/step - loss: 7037492.5000 - mse: 7037492.5000\n",
            "Epoch 37/150\n",
            "316/316 [==============================] - 2s 5ms/step - loss: 6931270.0000 - mse: 6931270.0000\n",
            "Epoch 38/150\n",
            "316/316 [==============================] - 2s 5ms/step - loss: 6856898.0000 - mse: 6856898.0000\n",
            "Epoch 39/150\n",
            "316/316 [==============================] - 2s 5ms/step - loss: 6790039.5000 - mse: 6790039.5000\n",
            "Epoch 40/150\n",
            "316/316 [==============================] - 2s 5ms/step - loss: 6743658.5000 - mse: 6743658.5000\n",
            "Epoch 41/150\n",
            "316/316 [==============================] - 2s 5ms/step - loss: 6690789.5000 - mse: 6690789.5000\n",
            "Epoch 42/150\n",
            "316/316 [==============================] - 2s 5ms/step - loss: 6656587.0000 - mse: 6656587.0000\n",
            "Epoch 43/150\n",
            "316/316 [==============================] - 2s 5ms/step - loss: 6629163.0000 - mse: 6629163.0000\n",
            "Epoch 44/150\n",
            "316/316 [==============================] - 2s 5ms/step - loss: 6585234.5000 - mse: 6585234.5000\n",
            "Epoch 45/150\n",
            "316/316 [==============================] - 2s 5ms/step - loss: 6566771.5000 - mse: 6566771.5000\n",
            "Epoch 46/150\n",
            "316/316 [==============================] - 2s 5ms/step - loss: 6550712.5000 - mse: 6550712.5000\n",
            "Epoch 47/150\n",
            "316/316 [==============================] - 2s 5ms/step - loss: 6538867.0000 - mse: 6538867.0000\n",
            "Epoch 48/150\n",
            "316/316 [==============================] - 2s 5ms/step - loss: 6484973.5000 - mse: 6484973.5000\n",
            "Epoch 49/150\n",
            "316/316 [==============================] - 2s 5ms/step - loss: 6489195.0000 - mse: 6489195.0000\n",
            "Epoch 50/150\n",
            "316/316 [==============================] - 2s 5ms/step - loss: 6481662.5000 - mse: 6481662.5000\n",
            "Epoch 51/150\n",
            "316/316 [==============================] - 2s 5ms/step - loss: 6453082.0000 - mse: 6453082.0000\n",
            "Epoch 52/150\n",
            "316/316 [==============================] - 2s 5ms/step - loss: 6461560.5000 - mse: 6461560.5000\n",
            "Epoch 53/150\n",
            "316/316 [==============================] - 2s 5ms/step - loss: 6459941.0000 - mse: 6459941.0000\n",
            "Epoch 54/150\n",
            "316/316 [==============================] - 2s 5ms/step - loss: 6398531.0000 - mse: 6398531.0000\n",
            "Epoch 55/150\n",
            "316/316 [==============================] - 2s 5ms/step - loss: 6419539.0000 - mse: 6419539.0000\n",
            "Epoch 56/150\n",
            "316/316 [==============================] - 2s 5ms/step - loss: 6414695.0000 - mse: 6414695.0000\n",
            "Epoch 57/150\n",
            "316/316 [==============================] - 2s 5ms/step - loss: 6409812.5000 - mse: 6409812.5000\n",
            "Epoch 58/150\n",
            "316/316 [==============================] - 2s 5ms/step - loss: 6391336.0000 - mse: 6391336.0000\n",
            "Epoch 59/150\n",
            "316/316 [==============================] - 2s 5ms/step - loss: 6393637.0000 - mse: 6393637.0000\n",
            "Epoch 60/150\n",
            "316/316 [==============================] - 2s 5ms/step - loss: 6366960.5000 - mse: 6366960.5000\n",
            "Epoch 61/150\n",
            "316/316 [==============================] - 2s 5ms/step - loss: 6402548.5000 - mse: 6402548.5000\n",
            "Epoch 62/150\n",
            "316/316 [==============================] - 2s 5ms/step - loss: 6356456.0000 - mse: 6356456.0000\n",
            "Epoch 63/150\n",
            "316/316 [==============================] - 2s 5ms/step - loss: 6395722.5000 - mse: 6395722.5000\n",
            "Epoch 64/150\n",
            "316/316 [==============================] - 2s 6ms/step - loss: 6366118.0000 - mse: 6366118.0000\n",
            "Epoch 65/150\n",
            "316/316 [==============================] - 3s 9ms/step - loss: 6370471.0000 - mse: 6370471.0000\n",
            "Epoch 66/150\n",
            "316/316 [==============================] - 3s 9ms/step - loss: 6338545.5000 - mse: 6338545.5000\n",
            "Epoch 67/150\n",
            "316/316 [==============================] - 4s 11ms/step - loss: 6344520.5000 - mse: 6344520.5000\n",
            "Epoch 68/150\n",
            "316/316 [==============================] - 2s 5ms/step - loss: 6344880.0000 - mse: 6344880.0000\n",
            "Epoch 69/150\n",
            "316/316 [==============================] - 2s 5ms/step - loss: 6351986.0000 - mse: 6351986.0000\n",
            "Epoch 70/150\n",
            "316/316 [==============================] - 2s 5ms/step - loss: 6317974.0000 - mse: 6317974.0000\n",
            "Epoch 71/150\n",
            "316/316 [==============================] - 2s 5ms/step - loss: 6319744.0000 - mse: 6319744.0000\n",
            "Epoch 72/150\n",
            "316/316 [==============================] - 2s 5ms/step - loss: 6350652.0000 - mse: 6350652.0000\n",
            "Epoch 73/150\n",
            "316/316 [==============================] - 2s 5ms/step - loss: 6358986.0000 - mse: 6358986.0000\n",
            "Epoch 74/150\n",
            "316/316 [==============================] - 2s 5ms/step - loss: 6329745.0000 - mse: 6329745.0000\n",
            "Epoch 75/150\n",
            "316/316 [==============================] - 2s 7ms/step - loss: 6335277.5000 - mse: 6335277.5000\n",
            "La mejor epoca es: 70\n"
          ]
        }
      ]
    },
    {
      "cell_type": "markdown",
      "source": [
        "Reentreno el modelo (Por ultima vez), pero esta vez con las mejores epocas"
      ],
      "metadata": {
        "id": "TK5sAmRIhLl3"
      }
    },
    {
      "cell_type": "code",
      "source": [
        "modelo = tuner.hypermodel.build(mejores_hiperParametros)\n",
        "\n",
        "modelo.fit(x_train_regresion, y_train_regresion, epochs=mejor_epoca ,batch_size=225 ,validation_split=0.2, callbacks=[early_stopping])"
      ],
      "metadata": {
        "colab": {
          "base_uri": "https://localhost:8080/"
        },
        "id": "9eXstdWCae8x",
        "outputId": "eea50ed4-d4ee-454e-c562-97df244a5980"
      },
      "execution_count": null,
      "outputs": [
        {
          "output_type": "stream",
          "name": "stdout",
          "text": [
            "Epoch 1/70\n",
            "225/225 [==============================] - 3s 7ms/step - loss: 42855485440.0000 - mse: 42855485440.0000 - val_loss: 40191922176.0000 - val_mse: 40191922176.0000\n",
            "Epoch 2/70\n",
            "225/225 [==============================] - 2s 7ms/step - loss: 32512673792.0000 - mse: 32512673792.0000 - val_loss: 21813035008.0000 - val_mse: 21813035008.0000\n",
            "Epoch 3/70\n",
            "225/225 [==============================] - 2s 10ms/step - loss: 14387458048.0000 - mse: 14387458048.0000 - val_loss: 9874317312.0000 - val_mse: 9874317312.0000\n",
            "Epoch 4/70\n",
            "225/225 [==============================] - 2s 11ms/step - loss: 8879367168.0000 - mse: 8879367168.0000 - val_loss: 8150288384.0000 - val_mse: 8150288384.0000\n",
            "Epoch 5/70\n",
            "225/225 [==============================] - 2s 10ms/step - loss: 7610183168.0000 - mse: 7610183168.0000 - val_loss: 7084022272.0000 - val_mse: 7084022272.0000\n",
            "Epoch 6/70\n",
            "225/225 [==============================] - 2s 10ms/step - loss: 6614315008.0000 - mse: 6614315008.0000 - val_loss: 6143751680.0000 - val_mse: 6143751680.0000\n",
            "Epoch 7/70\n",
            "225/225 [==============================] - 2s 10ms/step - loss: 5758564352.0000 - mse: 5758564352.0000 - val_loss: 5381124608.0000 - val_mse: 5381124608.0000\n",
            "Epoch 8/70\n",
            "225/225 [==============================] - 2s 10ms/step - loss: 5099742208.0000 - mse: 5099742208.0000 - val_loss: 4827411456.0000 - val_mse: 4827411968.0000\n",
            "Epoch 9/70\n",
            "225/225 [==============================] - 2s 10ms/step - loss: 4626237952.0000 - mse: 4626237952.0000 - val_loss: 4429288448.0000 - val_mse: 4429288448.0000\n",
            "Epoch 10/70\n",
            "225/225 [==============================] - 2s 10ms/step - loss: 4277043456.0000 - mse: 4277043456.0000 - val_loss: 4136441344.0000 - val_mse: 4136441344.0000\n",
            "Epoch 11/70\n",
            "225/225 [==============================] - 2s 9ms/step - loss: 4012537088.0000 - mse: 4012537088.0000 - val_loss: 3905216768.0000 - val_mse: 3905216768.0000\n",
            "Epoch 12/70\n",
            "225/225 [==============================] - 2s 11ms/step - loss: 3798743040.0000 - mse: 3798743040.0000 - val_loss: 3710979072.0000 - val_mse: 3710978560.0000\n",
            "Epoch 13/70\n",
            "225/225 [==============================] - 2s 10ms/step - loss: 3616421888.0000 - mse: 3616421888.0000 - val_loss: 3541191936.0000 - val_mse: 3541191936.0000\n",
            "Epoch 14/70\n",
            "225/225 [==============================] - 2s 10ms/step - loss: 3452405248.0000 - mse: 3452405248.0000 - val_loss: 3384738560.0000 - val_mse: 3384738560.0000\n",
            "Epoch 15/70\n",
            "225/225 [==============================] - 2s 10ms/step - loss: 3295937280.0000 - mse: 3295937280.0000 - val_loss: 3233012736.0000 - val_mse: 3233012736.0000\n",
            "Epoch 16/70\n",
            "225/225 [==============================] - 3s 12ms/step - loss: 3145359616.0000 - mse: 3145359616.0000 - val_loss: 3084309760.0000 - val_mse: 3084309760.0000\n",
            "Epoch 17/70\n",
            "225/225 [==============================] - 2s 8ms/step - loss: 2991743232.0000 - mse: 2991743232.0000 - val_loss: 2929644288.0000 - val_mse: 2929644288.0000\n",
            "Epoch 18/70\n",
            "225/225 [==============================] - 1s 6ms/step - loss: 2835040512.0000 - mse: 2835040512.0000 - val_loss: 2767842048.0000 - val_mse: 2767842048.0000\n",
            "Epoch 19/70\n",
            "225/225 [==============================] - 1s 6ms/step - loss: 2668504064.0000 - mse: 2668504064.0000 - val_loss: 2600746240.0000 - val_mse: 2600746240.0000\n",
            "Epoch 20/70\n",
            "225/225 [==============================] - 1s 6ms/step - loss: 2498027776.0000 - mse: 2498027776.0000 - val_loss: 2419675392.0000 - val_mse: 2419675392.0000\n",
            "Epoch 21/70\n",
            "225/225 [==============================] - 1s 6ms/step - loss: 2310333696.0000 - mse: 2310333696.0000 - val_loss: 2226129920.0000 - val_mse: 2226129920.0000\n",
            "Epoch 22/70\n",
            "225/225 [==============================] - 1s 6ms/step - loss: 2111845888.0000 - mse: 2111845888.0000 - val_loss: 2026289152.0000 - val_mse: 2026289152.0000\n",
            "Epoch 23/70\n",
            "225/225 [==============================] - 1s 6ms/step - loss: 1897959680.0000 - mse: 1897959680.0000 - val_loss: 1793580288.0000 - val_mse: 1793580288.0000\n",
            "Epoch 24/70\n",
            "225/225 [==============================] - 1s 6ms/step - loss: 1664638464.0000 - mse: 1664638464.0000 - val_loss: 1552601856.0000 - val_mse: 1552601856.0000\n",
            "Epoch 25/70\n",
            "225/225 [==============================] - 1s 6ms/step - loss: 1413976960.0000 - mse: 1413976960.0000 - val_loss: 1289486976.0000 - val_mse: 1289486976.0000\n",
            "Epoch 26/70\n",
            "225/225 [==============================] - 1s 6ms/step - loss: 1147930624.0000 - mse: 1147930624.0000 - val_loss: 1020563264.0000 - val_mse: 1020563264.0000\n",
            "Epoch 27/70\n",
            "225/225 [==============================] - 1s 6ms/step - loss: 878694208.0000 - mse: 878694208.0000 - val_loss: 750169408.0000 - val_mse: 750169408.0000\n",
            "Epoch 28/70\n",
            "225/225 [==============================] - 1s 6ms/step - loss: 620745984.0000 - mse: 620745984.0000 - val_loss: 500574848.0000 - val_mse: 500574848.0000\n",
            "Epoch 29/70\n",
            "225/225 [==============================] - 1s 6ms/step - loss: 391263200.0000 - mse: 391263200.0000 - val_loss: 294522720.0000 - val_mse: 294522720.0000\n",
            "Epoch 30/70\n",
            "225/225 [==============================] - 1s 6ms/step - loss: 213157696.0000 - mse: 213157696.0000 - val_loss: 144221520.0000 - val_mse: 144221520.0000\n",
            "Epoch 31/70\n",
            "225/225 [==============================] - 1s 6ms/step - loss: 98933496.0000 - mse: 98933496.0000 - val_loss: 62200224.0000 - val_mse: 62200224.0000\n",
            "Epoch 32/70\n",
            "225/225 [==============================] - 1s 6ms/step - loss: 42839772.0000 - mse: 42839772.0000 - val_loss: 27703468.0000 - val_mse: 27703468.0000\n",
            "Epoch 33/70\n",
            "225/225 [==============================] - 1s 6ms/step - loss: 21774644.0000 - mse: 21774644.0000 - val_loss: 16350087.0000 - val_mse: 16350087.0000\n",
            "Epoch 34/70\n",
            "225/225 [==============================] - 1s 6ms/step - loss: 15083183.0000 - mse: 15083183.0000 - val_loss: 12773830.0000 - val_mse: 12773830.0000\n",
            "Epoch 35/70\n",
            "225/225 [==============================] - 1s 6ms/step - loss: 12676099.0000 - mse: 12676099.0000 - val_loss: 11215927.0000 - val_mse: 11215927.0000\n",
            "Epoch 36/70\n",
            "225/225 [==============================] - 1s 6ms/step - loss: 11394838.0000 - mse: 11394838.0000 - val_loss: 10241967.0000 - val_mse: 10241967.0000\n",
            "Epoch 37/70\n",
            "225/225 [==============================] - 1s 6ms/step - loss: 10486518.0000 - mse: 10486518.0000 - val_loss: 9520872.0000 - val_mse: 9520872.0000\n",
            "Epoch 38/70\n",
            "225/225 [==============================] - 1s 6ms/step - loss: 9799881.0000 - mse: 9799881.0000 - val_loss: 8933873.0000 - val_mse: 8933874.0000\n",
            "Epoch 39/70\n",
            "225/225 [==============================] - 1s 6ms/step - loss: 9269976.0000 - mse: 9269976.0000 - val_loss: 8501600.0000 - val_mse: 8501600.0000\n",
            "Epoch 40/70\n",
            "225/225 [==============================] - 1s 6ms/step - loss: 8825666.0000 - mse: 8825666.0000 - val_loss: 8158666.5000 - val_mse: 8158666.5000\n",
            "Epoch 41/70\n",
            "225/225 [==============================] - 1s 6ms/step - loss: 8470683.0000 - mse: 8470683.0000 - val_loss: 7862348.5000 - val_mse: 7862348.5000\n",
            "Epoch 42/70\n",
            "225/225 [==============================] - 1s 6ms/step - loss: 8183027.0000 - mse: 8183027.0000 - val_loss: 7650498.5000 - val_mse: 7650498.5000\n",
            "Epoch 43/70\n",
            "225/225 [==============================] - 1s 6ms/step - loss: 7911596.0000 - mse: 7911596.0000 - val_loss: 7465801.5000 - val_mse: 7465801.5000\n",
            "Epoch 44/70\n",
            "225/225 [==============================] - 1s 6ms/step - loss: 7723044.5000 - mse: 7723044.5000 - val_loss: 7287378.0000 - val_mse: 7287378.0000\n",
            "Epoch 45/70\n",
            "225/225 [==============================] - 1s 6ms/step - loss: 7555993.5000 - mse: 7555993.5000 - val_loss: 7271373.5000 - val_mse: 7271373.5000\n",
            "Epoch 46/70\n",
            "225/225 [==============================] - 1s 6ms/step - loss: 7416148.0000 - mse: 7416148.0000 - val_loss: 7088829.5000 - val_mse: 7088829.5000\n",
            "Epoch 47/70\n",
            "225/225 [==============================] - 1s 6ms/step - loss: 7303120.0000 - mse: 7303120.0000 - val_loss: 6945591.0000 - val_mse: 6945591.0000\n",
            "Epoch 48/70\n",
            "225/225 [==============================] - 1s 6ms/step - loss: 7174834.0000 - mse: 7174834.0000 - val_loss: 6831750.5000 - val_mse: 6831750.5000\n",
            "Epoch 49/70\n",
            "225/225 [==============================] - 1s 6ms/step - loss: 7086820.5000 - mse: 7086820.5000 - val_loss: 6744483.5000 - val_mse: 6744483.5000\n",
            "Epoch 50/70\n",
            "225/225 [==============================] - 1s 6ms/step - loss: 7005715.5000 - mse: 7005715.5000 - val_loss: 6688388.5000 - val_mse: 6688388.5000\n",
            "Epoch 51/70\n",
            "225/225 [==============================] - 1s 6ms/step - loss: 6949788.0000 - mse: 6949788.0000 - val_loss: 6669704.0000 - val_mse: 6669704.0000\n",
            "Epoch 52/70\n",
            "225/225 [==============================] - 1s 6ms/step - loss: 6924667.0000 - mse: 6924667.0000 - val_loss: 6685264.0000 - val_mse: 6685264.0000\n",
            "Epoch 53/70\n",
            "225/225 [==============================] - 1s 6ms/step - loss: 6853990.5000 - mse: 6853990.5000 - val_loss: 6569745.0000 - val_mse: 6569745.0000\n",
            "Epoch 54/70\n",
            "225/225 [==============================] - 1s 6ms/step - loss: 6814320.5000 - mse: 6814320.5000 - val_loss: 6631363.5000 - val_mse: 6631363.5000\n",
            "Epoch 55/70\n",
            "225/225 [==============================] - 1s 6ms/step - loss: 6772230.0000 - mse: 6772230.0000 - val_loss: 6579105.0000 - val_mse: 6579105.0000\n",
            "Epoch 56/70\n",
            "225/225 [==============================] - 1s 6ms/step - loss: 6736498.5000 - mse: 6736498.5000 - val_loss: 6604032.0000 - val_mse: 6604032.0000\n",
            "Epoch 57/70\n",
            "225/225 [==============================] - 1s 6ms/step - loss: 6733915.0000 - mse: 6733915.0000 - val_loss: 6490851.0000 - val_mse: 6490851.0000\n",
            "Epoch 58/70\n",
            "225/225 [==============================] - 1s 6ms/step - loss: 6696115.5000 - mse: 6696115.5000 - val_loss: 6566421.0000 - val_mse: 6566421.0000\n",
            "Epoch 59/70\n",
            "225/225 [==============================] - 1s 6ms/step - loss: 6651830.0000 - mse: 6651830.0000 - val_loss: 6410697.5000 - val_mse: 6410697.5000\n",
            "Epoch 60/70\n",
            "225/225 [==============================] - 1s 6ms/step - loss: 6649178.5000 - mse: 6649178.5000 - val_loss: 6486198.0000 - val_mse: 6486198.0000\n",
            "Epoch 61/70\n",
            "225/225 [==============================] - 1s 6ms/step - loss: 6606221.5000 - mse: 6606221.5000 - val_loss: 6391125.0000 - val_mse: 6391125.0000\n",
            "Epoch 62/70\n",
            "225/225 [==============================] - 1s 6ms/step - loss: 6555244.5000 - mse: 6555244.5000 - val_loss: 6426066.5000 - val_mse: 6426066.5000\n",
            "Epoch 63/70\n",
            "225/225 [==============================] - 1s 6ms/step - loss: 6556840.5000 - mse: 6556840.5000 - val_loss: 6428737.0000 - val_mse: 6428737.0000\n",
            "Epoch 64/70\n",
            "225/225 [==============================] - 1s 6ms/step - loss: 6561406.5000 - mse: 6561406.5000 - val_loss: 6423046.0000 - val_mse: 6423046.0000\n",
            "Epoch 65/70\n",
            "225/225 [==============================] - 1s 6ms/step - loss: 6531045.5000 - mse: 6531045.5000 - val_loss: 6483813.5000 - val_mse: 6483813.5000\n",
            "Epoch 66/70\n",
            "225/225 [==============================] - 1s 6ms/step - loss: 6508340.0000 - mse: 6508340.0000 - val_loss: 6384987.5000 - val_mse: 6384987.5000\n",
            "Epoch 67/70\n",
            "225/225 [==============================] - 1s 6ms/step - loss: 6502909.5000 - mse: 6502909.5000 - val_loss: 6368700.0000 - val_mse: 6368700.0000\n",
            "Epoch 68/70\n",
            "225/225 [==============================] - 1s 6ms/step - loss: 6463576.5000 - mse: 6463576.5000 - val_loss: 6483200.0000 - val_mse: 6483200.0000\n",
            "Epoch 69/70\n",
            "225/225 [==============================] - 1s 6ms/step - loss: 6508236.0000 - mse: 6508236.0000 - val_loss: 6453078.0000 - val_mse: 6453078.0000\n",
            "Epoch 70/70\n",
            "225/225 [==============================] - 1s 6ms/step - loss: 6462674.5000 - mse: 6462674.5000 - val_loss: 6259983.0000 - val_mse: 6259983.0000\n"
          ]
        },
        {
          "output_type": "execute_result",
          "data": {
            "text/plain": [
              "<keras.callbacks.History at 0x7fc913cb5a00>"
            ]
          },
          "metadata": {},
          "execution_count": 90
        }
      ]
    },
    {
      "cell_type": "code",
      "source": [
        "resultado = modelo.evaluate(x_test_regresion, y_test_regresion)\n",
        "print(\"El valor de mse en test es : \", resultado[1])"
      ],
      "metadata": {
        "colab": {
          "base_uri": "https://localhost:8080/"
        },
        "id": "020NMVdGagfJ",
        "outputId": "eb6ac667-73b8-4eb3-94e9-c41346cb7b04"
      },
      "execution_count": null,
      "outputs": [
        {
          "output_type": "stream",
          "name": "stdout",
          "text": [
            "535/535 [==============================] - 1s 2ms/step - loss: 6480001.5000 - mse: 6480001.5000\n",
            "El valor de mse en test es :  6480001.5\n"
          ]
        }
      ]
    },
    {
      "cell_type": "code",
      "source": [
        "resultado = modelo.evaluate(x_train_regresion, y_train_regresion)\n",
        "print(\"El valor de mse en train es : \", resultado[1])"
      ],
      "metadata": {
        "colab": {
          "base_uri": "https://localhost:8080/"
        },
        "id": "3kUPurX2ah_C",
        "outputId": "849f5d6c-4c79-4a02-a704-7f0d7aa453bb"
      },
      "execution_count": null,
      "outputs": [
        {
          "output_type": "stream",
          "name": "stdout",
          "text": [
            "1970/1970 [==============================] - 4s 2ms/step - loss: 6333602.5000 - mse: 6333602.5000\n",
            "El valor de mse en train es :  6333602.5\n"
          ]
        }
      ]
    },
    {
      "cell_type": "code",
      "source": [
        "import joblib\n",
        "#Guadamos el modelo\n",
        "joblib.dump(modelo,\"modelo_regresion.pkl\")"
      ],
      "metadata": {
        "colab": {
          "base_uri": "https://localhost:8080/"
        },
        "id": "gUtW55MRftsF",
        "outputId": "44c33738-b5da-4135-de42-0466429fffa3"
      },
      "execution_count": null,
      "outputs": [
        {
          "output_type": "execute_result",
          "data": {
            "text/plain": [
              "['modelo_regresion.pkl']"
            ]
          },
          "metadata": {},
          "execution_count": 93
        }
      ]
    },
    {
      "cell_type": "markdown",
      "source": [
        "##Modelo clasificación"
      ],
      "metadata": {
        "id": "Y08CdCuFPJao"
      }
    },
    {
      "cell_type": "code",
      "source": [
        "from keras.wrappers.scikit_learn import KerasClassifier \n",
        "from sklearn.preprocessing import OneHotEncoder, StandardScaler\n",
        "from sklearn.metrics import precision_score\n",
        "from sklearn.metrics import recall_score\n",
        "from sklearn.metrics import f1_score\n",
        "from sklearn.metrics import confusion_matrix\n",
        "from sklearn import preprocessing\n",
        "from tensorflow import keras"
      ],
      "metadata": {
        "id": "z1CVRsRrg3OV"
      },
      "execution_count": null,
      "outputs": []
    },
    {
      "cell_type": "markdown",
      "source": [
        "Cargamos los datasets que fueron usados en la clasificación del TP1"
      ],
      "metadata": {
        "id": "3oneXnApReJK"
      }
    },
    {
      "cell_type": "code",
      "source": [
        "df_ampliado_train = pd.read_csv(\"/content/drive/MyDrive/datasets/df_ampliado_train.csv\")\n",
        "df_ampliado_test = pd.read_csv(\"/content/drive/MyDrive/datasets/df_ampliado_test.csv\")\n",
        "y_train_clasif_orig = pd.read_csv(\"/content/drive/MyDrive/datasets/y_train_clasificacion.csv\")\n",
        "y_test_clasif_orig = pd.read_csv(\"/content/drive/MyDrive/datasets/y_test_clasificacion.csv\")"
      ],
      "metadata": {
        "id": "holjR1dTRGSM"
      },
      "execution_count": null,
      "outputs": []
    },
    {
      "cell_type": "markdown",
      "source": [
        "Eliminamos columna innecesaria"
      ],
      "metadata": {
        "id": "oE1o9MG6UC14"
      }
    },
    {
      "cell_type": "code",
      "source": [
        "y_train_clasif_orig.drop([\"Unnamed: 0\"], axis=1, inplace=True)\n",
        "y_test_clasif_orig.drop([\"Unnamed: 0\"], axis=1, inplace=True)"
      ],
      "metadata": {
        "id": "83NFjDV7Y4e8"
      },
      "execution_count": null,
      "outputs": []
    },
    {
      "cell_type": "markdown",
      "source": [
        "Dividimos el dataset ampliado para obtener el mismo tamaño que el target utilizado en el TP1"
      ],
      "metadata": {
        "id": "4jUXmgYIu3nm"
      }
    },
    {
      "cell_type": "code",
      "source": [
        "x_train_clasif, x_test_clasif = train_test_split(df_ampliado_train, test_size = 0.20, random_state=2)"
      ],
      "metadata": {
        "id": "LBS9iUOliRwb"
      },
      "execution_count": null,
      "outputs": []
    },
    {
      "cell_type": "markdown",
      "source": [
        "Dejamos los features que consideramos necesarios"
      ],
      "metadata": {
        "id": "OkYYx0mqvNRz"
      }
    },
    {
      "cell_type": "code",
      "source": [
        "x_train_clasif = x_train_clasif[['latitud', 'longitud', 'property_rooms', 'property_surface_total','property_type']]\n",
        "x_test_clasif = x_test_clasif[['latitud', 'longitud', 'property_rooms', 'property_surface_total','property_type']]"
      ],
      "metadata": {
        "id": "mBFKkgmOUWlM"
      },
      "execution_count": null,
      "outputs": []
    },
    {
      "cell_type": "markdown",
      "source": [
        "Hacemos Dummie encoding para la variable clasificatoria property_type"
      ],
      "metadata": {
        "id": "u1WJ3iKlvgwa"
      }
    },
    {
      "cell_type": "code",
      "source": [
        "x_train_clasif = pd.get_dummies(x_train_clasif, columns=['property_type'], drop_first=True)\n",
        "x_test_clasif = pd.get_dummies(x_test_clasif, columns=['property_type'], drop_first=True)"
      ],
      "metadata": {
        "id": "4qKOwhteX-RH"
      },
      "execution_count": null,
      "outputs": []
    },
    {
      "cell_type": "markdown",
      "source": [
        "**Guardamos los dataset que utilizaremos para train y test en la parte de clasificacion**"
      ],
      "metadata": {
        "id": "Wls64wdRwRr_"
      }
    },
    {
      "cell_type": "code",
      "source": [
        "x_train_clasif.to_csv(\"x_train_clasificacion_TP2.csv\");\n",
        "y_train_clasif_orig.to_csv(\"y_train_clasificacion_TP2.csv\");\n",
        "x_test_clasif.to_csv(\"x_test_clasificacion_TP2.csv\");\n",
        "y_test_clasif_orig.to_csv(\"y_test_clasificacion_TP2.csv\");"
      ],
      "metadata": {
        "id": "GfRFuElrwRUP"
      },
      "execution_count": null,
      "outputs": []
    },
    {
      "cell_type": "markdown",
      "source": [
        "Usamos OneHotEncoding para el target tipo_precio"
      ],
      "metadata": {
        "id": "PdOreNgcwOXr"
      }
    },
    {
      "cell_type": "code",
      "source": [
        "onehot = preprocessing.OneHotEncoder()\n",
        "y_train_enco = onehot.fit_transform(y_train_clasif_orig).toarray()\n",
        "y_test_enco = onehot.transform(y_test_clasif_orig).toarray()"
      ],
      "metadata": {
        "id": "sY7hANfUxAca"
      },
      "execution_count": null,
      "outputs": []
    },
    {
      "cell_type": "markdown",
      "source": [
        "**Estandarizamos los valores y de esta forma aquello valores grandes no tendran un mayor peso en los algorimos futuros que vayamos a utilizar**"
      ],
      "metadata": {
        "id": "FQMLo3YrUjxp"
      }
    },
    {
      "cell_type": "code",
      "source": [
        "scaler = StandardScaler() \n",
        "x_train_scaled = scaler.fit_transform(x_train_clasif)"
      ],
      "metadata": {
        "id": "lmQXYmQaUjxp"
      },
      "execution_count": null,
      "outputs": []
    },
    {
      "cell_type": "markdown",
      "source": [
        "Utilizamos el scaler ya entrenado con x train para x_test"
      ],
      "metadata": {
        "id": "lYTLuF37Ujxp"
      }
    },
    {
      "cell_type": "code",
      "source": [
        "x_test_scaled = scaler.transform(x_test_clasif)"
      ],
      "metadata": {
        "id": "3nAgU2a7Ujxp"
      },
      "execution_count": null,
      "outputs": []
    },
    {
      "cell_type": "markdown",
      "metadata": {
        "id": "bnPFA3lh5vM2"
      },
      "source": [
        "### Creación del modelo de clasificación"
      ]
    },
    {
      "cell_type": "markdown",
      "source": [
        "Creamos un modelo de 3 capas, 10 entradas, la capa oculta y 3 salidas, ya que es la cantidad de clases que vamos a clasificar. Además el input shape serán la cantidad de variables con las que vamos a entrenar el modelo.\n",
        "Luego de probar varios modelos e hiperparámetros, fue el mejor que encontramos, incluso utilizando KerasTuner (desarrollado más adelante)"
      ],
      "metadata": {
        "id": "njZ9WXMnxglo"
      }
    },
    {
      "cell_type": "code",
      "source": [
        "n_clases = 3\n",
        "n_features_train = x_train_clasif.shape[1]"
      ],
      "metadata": {
        "id": "Q9c5EoNByBel"
      },
      "execution_count": null,
      "outputs": []
    },
    {
      "cell_type": "markdown",
      "source": [
        "La activacion de la capa de salida será Softmax, ya que tenemos multiples clases en el target"
      ],
      "metadata": {
        "id": "MlGKn-asyhUA"
      }
    },
    {
      "cell_type": "code",
      "execution_count": null,
      "metadata": {
        "id": "J23kMVVp5vM2",
        "outputId": "d93b801b-089e-4873-cef9-f1bcf713f78e",
        "colab": {
          "base_uri": "https://localhost:8080/"
        }
      },
      "outputs": [
        {
          "output_type": "stream",
          "name": "stdout",
          "text": [
            "Model: \"sequential\"\n",
            "_________________________________________________________________\n",
            " Layer (type)                Output Shape              Param #   \n",
            "=================================================================\n",
            " dense (Dense)               (None, 10)                70        \n",
            "                                                                 \n",
            " dense_1 (Dense)             (None, 3)                 33        \n",
            "                                                                 \n",
            "=================================================================\n",
            "Total params: 103\n",
            "Trainable params: 103\n",
            "Non-trainable params: 0\n",
            "_________________________________________________________________\n"
          ]
        }
      ],
      "source": [
        "modelo_clasif = keras.Sequential([ \n",
        "    keras.layers.Dense(10,input_shape=(n_features_train,), activation='relu',kernel_initializer='uniform'),\n",
        "    keras.layers.Dense(n_clases, activation='softmax')])\n",
        "\n",
        "modelo_clasif.summary()"
      ]
    },
    {
      "cell_type": "markdown",
      "source": [
        "Tomamos como optimizador SGD"
      ],
      "metadata": {
        "id": "eyCQic-ey17s"
      }
    },
    {
      "cell_type": "code",
      "execution_count": null,
      "metadata": {
        "id": "m7INtgDB5vM3"
      },
      "outputs": [],
      "source": [
        "modelo_clasif.compile(\n",
        "  optimizer = keras.optimizers.SGD(learning_rate = 0.001), \n",
        "  loss = 'categorical_crossentropy',\n",
        "  metrics = ['accuracy'], \n",
        ")"
      ]
    },
    {
      "cell_type": "markdown",
      "source": [
        "Probamos con n_epocas épocas y n_batch de batch_size y entrenamos el modelo"
      ],
      "metadata": {
        "id": "oDLZ-0pxzMuO"
      }
    },
    {
      "cell_type": "code",
      "source": [
        "n_epocas = 50\n",
        "n_batch = 15\n",
        "\n",
        "modelo_clasif.fit(x_train_scaled, y_train_enco, epochs = n_epocas, batch_size = n_batch, verbose=False)"
      ],
      "metadata": {
        "id": "YmUu-vgqzWKM",
        "colab": {
          "base_uri": "https://localhost:8080/"
        },
        "outputId": "52f82a2c-b93c-4cea-e78b-2d6b37a649b0"
      },
      "execution_count": null,
      "outputs": [
        {
          "output_type": "execute_result",
          "data": {
            "text/plain": [
              "<keras.callbacks.History at 0x7fc4797b88e0>"
            ]
          },
          "metadata": {},
          "execution_count": 20
        }
      ]
    },
    {
      "cell_type": "markdown",
      "source": [
        "Predecimos el resultado con el modelo creado"
      ],
      "metadata": {
        "id": "6HSZb4mBzZTV"
      }
    },
    {
      "cell_type": "code",
      "execution_count": null,
      "metadata": {
        "id": "AqSuHC535vM3",
        "colab": {
          "base_uri": "https://localhost:8080/"
        },
        "outputId": "0bcc6ac2-c1eb-4490-d600-227db8a0f2af"
      },
      "outputs": [
        {
          "output_type": "stream",
          "name": "stdout",
          "text": [
            "394/394 [==============================] - 1s 1ms/step\n"
          ]
        }
      ],
      "source": [
        "y_predic_clasif = modelo_clasif.predict(x_test_scaled)"
      ]
    },
    {
      "cell_type": "markdown",
      "source": [
        "Obtenemos los indices de los maximos"
      ],
      "metadata": {
        "id": "-W_pzyYe0PHF"
      }
    },
    {
      "cell_type": "code",
      "execution_count": null,
      "metadata": {
        "id": "l37UuRKp5vM3"
      },
      "outputs": [],
      "source": [
        "y_predic_clasif_test = np.argmax(y_predic_clasif, axis=1).tolist()\n",
        "y_real_clasif_test = np.argmax(y_test_enco, axis=1).tolist()"
      ]
    },
    {
      "cell_type": "markdown",
      "source": [
        "Obtenemos las metricas de test"
      ],
      "metadata": {
        "id": "7hDDL0s30dTE"
      }
    },
    {
      "cell_type": "code",
      "source": [
        "precision = precision_score(y_real_clasif_test, y_predic_clasif_test, average='weighted', zero_division = 0)\n",
        "recall = recall_score(y_real_clasif_test, y_predic_clasif_test,average='weighted')\n",
        "f1 = f1_score(y_real_clasif_test, y_predic_clasif_test, average='weighted')\n",
        "print(\"Precision: \" + str(precision));\n",
        "print(\"Recall: \" + str(recall));\n",
        "print(\"F1 Score: \" + str(f1));"
      ],
      "metadata": {
        "id": "dGJ7iEi4UF_G",
        "colab": {
          "base_uri": "https://localhost:8080/"
        },
        "outputId": "f1fe140f-4687-4571-cc5a-c7f6b5e15532"
      },
      "execution_count": null,
      "outputs": [
        {
          "output_type": "stream",
          "name": "stdout",
          "text": [
            "Precision: 0.3367579599987106\n",
            "Recall: 0.3364530456852792\n",
            "F1 Score: 0.33633868095461766\n"
          ]
        }
      ]
    },
    {
      "cell_type": "markdown",
      "source": [
        "Graficamos los resultados en una matriz de confusion"
      ],
      "metadata": {
        "id": "HZm3ex3N1y-h"
      }
    },
    {
      "cell_type": "code",
      "execution_count": null,
      "metadata": {
        "id": "rdHtPLNj5vM3",
        "colab": {
          "base_uri": "https://localhost:8080/",
          "height": 280
        },
        "outputId": "332a4c06-26c1-469a-93e2-30df5f2249ce"
      },
      "outputs": [
        {
          "output_type": "display_data",
          "data": {
            "text/plain": [
              "<Figure size 432x288 with 2 Axes>"
            ],
            "image/png": "[encoded data removed]"
          },
          "metadata": {
            "needs_background": "light"
          }
        }
      ],
      "source": [
        "ds_validacion_iris=pd.DataFrame(y_predic_clasif_test, y_real_clasif_test).reset_index()\n",
        "ds_validacion_iris.columns=['y_pred','y_real']\n",
        "\n",
        "tabla_iris=pd.crosstab(ds_validacion_iris.y_pred, ds_validacion_iris.y_real)\n",
        "grf=sns.heatmap(tabla_iris, annot=True, cmap = 'Blues')\n",
        "plt.show()"
      ]
    },
    {
      "cell_type": "markdown",
      "source": [
        "**Guardo el modelo**"
      ],
      "metadata": {
        "id": "tsmAZSZwf7qM"
      }
    },
    {
      "cell_type": "code",
      "source": [
        "import joblib\n",
        "#Guadamos el modelo\n",
        "joblib.dump(modelo_clasif,\"modelo_clasificacion.pkl\")"
      ],
      "metadata": {
        "colab": {
          "base_uri": "https://localhost:8080/"
        },
        "id": "sHao286-gHpZ",
        "outputId": "50ebd4dd-b4e4-44ff-c5ba-149f22ef700c"
      },
      "execution_count": null,
      "outputs": [
        {
          "output_type": "execute_result",
          "data": {
            "text/plain": [
              "['modelo_clasificacion.pkl']"
            ]
          },
          "metadata": {},
          "execution_count": 25
        }
      ]
    },
    {
      "cell_type": "markdown",
      "source": [
        "Probamos con KerasTuner para ver si logramos mejores resultados"
      ],
      "metadata": {
        "id": "kRor_yhFxITu"
      }
    },
    {
      "cell_type": "markdown",
      "source": [
        "Idem al modelo de regresion, pero configuramos la ultima capa con Softmax"
      ],
      "metadata": {
        "id": "ZefmrZEi8uV9"
      }
    },
    {
      "cell_type": "code",
      "source": [
        "def model_builder(hp):\n",
        "  model = keras.Sequential()\n",
        "  model.add(keras.layers.Flatten(input_shape=(x_train_clasif.shape[1],)))\n",
        "\n",
        "  hp_units = hp.Int('units', min_value=32, max_value=512, step=32)\n",
        "  hp_units2 = hp.Int('units2', min_value=32, max_value=512, step=32)\n",
        "  model.add(keras.layers.Dense(units=hp_units,  activation = \"relu\"))\n",
        "  model.add(tf.keras.layers.Dense(units=hp_units2, activation='relu'))\n",
        "  model.add(keras.layers.Dense(3, kernel_initializer='normal', activation='softmax'))\n",
        "\n",
        "  hp_learning_rate = hp.Choice('learning_rate', values=[1e-2, 1e-3, 1e-4])\n",
        "\n",
        "  model.compile(optimizer=keras.optimizers.Adagrad(learning_rate = hp_learning_rate),\n",
        "                loss=\"categorical_crossentropy\",\n",
        "                metrics=[\"accuracy\"])\n",
        "\n",
        "  return model"
      ],
      "metadata": {
        "id": "K7nhxuxmxf9E"
      },
      "execution_count": null,
      "outputs": []
    },
    {
      "cell_type": "code",
      "source": [
        "tuner = kt.RandomSearch(model_builder,\n",
        "                     objective=\"loss\",\n",
        "                     max_trials=5,\n",
        "                     seed = 2)\n",
        "\n",
        "early_stopping = tf.keras.callbacks.EarlyStopping(monitor='loss', patience=5)\n",
        "tuner.search(x_train_scaled, y_train_enco, epochs=20, batch_size=150, callbacks=[early_stopping], verbose=1)"
      ],
      "metadata": {
        "id": "Ieac4CFNxf9F",
        "colab": {
          "base_uri": "https://localhost:8080/"
        },
        "outputId": "05998b70-ec78-443e-f1bb-b8984647dabd"
      },
      "execution_count": null,
      "outputs": [
        {
          "output_type": "stream",
          "name": "stdout",
          "text": [
            "Trial 5 Complete [00h 00m 32s]\n",
            "loss: 1.098301649093628\n",
            "\n",
            "Best loss So Far: 1.0977568626403809\n",
            "Total elapsed time: 00h 03m 46s\n"
          ]
        }
      ]
    },
    {
      "cell_type": "markdown",
      "source": [
        "Buscamos cual es la mejor epoca"
      ],
      "metadata": {
        "id": "dcUKSjEPxf9G"
      }
    },
    {
      "cell_type": "code",
      "source": [
        "mejores_hiperParametros = tuner.get_best_hyperparameters(num_trials=1)[0]\n",
        "\n",
        "modelo_armado = tuner.hypermodel.build(mejores_hiperParametros);"
      ],
      "metadata": {
        "id": "MB60eYI8xf9G"
      },
      "execution_count": null,
      "outputs": []
    },
    {
      "cell_type": "code",
      "source": [
        "modelo_armado = tuner.hypermodel.build(mejores_hiperParametros)\n",
        "\n",
        "modelo_armado.fit(x_train_scaled, y_train_enco, epochs=100 ,batch_size=50 ,validation_split=0.2, callbacks=[early_stopping])"
      ],
      "metadata": {
        "colab": {
          "base_uri": "https://localhost:8080/"
        },
        "id": "a-xSWil60M_x",
        "outputId": "a2978513-3e75-457d-fe8e-13e1be8ff84e"
      },
      "execution_count": null,
      "outputs": [
        {
          "output_type": "stream",
          "name": "stdout",
          "text": [
            "Epoch 1/100\n",
            "807/807 [==============================] - 4s 5ms/step - loss: 1.0991 - accuracy: 0.3303 - val_loss: 1.0991 - val_accuracy: 0.3386\n",
            "Epoch 2/100\n",
            "807/807 [==============================] - 4s 5ms/step - loss: 1.0985 - accuracy: 0.3440 - val_loss: 1.0990 - val_accuracy: 0.3319\n",
            "Epoch 3/100\n",
            "807/807 [==============================] - 4s 5ms/step - loss: 1.0983 - accuracy: 0.3430 - val_loss: 1.0991 - val_accuracy: 0.3288\n",
            "Epoch 4/100\n",
            "807/807 [==============================] - 4s 5ms/step - loss: 1.0982 - accuracy: 0.3414 - val_loss: 1.0992 - val_accuracy: 0.3311\n",
            "Epoch 5/100\n",
            "807/807 [==============================] - 3s 4ms/step - loss: 1.0981 - accuracy: 0.3432 - val_loss: 1.0991 - val_accuracy: 0.3346\n",
            "Epoch 6/100\n",
            "807/807 [==============================] - 3s 4ms/step - loss: 1.0979 - accuracy: 0.3454 - val_loss: 1.0991 - val_accuracy: 0.3346\n",
            "Epoch 7/100\n",
            "807/807 [==============================] - 4s 5ms/step - loss: 1.0979 - accuracy: 0.3449 - val_loss: 1.0991 - val_accuracy: 0.3309\n",
            "Epoch 8/100\n",
            "807/807 [==============================] - 3s 4ms/step - loss: 1.0977 - accuracy: 0.3474 - val_loss: 1.0994 - val_accuracy: 0.3368\n",
            "Epoch 9/100\n",
            "807/807 [==============================] - 4s 4ms/step - loss: 1.0977 - accuracy: 0.3459 - val_loss: 1.0993 - val_accuracy: 0.3309\n",
            "Epoch 10/100\n",
            "807/807 [==============================] - 4s 5ms/step - loss: 1.0976 - accuracy: 0.3476 - val_loss: 1.0993 - val_accuracy: 0.3359\n",
            "Epoch 11/100\n",
            "807/807 [==============================] - 4s 6ms/step - loss: 1.0976 - accuracy: 0.3474 - val_loss: 1.0992 - val_accuracy: 0.3321\n",
            "Epoch 12/100\n",
            "807/807 [==============================] - 4s 5ms/step - loss: 1.0974 - accuracy: 0.3500 - val_loss: 1.0995 - val_accuracy: 0.3311\n",
            "Epoch 13/100\n",
            "807/807 [==============================] - 3s 4ms/step - loss: 1.0975 - accuracy: 0.3480 - val_loss: 1.0993 - val_accuracy: 0.3309\n",
            "Epoch 14/100\n",
            "807/807 [==============================] - 4s 4ms/step - loss: 1.0974 - accuracy: 0.3473 - val_loss: 1.0995 - val_accuracy: 0.3287\n",
            "Epoch 15/100\n",
            "807/807 [==============================] - 3s 4ms/step - loss: 1.0974 - accuracy: 0.3485 - val_loss: 1.0994 - val_accuracy: 0.3302\n",
            "Epoch 16/100\n",
            "807/807 [==============================] - 4s 4ms/step - loss: 1.0973 - accuracy: 0.3466 - val_loss: 1.0996 - val_accuracy: 0.3309\n",
            "Epoch 17/100\n",
            "807/807 [==============================] - 4s 5ms/step - loss: 1.0972 - accuracy: 0.3489 - val_loss: 1.0995 - val_accuracy: 0.3337\n",
            "Epoch 18/100\n",
            "807/807 [==============================] - 4s 5ms/step - loss: 1.0973 - accuracy: 0.3508 - val_loss: 1.0995 - val_accuracy: 0.3332\n",
            "Epoch 19/100\n",
            "807/807 [==============================] - 4s 5ms/step - loss: 1.0972 - accuracy: 0.3529 - val_loss: 1.0995 - val_accuracy: 0.3344\n",
            "Epoch 20/100\n",
            "807/807 [==============================] - 3s 4ms/step - loss: 1.0971 - accuracy: 0.3503 - val_loss: 1.0997 - val_accuracy: 0.3306\n",
            "Epoch 21/100\n",
            "807/807 [==============================] - 4s 5ms/step - loss: 1.0971 - accuracy: 0.3511 - val_loss: 1.0996 - val_accuracy: 0.3347\n",
            "Epoch 22/100\n",
            "807/807 [==============================] - 3s 4ms/step - loss: 1.0971 - accuracy: 0.3501 - val_loss: 1.0995 - val_accuracy: 0.3346\n",
            "Epoch 23/100\n",
            "807/807 [==============================] - 4s 5ms/step - loss: 1.0970 - accuracy: 0.3506 - val_loss: 1.0997 - val_accuracy: 0.3316\n",
            "Epoch 24/100\n",
            "807/807 [==============================] - 5s 6ms/step - loss: 1.0970 - accuracy: 0.3513 - val_loss: 1.0997 - val_accuracy: 0.3293\n",
            "Epoch 25/100\n",
            "807/807 [==============================] - 4s 5ms/step - loss: 1.0969 - accuracy: 0.3514 - val_loss: 1.0996 - val_accuracy: 0.3308\n",
            "Epoch 26/100\n",
            "807/807 [==============================] - 4s 5ms/step - loss: 1.0969 - accuracy: 0.3512 - val_loss: 1.0998 - val_accuracy: 0.3326\n",
            "Epoch 27/100\n",
            "807/807 [==============================] - 3s 4ms/step - loss: 1.0969 - accuracy: 0.3508 - val_loss: 1.0997 - val_accuracy: 0.3312\n",
            "Epoch 28/100\n",
            "807/807 [==============================] - 3s 4ms/step - loss: 1.0968 - accuracy: 0.3505 - val_loss: 1.0997 - val_accuracy: 0.3325\n",
            "Epoch 29/100\n",
            "807/807 [==============================] - 3s 4ms/step - loss: 1.0968 - accuracy: 0.3502 - val_loss: 1.0999 - val_accuracy: 0.3314\n",
            "Epoch 30/100\n",
            "807/807 [==============================] - 4s 5ms/step - loss: 1.0968 - accuracy: 0.3525 - val_loss: 1.0997 - val_accuracy: 0.3331\n",
            "Epoch 31/100\n",
            "807/807 [==============================] - 3s 4ms/step - loss: 1.0968 - accuracy: 0.3538 - val_loss: 1.0998 - val_accuracy: 0.3321\n",
            "Epoch 32/100\n",
            "807/807 [==============================] - 3s 4ms/step - loss: 1.0967 - accuracy: 0.3527 - val_loss: 1.0999 - val_accuracy: 0.3307\n",
            "Epoch 33/100\n",
            "807/807 [==============================] - 4s 5ms/step - loss: 1.0967 - accuracy: 0.3520 - val_loss: 1.0999 - val_accuracy: 0.3320\n",
            "Epoch 34/100\n",
            "807/807 [==============================] - 3s 4ms/step - loss: 1.0967 - accuracy: 0.3501 - val_loss: 1.1000 - val_accuracy: 0.3291\n",
            "Epoch 35/100\n",
            "807/807 [==============================] - 3s 4ms/step - loss: 1.0967 - accuracy: 0.3502 - val_loss: 1.0999 - val_accuracy: 0.3293\n",
            "Epoch 36/100\n",
            "807/807 [==============================] - 3s 4ms/step - loss: 1.0966 - accuracy: 0.3519 - val_loss: 1.0998 - val_accuracy: 0.3334\n",
            "Epoch 37/100\n",
            "807/807 [==============================] - 4s 4ms/step - loss: 1.0965 - accuracy: 0.3538 - val_loss: 1.1000 - val_accuracy: 0.3356\n",
            "Epoch 38/100\n",
            "807/807 [==============================] - 3s 4ms/step - loss: 1.0966 - accuracy: 0.3521 - val_loss: 1.1000 - val_accuracy: 0.3317\n",
            "Epoch 39/100\n",
            "807/807 [==============================] - 4s 4ms/step - loss: 1.0965 - accuracy: 0.3544 - val_loss: 1.0999 - val_accuracy: 0.3340\n",
            "Epoch 40/100\n",
            "807/807 [==============================] - 4s 5ms/step - loss: 1.0965 - accuracy: 0.3527 - val_loss: 1.1002 - val_accuracy: 0.3311\n",
            "Epoch 41/100\n",
            "807/807 [==============================] - 3s 4ms/step - loss: 1.0965 - accuracy: 0.3539 - val_loss: 1.1000 - val_accuracy: 0.3328\n",
            "Epoch 42/100\n",
            "807/807 [==============================] - 3s 4ms/step - loss: 1.0965 - accuracy: 0.3539 - val_loss: 1.1001 - val_accuracy: 0.3313\n",
            "Epoch 43/100\n",
            "807/807 [==============================] - 4s 5ms/step - loss: 1.0964 - accuracy: 0.3537 - val_loss: 1.1002 - val_accuracy: 0.3301\n",
            "Epoch 44/100\n",
            "807/807 [==============================] - 4s 5ms/step - loss: 1.0964 - accuracy: 0.3552 - val_loss: 1.1001 - val_accuracy: 0.3324\n",
            "Epoch 45/100\n",
            "807/807 [==============================] - 4s 4ms/step - loss: 1.0963 - accuracy: 0.3539 - val_loss: 1.1002 - val_accuracy: 0.3341\n",
            "Epoch 46/100\n",
            "807/807 [==============================] - 3s 4ms/step - loss: 1.0964 - accuracy: 0.3530 - val_loss: 1.1001 - val_accuracy: 0.3337\n",
            "Epoch 47/100\n",
            "807/807 [==============================] - 3s 4ms/step - loss: 1.0963 - accuracy: 0.3548 - val_loss: 1.1001 - val_accuracy: 0.3349\n",
            "Epoch 48/100\n",
            "807/807 [==============================] - 4s 5ms/step - loss: 1.0963 - accuracy: 0.3551 - val_loss: 1.1003 - val_accuracy: 0.3314\n",
            "Epoch 49/100\n",
            "807/807 [==============================] - 3s 4ms/step - loss: 1.0963 - accuracy: 0.3547 - val_loss: 1.1002 - val_accuracy: 0.3303\n",
            "Epoch 50/100\n",
            "807/807 [==============================] - 3s 4ms/step - loss: 1.0963 - accuracy: 0.3534 - val_loss: 1.1001 - val_accuracy: 0.3358\n",
            "Epoch 51/100\n",
            "807/807 [==============================] - 4s 4ms/step - loss: 1.0962 - accuracy: 0.3522 - val_loss: 1.1001 - val_accuracy: 0.3329\n",
            "Epoch 52/100\n",
            "807/807 [==============================] - 4s 4ms/step - loss: 1.0962 - accuracy: 0.3529 - val_loss: 1.1002 - val_accuracy: 0.3325\n",
            "Epoch 53/100\n",
            "807/807 [==============================] - 3s 4ms/step - loss: 1.0962 - accuracy: 0.3548 - val_loss: 1.1003 - val_accuracy: 0.3308\n",
            "Epoch 54/100\n",
            "807/807 [==============================] - 4s 4ms/step - loss: 1.0961 - accuracy: 0.3536 - val_loss: 1.1001 - val_accuracy: 0.3333\n",
            "Epoch 55/100\n",
            "807/807 [==============================] - 4s 5ms/step - loss: 1.0962 - accuracy: 0.3518 - val_loss: 1.1003 - val_accuracy: 0.3346\n",
            "Epoch 56/100\n",
            "807/807 [==============================] - 3s 4ms/step - loss: 1.0961 - accuracy: 0.3532 - val_loss: 1.1004 - val_accuracy: 0.3314\n",
            "Epoch 57/100\n",
            "807/807 [==============================] - 4s 4ms/step - loss: 1.0961 - accuracy: 0.3566 - val_loss: 1.1004 - val_accuracy: 0.3333\n",
            "Epoch 58/100\n",
            "807/807 [==============================] - 3s 4ms/step - loss: 1.0960 - accuracy: 0.3534 - val_loss: 1.1004 - val_accuracy: 0.3358\n",
            "Epoch 59/100\n",
            "807/807 [==============================] - 5s 6ms/step - loss: 1.0960 - accuracy: 0.3543 - val_loss: 1.1005 - val_accuracy: 0.3309\n",
            "Epoch 60/100\n",
            "807/807 [==============================] - 6s 7ms/step - loss: 1.0960 - accuracy: 0.3564 - val_loss: 1.1003 - val_accuracy: 0.3347\n",
            "Epoch 61/100\n",
            "807/807 [==============================] - 3s 4ms/step - loss: 1.0959 - accuracy: 0.3552 - val_loss: 1.1004 - val_accuracy: 0.3287\n",
            "Epoch 62/100\n",
            "807/807 [==============================] - 3s 4ms/step - loss: 1.0959 - accuracy: 0.3570 - val_loss: 1.1007 - val_accuracy: 0.3343\n",
            "Epoch 63/100\n",
            "807/807 [==============================] - 3s 4ms/step - loss: 1.0959 - accuracy: 0.3550 - val_loss: 1.1006 - val_accuracy: 0.3309\n",
            "Epoch 64/100\n",
            "807/807 [==============================] - 4s 5ms/step - loss: 1.0959 - accuracy: 0.3559 - val_loss: 1.1004 - val_accuracy: 0.3328\n",
            "Epoch 65/100\n",
            "807/807 [==============================] - 3s 4ms/step - loss: 1.0958 - accuracy: 0.3558 - val_loss: 1.1008 - val_accuracy: 0.3328\n",
            "Epoch 66/100\n",
            "807/807 [==============================] - 3s 4ms/step - loss: 1.0959 - accuracy: 0.3561 - val_loss: 1.1006 - val_accuracy: 0.3322\n",
            "Epoch 67/100\n",
            "807/807 [==============================] - 3s 4ms/step - loss: 1.0959 - accuracy: 0.3555 - val_loss: 1.1007 - val_accuracy: 0.3334\n",
            "Epoch 68/100\n",
            "807/807 [==============================] - 4s 5ms/step - loss: 1.0957 - accuracy: 0.3591 - val_loss: 1.1006 - val_accuracy: 0.3344\n",
            "Epoch 69/100\n",
            "807/807 [==============================] - 4s 5ms/step - loss: 1.0958 - accuracy: 0.3573 - val_loss: 1.1007 - val_accuracy: 0.3313\n",
            "Epoch 70/100\n",
            "807/807 [==============================] - 4s 5ms/step - loss: 1.0957 - accuracy: 0.3547 - val_loss: 1.1006 - val_accuracy: 0.3326\n",
            "Epoch 71/100\n",
            "807/807 [==============================] - 4s 4ms/step - loss: 1.0957 - accuracy: 0.3566 - val_loss: 1.1007 - val_accuracy: 0.3304\n",
            "Epoch 72/100\n",
            "807/807 [==============================] - 4s 5ms/step - loss: 1.0958 - accuracy: 0.3565 - val_loss: 1.1005 - val_accuracy: 0.3331\n",
            "Epoch 73/100\n",
            "807/807 [==============================] - 4s 5ms/step - loss: 1.0957 - accuracy: 0.3556 - val_loss: 1.1008 - val_accuracy: 0.3345\n",
            "Epoch 74/100\n",
            "807/807 [==============================] - 4s 5ms/step - loss: 1.0956 - accuracy: 0.3586 - val_loss: 1.1006 - val_accuracy: 0.3349\n",
            "Epoch 75/100\n",
            "807/807 [==============================] - 4s 5ms/step - loss: 1.0956 - accuracy: 0.3563 - val_loss: 1.1009 - val_accuracy: 0.3330\n",
            "Epoch 76/100\n",
            "807/807 [==============================] - 4s 5ms/step - loss: 1.0956 - accuracy: 0.3572 - val_loss: 1.1007 - val_accuracy: 0.3297\n",
            "Epoch 77/100\n",
            "807/807 [==============================] - 4s 4ms/step - loss: 1.0956 - accuracy: 0.3587 - val_loss: 1.1008 - val_accuracy: 0.3294\n",
            "Epoch 78/100\n",
            "807/807 [==============================] - 3s 4ms/step - loss: 1.0955 - accuracy: 0.3586 - val_loss: 1.1006 - val_accuracy: 0.3317\n",
            "Epoch 79/100\n",
            "807/807 [==============================] - 4s 5ms/step - loss: 1.0955 - accuracy: 0.3552 - val_loss: 1.1007 - val_accuracy: 0.3296\n",
            "Epoch 80/100\n",
            "807/807 [==============================] - 3s 4ms/step - loss: 1.0955 - accuracy: 0.3583 - val_loss: 1.1007 - val_accuracy: 0.3301\n",
            "Epoch 81/100\n",
            "807/807 [==============================] - 3s 4ms/step - loss: 1.0955 - accuracy: 0.3581 - val_loss: 1.1008 - val_accuracy: 0.3335\n",
            "Epoch 82/100\n",
            "807/807 [==============================] - 3s 4ms/step - loss: 1.0955 - accuracy: 0.3578 - val_loss: 1.1009 - val_accuracy: 0.3275\n",
            "Epoch 83/100\n",
            "807/807 [==============================] - 4s 5ms/step - loss: 1.0954 - accuracy: 0.3586 - val_loss: 1.1010 - val_accuracy: 0.3324\n",
            "Epoch 84/100\n",
            "807/807 [==============================] - 3s 4ms/step - loss: 1.0955 - accuracy: 0.3580 - val_loss: 1.1009 - val_accuracy: 0.3307\n",
            "Epoch 85/100\n",
            "807/807 [==============================] - 3s 4ms/step - loss: 1.0954 - accuracy: 0.3572 - val_loss: 1.1010 - val_accuracy: 0.3339\n",
            "Epoch 86/100\n",
            "807/807 [==============================] - 4s 5ms/step - loss: 1.0954 - accuracy: 0.3588 - val_loss: 1.1010 - val_accuracy: 0.3293\n",
            "Epoch 87/100\n",
            "807/807 [==============================] - 4s 5ms/step - loss: 1.0953 - accuracy: 0.3580 - val_loss: 1.1007 - val_accuracy: 0.3352\n",
            "Epoch 88/100\n",
            "807/807 [==============================] - 4s 5ms/step - loss: 1.0954 - accuracy: 0.3555 - val_loss: 1.1010 - val_accuracy: 0.3313\n",
            "Epoch 89/100\n",
            "807/807 [==============================] - 4s 5ms/step - loss: 1.0953 - accuracy: 0.3579 - val_loss: 1.1011 - val_accuracy: 0.3337\n",
            "Epoch 90/100\n",
            "807/807 [==============================] - 4s 4ms/step - loss: 1.0954 - accuracy: 0.3572 - val_loss: 1.1009 - val_accuracy: 0.3332\n",
            "Epoch 91/100\n",
            "807/807 [==============================] - 4s 5ms/step - loss: 1.0953 - accuracy: 0.3595 - val_loss: 1.1010 - val_accuracy: 0.3324\n",
            "Epoch 92/100\n",
            "807/807 [==============================] - 4s 5ms/step - loss: 1.0952 - accuracy: 0.3577 - val_loss: 1.1006 - val_accuracy: 0.3317\n",
            "Epoch 93/100\n",
            "807/807 [==============================] - 4s 5ms/step - loss: 1.0952 - accuracy: 0.3594 - val_loss: 1.1010 - val_accuracy: 0.3295\n",
            "Epoch 94/100\n",
            "807/807 [==============================] - 4s 4ms/step - loss: 1.0953 - accuracy: 0.3583 - val_loss: 1.1009 - val_accuracy: 0.3315\n",
            "Epoch 95/100\n",
            "807/807 [==============================] - 4s 5ms/step - loss: 1.0952 - accuracy: 0.3584 - val_loss: 1.1012 - val_accuracy: 0.3339\n",
            "Epoch 96/100\n",
            "807/807 [==============================] - 3s 4ms/step - loss: 1.0952 - accuracy: 0.3574 - val_loss: 1.1009 - val_accuracy: 0.3298\n",
            "Epoch 97/100\n",
            "807/807 [==============================] - 4s 5ms/step - loss: 1.0952 - accuracy: 0.3583 - val_loss: 1.1012 - val_accuracy: 0.3331\n",
            "Epoch 98/100\n",
            "807/807 [==============================] - 3s 4ms/step - loss: 1.0951 - accuracy: 0.3594 - val_loss: 1.1009 - val_accuracy: 0.3338\n",
            "Epoch 99/100\n",
            "807/807 [==============================] - 4s 5ms/step - loss: 1.0951 - accuracy: 0.3578 - val_loss: 1.1010 - val_accuracy: 0.3322\n",
            "Epoch 100/100\n",
            "807/807 [==============================] - 4s 5ms/step - loss: 1.0951 - accuracy: 0.3587 - val_loss: 1.1010 - val_accuracy: 0.3324\n"
          ]
        },
        {
          "output_type": "execute_result",
          "data": {
            "text/plain": [
              "<keras.callbacks.History at 0x7fc4745c5f70>"
            ]
          },
          "metadata": {},
          "execution_count": 54
        }
      ]
    },
    {
      "cell_type": "code",
      "source": [
        "y_predic_clasif = modelo_armado.predict(x_test_scaled)"
      ],
      "metadata": {
        "colab": {
          "base_uri": "https://localhost:8080/"
        },
        "id": "TRusJwT025he",
        "outputId": "deed4762-1b16-4b35-da24-bac8001ba7ae"
      },
      "execution_count": null,
      "outputs": [
        {
          "output_type": "stream",
          "name": "stdout",
          "text": [
            "394/394 [==============================] - 1s 3ms/step\n"
          ]
        }
      ]
    },
    {
      "cell_type": "code",
      "source": [
        "y_predic_clasif_test = np.argmax(y_predic_clasif, axis=1).tolist()\n",
        "y_real_clasif_test = np.argmax(y_test_enco, axis=1).tolist()"
      ],
      "metadata": {
        "id": "F1_NYOsX4mwJ"
      },
      "execution_count": null,
      "outputs": []
    },
    {
      "cell_type": "code",
      "source": [
        "precision = precision_score(y_real_clasif_test, y_predic_clasif_test, average='weighted', zero_division = 0)\n",
        "recall = recall_score(y_real_clasif_test, y_predic_clasif_test,average='weighted')\n",
        "f1 = f1_score(y_real_clasif_test, y_predic_clasif_test, average='weighted')\n",
        "print(\"Precision: \" + str(precision));\n",
        "print(\"Recall: \" + str(recall));\n",
        "print(\"F1 Score: \" + str(f1));\n"
      ],
      "metadata": {
        "colab": {
          "base_uri": "https://localhost:8080/"
        },
        "id": "kfrBZVh72Buw",
        "outputId": "3ff4cd07-26ea-4542-bbaf-b43d6326b96d"
      },
      "execution_count": null,
      "outputs": [
        {
          "output_type": "stream",
          "name": "stdout",
          "text": [
            "Precision: 0.33378223851345684\n",
            "Recall: 0.3322493654822335\n",
            "F1 Score: 0.32758358304279506\n"
          ]
        }
      ]
    },
    {
      "cell_type": "markdown",
      "source": [
        "Las métricas obtenidas fueron similares al modelo seleccionado anteriormente"
      ],
      "metadata": {
        "id": "aG_9j2nOUSEj"
      }
    },
    {
      "cell_type": "markdown",
      "source": [
        "**Guardamos el modelo tuner**"
      ],
      "metadata": {
        "id": "seOgoXabgJxy"
      }
    },
    {
      "cell_type": "code",
      "source": [
        "import joblib\n",
        "#Guadamos el modelo\n",
        "joblib.dump(modelo_armado,\"modelo_clasificacion_tuner.pkl\")"
      ],
      "metadata": {
        "colab": {
          "base_uri": "https://localhost:8080/"
        },
        "id": "Q9klU1qDgMYz",
        "outputId": "4e14da64-6fba-4664-90f1-4a54644e0e30"
      },
      "execution_count": null,
      "outputs": [
        {
          "output_type": "execute_result",
          "data": {
            "text/plain": [
              "['modelo_clasificacion_tuner.pkl']"
            ]
          },
          "metadata": {},
          "execution_count": 59
        }
      ]
    },
    {
      "cell_type": "markdown",
      "source": [
        "#Ensamble"
      ],
      "metadata": {
        "id": "obzSvZREXq3x"
      }
    },
    {
      "cell_type": "markdown",
      "source": [
        "##Stacking"
      ],
      "metadata": {
        "id": "O_khEhJiDOJk"
      }
    },
    {
      "cell_type": "markdown",
      "source": [
        "Esta tecnica es procedimiento general para ensamblar modelos base a traves de entrenar un meta-modelo que tendra como objetivo encontrar una manera optima de combinar la salida de los modelos\n",
        "individuales."
      ],
      "metadata": {
        "id": "9RvK1pQvXxis"
      }
    },
    {
      "cell_type": "markdown",
      "source": [
        "Usaremos los datasets de clasificacion del TP1"
      ],
      "metadata": {
        "id": "t03M1Q2dX4Kb"
      }
    },
    {
      "cell_type": "code",
      "source": [
        "x_train_st_TP1 = pd.read_csv(\"/content/drive/MyDrive/datasets/x_train_clasificacion.csv\")\n",
        "y_train_st_TP1 = pd.read_csv(\"/content/drive/MyDrive/datasets/y_train_clasificacion.csv\")\n",
        "x_test_st_TP1 = pd.read_csv(\"/content/drive/MyDrive/datasets/x_test_clasificacion.csv\")\n",
        "y_test = pd.read_csv(\"/content/drive/MyDrive/datasets/y_test_clasificacion.csv\")\n"
      ],
      "metadata": {
        "id": "Mknjj46zX-HZ"
      },
      "execution_count": null,
      "outputs": []
    },
    {
      "cell_type": "code",
      "source": [
        "x_train_st_TP1.columns"
      ],
      "metadata": {
        "colab": {
          "base_uri": "https://localhost:8080/"
        },
        "id": "xbmyP0WnZJcy",
        "outputId": "d149623f-0c6f-4217-f968-7baa800b1170"
      },
      "execution_count": null,
      "outputs": [
        {
          "output_type": "execute_result",
          "data": {
            "text/plain": [
              "Index(['Unnamed: 0', 'latitud', 'longitud', 'property_rooms',\n",
              "       'property_surface_total', 'property_surface_covered',\n",
              "       'property_type_Departamento', 'property_type_PH'],\n",
              "      dtype='object')"
            ]
          },
          "metadata": {},
          "execution_count": 85
        }
      ]
    },
    {
      "cell_type": "code",
      "source": [
        "x_train_st_TP1.columns.tolist()"
      ],
      "metadata": {
        "colab": {
          "base_uri": "https://localhost:8080/"
        },
        "id": "DnzIDyR_fl03",
        "outputId": "84835189-16ad-4fb2-a6f0-238c93be23f0"
      },
      "execution_count": null,
      "outputs": [
        {
          "output_type": "execute_result",
          "data": {
            "text/plain": [
              "['Unnamed: 0',\n",
              " 'latitud',\n",
              " 'longitud',\n",
              " 'property_rooms',\n",
              " 'property_surface_total',\n",
              " 'property_surface_covered',\n",
              " 'property_type_Departamento',\n",
              " 'property_type_PH']"
            ]
          },
          "metadata": {},
          "execution_count": 86
        }
      ]
    },
    {
      "cell_type": "markdown",
      "source": [
        "Eliminamos columnas innecesarias"
      ],
      "metadata": {
        "id": "0RTsAs25sAy_"
      }
    },
    {
      "cell_type": "code",
      "source": [
        "columnas_eliminar=['Unnamed: 0']\n",
        "x_train_st_TP1.drop(columnas_eliminar, axis='columns', inplace=True)\n",
        "x_train_st_TP1.columns.tolist()\n",
        "\n",
        "y_train_st_TP1.drop(columnas_eliminar, axis='columns', inplace=True) "
      ],
      "metadata": {
        "id": "4Xq0BTK4fqM6"
      },
      "execution_count": null,
      "outputs": []
    },
    {
      "cell_type": "code",
      "source": [
        "x_train_st_TP1.columns.tolist()"
      ],
      "metadata": {
        "colab": {
          "base_uri": "https://localhost:8080/"
        },
        "id": "CJmHaB6Gfr8b",
        "outputId": "447e9b51-1d53-460e-9100-007e8263a342"
      },
      "execution_count": null,
      "outputs": [
        {
          "output_type": "execute_result",
          "data": {
            "text/plain": [
              "['latitud',\n",
              " 'longitud',\n",
              " 'property_rooms',\n",
              " 'property_surface_total',\n",
              " 'property_surface_covered',\n",
              " 'property_type_Departamento',\n",
              " 'property_type_PH']"
            ]
          },
          "metadata": {},
          "execution_count": 88
        }
      ]
    },
    {
      "cell_type": "code",
      "source": [
        "y_train_st_TP1.columns.tolist()"
      ],
      "metadata": {
        "colab": {
          "base_uri": "https://localhost:8080/"
        },
        "id": "wGCDdpAjfumN",
        "outputId": "075bdc4d-c061-4417-be8e-c82476ffb580"
      },
      "execution_count": null,
      "outputs": [
        {
          "output_type": "execute_result",
          "data": {
            "text/plain": [
              "['tipo_precio']"
            ]
          },
          "metadata": {},
          "execution_count": 89
        }
      ]
    },
    {
      "cell_type": "markdown",
      "source": [
        "Usaremos una funcion personalizada de evaluacion de modelos con 5 folds y 2 repeticiones"
      ],
      "metadata": {
        "id": "onS3JkmjsGsa"
      }
    },
    {
      "cell_type": "code",
      "source": [
        "def evaluate_model(model, x, y):\n",
        "    cv = RepeatedStratifiedKFold(n_splits=5, n_repeats=2, random_state=1)\n",
        "    scores = cross_val_score(model, x, y, scoring='accuracy', cv=cv, verbose=1, n_jobs=3, error_score='raise')\n",
        "    return scores"
      ],
      "metadata": {
        "id": "KyvTI32tfwsL"
      },
      "execution_count": null,
      "outputs": []
    },
    {
      "cell_type": "code",
      "source": [
        "#usaremos una Funcion personalizada para graficar performace del modelo\n",
        "def graph_models(model_scores, name):\n",
        "    \n",
        "    m_name = list(model_scores.keys())\n",
        "    results = [model_scores[model] for model in m_name]\n",
        "    fig = go.Figure()\n",
        "    for model, result in zip(m_name, results):\n",
        "        fig.add_trace(go.Box(\n",
        "            y=result,\n",
        "            name=model,\n",
        "            boxpoints='all',\n",
        "            jitter=0.5,\n",
        "            whiskerwidth=0.2,\n",
        "            marker_size=2,\n",
        "            line_width=1)\n",
        "        )\n",
        "    \n",
        "    fig.update_layout(\n",
        "    title='Performance de diferentes modelos seleccionados con 5-Fold Cross-Validation',\n",
        "    paper_bgcolor='rgb(243, 243, 243)',\n",
        "    plot_bgcolor='rgb(243, 243, 243)',\n",
        "    xaxis_title='Model',\n",
        "    yaxis_title='Accuracy',\n",
        "    showlegend=False)\n",
        "    fig.show()"
      ],
      "metadata": {
        "id": "R2LsDAAUfy3J"
      },
      "execution_count": null,
      "outputs": []
    },
    {
      "cell_type": "code",
      "source": [
        "x_train, x_test, y_train, y_test = train_test_split(x_train_st_TP1, y_train_st_TP1, random_state = 42, train_size = 0.80)"
      ],
      "metadata": {
        "id": "Nyod87x0f1dx"
      },
      "execution_count": null,
      "outputs": []
    },
    {
      "cell_type": "markdown",
      "source": [
        "Como modelos base, elegimos SVM, Knn y RandomForest"
      ],
      "metadata": {
        "id": "tRgdbj0_sNSy"
      }
    },
    {
      "cell_type": "code",
      "source": [
        "from sklearn.ensemble import RandomForestClassifier \n",
        "from sklearn.neighbors import KNeighborsClassifier\n",
        "from sklearn.svm import SVC\n",
        "from collections import defaultdict\n",
        "from sklearn.model_selection import cross_val_score, RepeatedStratifiedKFold\n",
        "\n",
        "base_models = {'svm': SVC(),\n",
        "               'knn': KNeighborsClassifier(n_neighbors=10),\n",
        "               'random_forest':RandomForestClassifier(n_estimators=40)}\n",
        "model_scores = defaultdict()\n",
        "for name, model in base_models.items():\n",
        "    print('Se evalua {}'.format(name))\n",
        "    scores = evaluate_model(model, x_train, y_train)\n",
        "    model_scores[name] = scores"
      ],
      "metadata": {
        "colab": {
          "base_uri": "https://localhost:8080/"
        },
        "id": "OSgSOOjNf4y4",
        "outputId": "4a004606-6eec-40ae-e1a1-75c62fbe8f2f"
      },
      "execution_count": null,
      "outputs": [
        {
          "output_type": "stream",
          "name": "stdout",
          "text": [
            "Se evalua svm\n"
          ]
        },
        {
          "output_type": "stream",
          "name": "stderr",
          "text": [
            "[Parallel(n_jobs=3)]: Using backend LokyBackend with 3 concurrent workers.\n",
            "[Parallel(n_jobs=3)]: Done  10 out of  10 | elapsed: 18.2min finished\n",
            "[Parallel(n_jobs=3)]: Using backend LokyBackend with 3 concurrent workers.\n"
          ]
        },
        {
          "output_type": "stream",
          "name": "stdout",
          "text": [
            "Se evalua knn\n"
          ]
        },
        {
          "output_type": "stream",
          "name": "stderr",
          "text": [
            "[Parallel(n_jobs=3)]: Done  10 out of  10 | elapsed:    3.1s finished\n",
            "[Parallel(n_jobs=3)]: Using backend LokyBackend with 3 concurrent workers.\n"
          ]
        },
        {
          "output_type": "stream",
          "name": "stdout",
          "text": [
            "Se evalua random_forest\n"
          ]
        },
        {
          "output_type": "stream",
          "name": "stderr",
          "text": [
            "[Parallel(n_jobs=3)]: Done  10 out of  10 | elapsed:   16.1s finished\n"
          ]
        }
      ]
    },
    {
      "cell_type": "markdown",
      "source": [
        "Elegimos como metamodelo la Regresion Logistica"
      ],
      "metadata": {
        "id": "pofTzklLsQ5u"
      }
    },
    {
      "cell_type": "code",
      "source": [
        "from sklearn.ensemble import StackingClassifier\n",
        "from sklearn.linear_model import LogisticRegressionCV\n",
        "base_models = [('random_forest', RandomForestClassifier(n_estimators=50)),\n",
        "               ('svm', SVC()),\n",
        "               ('knn', KNeighborsClassifier(n_neighbors=11))]\n",
        "meta_model = LogisticRegressionCV()\n",
        "stacking_model = StackingClassifier(estimators=base_models, \n",
        "                                    final_estimator=meta_model, \n",
        "                                    passthrough=True, \n",
        "                                    cv=5,\n",
        "                                    verbose=2)"
      ],
      "metadata": {
        "id": "pvRv9-_Rf61r"
      },
      "execution_count": null,
      "outputs": []
    },
    {
      "cell_type": "markdown",
      "source": [
        "Con los datasets de entrenamiento, medimos performance del modelo"
      ],
      "metadata": {
        "id": "GLA2sFqRsVST"
      }
    },
    {
      "cell_type": "code",
      "source": [
        "stacking_scores = evaluate_model(stacking_model, x_train, y_train)\n",
        "model_scores['stacking'] = stacking_scores"
      ],
      "metadata": {
        "colab": {
          "base_uri": "https://localhost:8080/"
        },
        "id": "ze7dquDJf86o",
        "outputId": "2232cabc-2515-4329-c834-190f10ac0711"
      },
      "execution_count": null,
      "outputs": [
        {
          "output_type": "stream",
          "name": "stderr",
          "text": [
            "[Parallel(n_jobs=3)]: Using backend LokyBackend with 3 concurrent workers.\n",
            "[Parallel(n_jobs=3)]: Done  10 out of  10 | elapsed: 81.0min finished\n"
          ]
        }
      ]
    },
    {
      "cell_type": "markdown",
      "source": [
        "Usamos la funcion para graficar la performance de los modelos base y el metamodelo"
      ],
      "metadata": {
        "id": "7L2R-kXVsYfx"
      }
    },
    {
      "cell_type": "code",
      "source": [
        "import plotly.graph_objs as go\n",
        "graph_models(model_scores, name='stacking_model_cv')"
      ],
      "metadata": {
        "colab": {
          "base_uri": "https://localhost:8080/",
          "height": 542
        },
        "id": "-fnHw5_0wvBl",
        "outputId": "b2df6f7f-8a96-48a5-c51a-3257620e7d61"
      },
      "execution_count": null,
      "outputs": [
        {
          "output_type": "display_data",
          "data": {
            "text/html": [
              "<html>\n",
              "<head><meta charset=\"utf-8\" /></head>\n",
              "<body>\n",
              "    <div>            <script src=\"https://cdnjs.cloudflare.com/ajax/libs/mathjax/2.7.5/MathJax.js?config=TeX-AMS-MML_SVG\"></script><script type=\"text/javascript\">if (window.MathJax) {MathJax.Hub.Config({SVG: {font: \"STIX-Web\"}});}</script>                <script type=\"text/javascript\">window.PlotlyConfig = {MathJaxConfig: 'local'};</script>\n",
              "        <script src=\"https://cdn.plot.ly/plotly-2.8.3.min.js\"></script>                <div id=\"a36ae27f-3a2a-4ea2-b817-d9995aae8300\" class=\"plotly-graph-div\" style=\"height:525px; width:100%;\"></div>            <script type=\"text/javascript\">                                    window.PLOTLYENV=window.PLOTLYENV || {};                                    if (document.getElementById(\"a36ae27f-3a2a-4ea2-b817-d9995aae8300\")) {                    Plotly.newPlot(                        \"a36ae27f-3a2a-4ea2-b817-d9995aae8300\",                        [{\"boxpoints\":\"all\",\"jitter\":0.5,\"line\":{\"width\":1},\"marker\":{\"size\":2},\"name\":\"svm\",\"whiskerwidth\":0.2,\"y\":[0.4486679299966559,0.4486679299966559,0.4501170438078252,0.4490023408761565,0.45412997436183256,0.4523464496711626,0.4436517668041467,0.45145468732582766,0.4512317467394939,0.45178909820532825],\"type\":\"box\"},{\"boxpoints\":\"all\",\"jitter\":0.5,\"line\":{\"width\":1},\"marker\":{\"size\":2},\"name\":\"knn\",\"whiskerwidth\":0.2,\"y\":[0.5396276892208226,0.5368409318916508,0.5386244565823208,0.5300412440084717,0.5357262289599821,0.54185709508416,0.5313788875264742,0.5370638724779846,0.541076803031992,0.5396276892208226],\"type\":\"box\"},{\"boxpoints\":\"all\",\"jitter\":0.5,\"line\":{\"width\":1},\"marker\":{\"size\":2},\"name\":\"random_forest\",\"whiskerwidth\":0.2,\"y\":[0.7100657674729685,0.7144131089064765,0.7043807825214581,0.7040463716419574,0.7092854754208003,0.7083937130754654,0.7077248913164642,0.7102887080593022,0.7048266636941255,0.7096198863003009],\"type\":\"box\"},{\"boxpoints\":\"all\",\"jitter\":0.5,\"line\":{\"width\":1},\"marker\":{\"size\":2},\"name\":\"stacking\",\"whiskerwidth\":0.2,\"y\":[0.7109575298183034,0.7209898562033218,0.7053840151599599,0.7030431390034556,0.7135213465611414,0.7169769256493145,0.7108460595251366,0.716531044476647,0.7136328168543083,0.7157507524244788],\"type\":\"box\"}],                        {\"template\":{\"data\":{\"bar\":[{\"error_x\":{\"color\":\"#2a3f5f\"},\"error_y\":{\"color\":\"#2a3f5f\"},\"marker\":{\"line\":{\"color\":\"#E5ECF6\",\"width\":0.5},\"pattern\":{\"fillmode\":\"overlay\",\"size\":10,\"solidity\":0.2}},\"type\":\"bar\"}],\"barpolar\":[{\"marker\":{\"line\":{\"color\":\"#E5ECF6\",\"width\":0.5},\"pattern\":{\"fillmode\":\"overlay\",\"size\":10,\"solidity\":0.2}},\"type\":\"barpolar\"}],\"carpet\":[{\"aaxis\":{\"endlinecolor\":\"#2a3f5f\",\"gridcolor\":\"white\",\"linecolor\":\"white\",\"minorgridcolor\":\"white\",\"startlinecolor\":\"#2a3f5f\"},\"baxis\":{\"endlinecolor\":\"#2a3f5f\",\"gridcolor\":\"white\",\"linecolor\":\"white\",\"minorgridcolor\":\"white\",\"startlinecolor\":\"#2a3f5f\"},\"type\":\"carpet\"}],\"choropleth\":[{\"colorbar\":{\"outlinewidth\":0,\"ticks\":\"\"},\"type\":\"choropleth\"}],\"contour\":[{\"colorbar\":{\"outlinewidth\":0,\"ticks\":\"\"},\"colorscale\":[[0.0,\"#0d0887\"],[0.1111111111111111,\"#46039f\"],[0.2222222222222222,\"#7201a8\"],[0.3333333333333333,\"#9c179e\"],[0.4444444444444444,\"#bd3786\"],[0.5555555555555556,\"#d8576b\"],[0.6666666666666666,\"#ed7953\"],[0.7777777777777778,\"#fb9f3a\"],[0.8888888888888888,\"#fdca26\"],[1.0,\"#f0f921\"]],\"type\":\"contour\"}],\"contourcarpet\":[{\"colorbar\":{\"outlinewidth\":0,\"ticks\":\"\"},\"type\":\"contourcarpet\"}],\"heatmap\":[{\"colorbar\":{\"outlinewidth\":0,\"ticks\":\"\"},\"colorscale\":[[0.0,\"#0d0887\"],[0.1111111111111111,\"#46039f\"],[0.2222222222222222,\"#7201a8\"],[0.3333333333333333,\"#9c179e\"],[0.4444444444444444,\"#bd3786\"],[0.5555555555555556,\"#d8576b\"],[0.6666666666666666,\"#ed7953\"],[0.7777777777777778,\"#fb9f3a\"],[0.8888888888888888,\"#fdca26\"],[1.0,\"#f0f921\"]],\"type\":\"heatmap\"}],\"heatmapgl\":[{\"colorbar\":{\"outlinewidth\":0,\"ticks\":\"\"},\"colorscale\":[[0.0,\"#0d0887\"],[0.1111111111111111,\"#46039f\"],[0.2222222222222222,\"#7201a8\"],[0.3333333333333333,\"#9c179e\"],[0.4444444444444444,\"#bd3786\"],[0.5555555555555556,\"#d8576b\"],[0.6666666666666666,\"#ed7953\"],[0.7777777777777778,\"#fb9f3a\"],[0.8888888888888888,\"#fdca26\"],[1.0,\"#f0f921\"]],\"type\":\"heatmapgl\"}],\"histogram\":[{\"marker\":{\"pattern\":{\"fillmode\":\"overlay\",\"size\":10,\"solidity\":0.2}},\"type\":\"histogram\"}],\"histogram2d\":[{\"colorbar\":{\"outlinewidth\":0,\"ticks\":\"\"},\"colorscale\":[[0.0,\"#0d0887\"],[0.1111111111111111,\"#46039f\"],[0.2222222222222222,\"#7201a8\"],[0.3333333333333333,\"#9c179e\"],[0.4444444444444444,\"#bd3786\"],[0.5555555555555556,\"#d8576b\"],[0.6666666666666666,\"#ed7953\"],[0.7777777777777778,\"#fb9f3a\"],[0.8888888888888888,\"#fdca26\"],[1.0,\"#f0f921\"]],\"type\":\"histogram2d\"}],\"histogram2dcontour\":[{\"colorbar\":{\"outlinewidth\":0,\"ticks\":\"\"},\"colorscale\":[[0.0,\"#0d0887\"],[0.1111111111111111,\"#46039f\"],[0.2222222222222222,\"#7201a8\"],[0.3333333333333333,\"#9c179e\"],[0.4444444444444444,\"#bd3786\"],[0.5555555555555556,\"#d8576b\"],[0.6666666666666666,\"#ed7953\"],[0.7777777777777778,\"#fb9f3a\"],[0.8888888888888888,\"#fdca26\"],[1.0,\"#f0f921\"]],\"type\":\"histogram2dcontour\"}],\"mesh3d\":[{\"colorbar\":{\"outlinewidth\":0,\"ticks\":\"\"},\"type\":\"mesh3d\"}],\"parcoords\":[{\"line\":{\"colorbar\":{\"outlinewidth\":0,\"ticks\":\"\"}},\"type\":\"parcoords\"}],\"pie\":[{\"automargin\":true,\"type\":\"pie\"}],\"scatter\":[{\"marker\":{\"colorbar\":{\"outlinewidth\":0,\"ticks\":\"\"}},\"type\":\"scatter\"}],\"scatter3d\":[{\"line\":{\"colorbar\":{\"outlinewidth\":0,\"ticks\":\"\"}},\"marker\":{\"colorbar\":{\"outlinewidth\":0,\"ticks\":\"\"}},\"type\":\"scatter3d\"}],\"scattercarpet\":[{\"marker\":{\"colorbar\":{\"outlinewidth\":0,\"ticks\":\"\"}},\"type\":\"scattercarpet\"}],\"scattergeo\":[{\"marker\":{\"colorbar\":{\"outlinewidth\":0,\"ticks\":\"\"}},\"type\":\"scattergeo\"}],\"scattergl\":[{\"marker\":{\"colorbar\":{\"outlinewidth\":0,\"ticks\":\"\"}},\"type\":\"scattergl\"}],\"scattermapbox\":[{\"marker\":{\"colorbar\":{\"outlinewidth\":0,\"ticks\":\"\"}},\"type\":\"scattermapbox\"}],\"scatterpolar\":[{\"marker\":{\"colorbar\":{\"outlinewidth\":0,\"ticks\":\"\"}},\"type\":\"scatterpolar\"}],\"scatterpolargl\":[{\"marker\":{\"colorbar\":{\"outlinewidth\":0,\"ticks\":\"\"}},\"type\":\"scatterpolargl\"}],\"scatterternary\":[{\"marker\":{\"colorbar\":{\"outlinewidth\":0,\"ticks\":\"\"}},\"type\":\"scatterternary\"}],\"surface\":[{\"colorbar\":{\"outlinewidth\":0,\"ticks\":\"\"},\"colorscale\":[[0.0,\"#0d0887\"],[0.1111111111111111,\"#46039f\"],[0.2222222222222222,\"#7201a8\"],[0.3333333333333333,\"#9c179e\"],[0.4444444444444444,\"#bd3786\"],[0.5555555555555556,\"#d8576b\"],[0.6666666666666666,\"#ed7953\"],[0.7777777777777778,\"#fb9f3a\"],[0.8888888888888888,\"#fdca26\"],[1.0,\"#f0f921\"]],\"type\":\"surface\"}],\"table\":[{\"cells\":{\"fill\":{\"color\":\"#EBF0F8\"},\"line\":{\"color\":\"white\"}},\"header\":{\"fill\":{\"color\":\"#C8D4E3\"},\"line\":{\"color\":\"white\"}},\"type\":\"table\"}]},\"layout\":{\"annotationdefaults\":{\"arrowcolor\":\"#2a3f5f\",\"arrowhead\":0,\"arrowwidth\":1},\"autotypenumbers\":\"strict\",\"coloraxis\":{\"colorbar\":{\"outlinewidth\":0,\"ticks\":\"\"}},\"colorscale\":{\"diverging\":[[0,\"#8e0152\"],[0.1,\"#c51b7d\"],[0.2,\"#de77ae\"],[0.3,\"#f1b6da\"],[0.4,\"#fde0ef\"],[0.5,\"#f7f7f7\"],[0.6,\"#e6f5d0\"],[0.7,\"#b8e186\"],[0.8,\"#7fbc41\"],[0.9,\"#4d9221\"],[1,\"#276419\"]],\"sequential\":[[0.0,\"#0d0887\"],[0.1111111111111111,\"#46039f\"],[0.2222222222222222,\"#7201a8\"],[0.3333333333333333,\"#9c179e\"],[0.4444444444444444,\"#bd3786\"],[0.5555555555555556,\"#d8576b\"],[0.6666666666666666,\"#ed7953\"],[0.7777777777777778,\"#fb9f3a\"],[0.8888888888888888,\"#fdca26\"],[1.0,\"#f0f921\"]],\"sequentialminus\":[[0.0,\"#0d0887\"],[0.1111111111111111,\"#46039f\"],[0.2222222222222222,\"#7201a8\"],[0.3333333333333333,\"#9c179e\"],[0.4444444444444444,\"#bd3786\"],[0.5555555555555556,\"#d8576b\"],[0.6666666666666666,\"#ed7953\"],[0.7777777777777778,\"#fb9f3a\"],[0.8888888888888888,\"#fdca26\"],[1.0,\"#f0f921\"]]},\"colorway\":[\"#636efa\",\"#EF553B\",\"#00cc96\",\"#ab63fa\",\"#FFA15A\",\"#19d3f3\",\"#FF6692\",\"#B6E880\",\"#FF97FF\",\"#FECB52\"],\"font\":{\"color\":\"#2a3f5f\"},\"geo\":{\"bgcolor\":\"white\",\"lakecolor\":\"white\",\"landcolor\":\"#E5ECF6\",\"showlakes\":true,\"showland\":true,\"subunitcolor\":\"white\"},\"hoverlabel\":{\"align\":\"left\"},\"hovermode\":\"closest\",\"mapbox\":{\"style\":\"light\"},\"paper_bgcolor\":\"white\",\"plot_bgcolor\":\"#E5ECF6\",\"polar\":{\"angularaxis\":{\"gridcolor\":\"white\",\"linecolor\":\"white\",\"ticks\":\"\"},\"bgcolor\":\"#E5ECF6\",\"radialaxis\":{\"gridcolor\":\"white\",\"linecolor\":\"white\",\"ticks\":\"\"}},\"scene\":{\"xaxis\":{\"backgroundcolor\":\"#E5ECF6\",\"gridcolor\":\"white\",\"gridwidth\":2,\"linecolor\":\"white\",\"showbackground\":true,\"ticks\":\"\",\"zerolinecolor\":\"white\"},\"yaxis\":{\"backgroundcolor\":\"#E5ECF6\",\"gridcolor\":\"white\",\"gridwidth\":2,\"linecolor\":\"white\",\"showbackground\":true,\"ticks\":\"\",\"zerolinecolor\":\"white\"},\"zaxis\":{\"backgroundcolor\":\"#E5ECF6\",\"gridcolor\":\"white\",\"gridwidth\":2,\"linecolor\":\"white\",\"showbackground\":true,\"ticks\":\"\",\"zerolinecolor\":\"white\"}},\"shapedefaults\":{\"line\":{\"color\":\"#2a3f5f\"}},\"ternary\":{\"aaxis\":{\"gridcolor\":\"white\",\"linecolor\":\"white\",\"ticks\":\"\"},\"baxis\":{\"gridcolor\":\"white\",\"linecolor\":\"white\",\"ticks\":\"\"},\"bgcolor\":\"#E5ECF6\",\"caxis\":{\"gridcolor\":\"white\",\"linecolor\":\"white\",\"ticks\":\"\"}},\"title\":{\"x\":0.05},\"xaxis\":{\"automargin\":true,\"gridcolor\":\"white\",\"linecolor\":\"white\",\"ticks\":\"\",\"title\":{\"standoff\":15},\"zerolinecolor\":\"white\",\"zerolinewidth\":2},\"yaxis\":{\"automargin\":true,\"gridcolor\":\"white\",\"linecolor\":\"white\",\"ticks\":\"\",\"title\":{\"standoff\":15},\"zerolinecolor\":\"white\",\"zerolinewidth\":2}}},\"title\":{\"text\":\"Performance de diferentes modelos seleccionados con 5-Fold Cross-Validation\"},\"paper_bgcolor\":\"rgb(243, 243, 243)\",\"plot_bgcolor\":\"rgb(243, 243, 243)\",\"xaxis\":{\"title\":{\"text\":\"Model\"}},\"yaxis\":{\"title\":{\"text\":\"Accuracy\"}},\"showlegend\":false},                        {\"responsive\": true}                    ).then(function(){\n",
              "                            \n",
              "var gd = document.getElementById('a36ae27f-3a2a-4ea2-b817-d9995aae8300');\n",
              "var x = new MutationObserver(function (mutations, observer) {{\n",
              "        var display = window.getComputedStyle(gd).display;\n",
              "        if (!display || display === 'none') {{\n",
              "            console.log([gd, 'removed!']);\n",
              "            Plotly.purge(gd);\n",
              "            observer.disconnect();\n",
              "        }}\n",
              "}});\n",
              "\n",
              "// Listen for the removal of the full notebook cells\n",
              "var notebookContainer = gd.closest('#notebook-container');\n",
              "if (notebookContainer) {{\n",
              "    x.observe(notebookContainer, {childList: true});\n",
              "}}\n",
              "\n",
              "// Listen for the clearing of the current output cell\n",
              "var outputEl = gd.closest('.output');\n",
              "if (outputEl) {{\n",
              "    x.observe(outputEl, {childList: true});\n",
              "}}\n",
              "\n",
              "                        })                };                            </script>        </div>\n",
              "</body>\n",
              "</html>"
            ]
          },
          "metadata": {}
        }
      ]
    },
    {
      "cell_type": "markdown",
      "source": [
        "Se observa que el accuracy de Random Forest(tomando en cuanta los modelos individuales) es el de mejor valor.\n",
        "y observando el ensamblado, dio casi igual, solo varia en una centesima( random forest=0.71 y stacking=0.72)"
      ],
      "metadata": {
        "id": "6kZUrGDxDf7n"
      }
    },
    {
      "cell_type": "markdown",
      "source": [
        "Entrenamos y posteriormente evaluamos en test"
      ],
      "metadata": {
        "id": "_hmnvKYxsdov"
      }
    },
    {
      "cell_type": "code",
      "source": [
        "from sklearn.metrics import accuracy_score\n",
        "stacking_model.fit(x_train,y_train)\n",
        "y_pred_st = stacking_model.predict(x_test)"
      ],
      "metadata": {
        "colab": {
          "base_uri": "https://localhost:8080/"
        },
        "id": "hrwiUV34wyyL",
        "outputId": "2ed6d87a-d496-41b2-a975-fb914e69e6de"
      },
      "execution_count": null,
      "outputs": [
        {
          "output_type": "stream",
          "name": "stderr",
          "text": [
            "/usr/local/lib/python3.8/dist-packages/sklearn/preprocessing/_label.py:98: DataConversionWarning:\n",
            "\n",
            "A column-vector y was passed when a 1d array was expected. Please change the shape of y to (n_samples, ), for example using ravel().\n",
            "\n",
            "/usr/local/lib/python3.8/dist-packages/sklearn/preprocessing/_label.py:133: DataConversionWarning:\n",
            "\n",
            "A column-vector y was passed when a 1d array was expected. Please change the shape of y to (n_samples, ), for example using ravel().\n",
            "\n",
            "[Parallel(n_jobs=1)]: Using backend SequentialBackend with 1 concurrent workers.\n",
            "[Parallel(n_jobs=1)]: Done   1 out of   1 | elapsed:    2.9s remaining:    0.0s\n",
            "[Parallel(n_jobs=1)]: Done   5 out of   5 | elapsed:   14.8s finished\n",
            "[Parallel(n_jobs=1)]: Using backend SequentialBackend with 1 concurrent workers.\n",
            "[Parallel(n_jobs=1)]: Done   1 out of   1 | elapsed:  1.9min remaining:    0.0s\n",
            "[Parallel(n_jobs=1)]: Done   5 out of   5 | elapsed:  9.4min finished\n",
            "[Parallel(n_jobs=1)]: Using backend SequentialBackend with 1 concurrent workers.\n",
            "[Parallel(n_jobs=1)]: Done   1 out of   1 | elapsed:    0.1s remaining:    0.0s\n",
            "[Parallel(n_jobs=1)]: Done   5 out of   5 | elapsed:    0.7s finished\n",
            "/usr/local/lib/python3.8/dist-packages/sklearn/linear_model/_logistic.py:814: ConvergenceWarning:\n",
            "\n",
            "lbfgs failed to converge (status=1):\n",
            "STOP: TOTAL NO. of ITERATIONS REACHED LIMIT.\n",
            "\n",
            "Increase the number of iterations (max_iter) or scale the data as shown in:\n",
            "    https://scikit-learn.org/stable/modules/preprocessing.html\n",
            "Please also refer to the documentation for alternative solver options:\n",
            "    https://scikit-learn.org/stable/modules/linear_model.html#logistic-regression\n",
            "\n",
            "/usr/local/lib/python3.8/dist-packages/sklearn/linear_model/_logistic.py:814: ConvergenceWarning:\n",
            "\n",
            "lbfgs failed to converge (status=1):\n",
            "STOP: TOTAL NO. of ITERATIONS REACHED LIMIT.\n",
            "\n",
            "Increase the number of iterations (max_iter) or scale the data as shown in:\n",
            "    https://scikit-learn.org/stable/modules/preprocessing.html\n",
            "Please also refer to the documentation for alternative solver options:\n",
            "    https://scikit-learn.org/stable/modules/linear_model.html#logistic-regression\n",
            "\n",
            "/usr/local/lib/python3.8/dist-packages/sklearn/linear_model/_logistic.py:814: ConvergenceWarning:\n",
            "\n",
            "lbfgs failed to converge (status=1):\n",
            "STOP: TOTAL NO. of ITERATIONS REACHED LIMIT.\n",
            "\n",
            "Increase the number of iterations (max_iter) or scale the data as shown in:\n",
            "    https://scikit-learn.org/stable/modules/preprocessing.html\n",
            "Please also refer to the documentation for alternative solver options:\n",
            "    https://scikit-learn.org/stable/modules/linear_model.html#logistic-regression\n",
            "\n",
            "/usr/local/lib/python3.8/dist-packages/sklearn/linear_model/_logistic.py:814: ConvergenceWarning:\n",
            "\n",
            "lbfgs failed to converge (status=1):\n",
            "STOP: TOTAL NO. of ITERATIONS REACHED LIMIT.\n",
            "\n",
            "Increase the number of iterations (max_iter) or scale the data as shown in:\n",
            "    https://scikit-learn.org/stable/modules/preprocessing.html\n",
            "Please also refer to the documentation for alternative solver options:\n",
            "    https://scikit-learn.org/stable/modules/linear_model.html#logistic-regression\n",
            "\n",
            "/usr/local/lib/python3.8/dist-packages/sklearn/linear_model/_logistic.py:814: ConvergenceWarning:\n",
            "\n",
            "lbfgs failed to converge (status=1):\n",
            "STOP: TOTAL NO. of ITERATIONS REACHED LIMIT.\n",
            "\n",
            "Increase the number of iterations (max_iter) or scale the data as shown in:\n",
            "    https://scikit-learn.org/stable/modules/preprocessing.html\n",
            "Please also refer to the documentation for alternative solver options:\n",
            "    https://scikit-learn.org/stable/modules/linear_model.html#logistic-regression\n",
            "\n",
            "/usr/local/lib/python3.8/dist-packages/sklearn/linear_model/_logistic.py:814: ConvergenceWarning:\n",
            "\n",
            "lbfgs failed to converge (status=1):\n",
            "STOP: TOTAL NO. of ITERATIONS REACHED LIMIT.\n",
            "\n",
            "Increase the number of iterations (max_iter) or scale the data as shown in:\n",
            "    https://scikit-learn.org/stable/modules/preprocessing.html\n",
            "Please also refer to the documentation for alternative solver options:\n",
            "    https://scikit-learn.org/stable/modules/linear_model.html#logistic-regression\n",
            "\n"
          ]
        }
      ]
    },
    {
      "cell_type": "code",
      "source": [
        "# Metricas \n",
        "\n",
        "from sklearn.metrics import precision_score\n",
        "from sklearn.metrics import recall_score\n",
        "from sklearn.metrics import f1_score\n",
        "DT_precision = precision_score(y_test, y_pred_st,average='weighted', zero_division = 0)\n",
        "DT_recall = recall_score(y_test, y_pred_st,average='weighted')\n",
        "print(\"Precision: \" + str(DT_precision))\n",
        "print(\"Recall: \" + str(DT_recall))\n",
        "print('F1-Score: {}'.format(f1_score(y_test, y_pred_st, average='weighted')))\n",
        "print('Accuracy: {}'.format(accuracy_score(y_test, y_pred_st)))"
      ],
      "metadata": {
        "colab": {
          "base_uri": "https://localhost:8080/"
        },
        "id": "rD2O7dF8w5xz",
        "outputId": "8756d3d9-1ec7-4f23-87f9-0376ccc60ad4"
      },
      "execution_count": null,
      "outputs": [
        {
          "output_type": "stream",
          "name": "stdout",
          "text": [
            "Precision: 0.7226409636361264\n",
            "Recall: 0.7275726770108792\n",
            "F1-Score: 0.7243889848436867\n",
            "Accuracy: 0.7275726770108792\n"
          ]
        }
      ]
    },
    {
      "cell_type": "markdown",
      "source": [
        "Comparativas:\n"
      ],
      "metadata": {
        "id": "Q0wmYexvDnZk"
      }
    },
    {
      "cell_type": "markdown",
      "source": [
        "Modelo de Clasificacion:\n",
        "Precision: 0.3365608038785787\n",
        "Recall: 0.33605647208121825\n",
        "F1 Score: 0.2818827769486082\n",
        "\n",
        "Stacking\n",
        "Precision: 0.7226409636361264\n",
        "Recall: 0.7275726770108792\n",
        "F1-Score: 0.7243889848436867"
      ],
      "metadata": {
        "id": "16mMsUMhD7Xt"
      }
    },
    {
      "cell_type": "markdown",
      "source": [
        "Se aprecia claramente que las mejores metricas se obtiene desde la practica de Stacking y el modelo individual de Random Forest."
      ],
      "metadata": {
        "id": "8OzvAGI-D9Iw"
      }
    },
    {
      "cell_type": "markdown",
      "source": [
        "##Voting"
      ],
      "metadata": {
        "id": "8sivhEwsw8J2"
      }
    },
    {
      "cell_type": "markdown",
      "source": [
        "En Voting se entrenan diferentes modelos con el mismo conjunto de datos y se selecciona la mejor predicción por un sistema de votación. Cada uno de los modelos entrenados emite su predicción en cada caso y la más votada será la seleccionada por el conjunto. Construiremos 3 modelos(Regresion Logistica, Random Forest y Knn) utilizando los mismos datos que se usaron en item anterior y y de alli se tomara la prediccion mayoritaria. A diferencia de Stacking, aca no usaremos metamodelo."
      ],
      "metadata": {
        "id": "ZNjQJpq3xB7y"
      }
    },
    {
      "cell_type": "code",
      "source": [
        "x_voting=x_train_st_TP1.copy()\n",
        "y_voting=y_train_st_TP1.copy()"
      ],
      "metadata": {
        "id": "3bP7Wl_oxD8o"
      },
      "execution_count": null,
      "outputs": []
    },
    {
      "cell_type": "code",
      "source": [
        "from sklearn.ensemble import RandomForestClassifier \n",
        "from sklearn.linear_model import LogisticRegression \n",
        "from sklearn.neighbors import KNeighborsClassifier\n",
        "from sklearn.ensemble import VotingClassifier\n",
        "\n",
        "log_clf = LogisticRegression()\n",
        "rnd_clf = RandomForestClassifier()\n",
        "knn_clf = KNeighborsClassifier()\n",
        "vot_clf = VotingClassifier(estimators = [('lr', log_clf), ('rnd', rnd_clf), ('knn', knn_clf)], voting = 'hard')"
      ],
      "metadata": {
        "id": "SMkfSmclxORH"
      },
      "execution_count": null,
      "outputs": []
    },
    {
      "cell_type": "markdown",
      "source": [
        "Spliteamos, entrenamos y evaluamos en test"
      ],
      "metadata": {
        "id": "QHHNAB8-skoZ"
      }
    },
    {
      "cell_type": "code",
      "source": [
        "x_train_v, x_test_v, y_train_v, y_test_v = train_test_split(x_voting, y_voting, random_state = 42, train_size = 0.80)\n",
        "vot_clf.fit(x_train_v, y_train_v)\n",
        "pred_v = vot_clf.predict(x_test_v)"
      ],
      "metadata": {
        "colab": {
          "base_uri": "https://localhost:8080/"
        },
        "id": "v5v4eQOFxRgG",
        "outputId": "cf076182-f41f-4b58-f35a-989e61021b48"
      },
      "execution_count": null,
      "outputs": [
        {
          "output_type": "stream",
          "name": "stderr",
          "text": [
            "/usr/local/lib/python3.8/dist-packages/sklearn/preprocessing/_label.py:98: DataConversionWarning:\n",
            "\n",
            "A column-vector y was passed when a 1d array was expected. Please change the shape of y to (n_samples, ), for example using ravel().\n",
            "\n",
            "/usr/local/lib/python3.8/dist-packages/sklearn/preprocessing/_label.py:133: DataConversionWarning:\n",
            "\n",
            "A column-vector y was passed when a 1d array was expected. Please change the shape of y to (n_samples, ), for example using ravel().\n",
            "\n",
            "/usr/local/lib/python3.8/dist-packages/sklearn/linear_model/_logistic.py:814: ConvergenceWarning:\n",
            "\n",
            "lbfgs failed to converge (status=1):\n",
            "STOP: TOTAL NO. of ITERATIONS REACHED LIMIT.\n",
            "\n",
            "Increase the number of iterations (max_iter) or scale the data as shown in:\n",
            "    https://scikit-learn.org/stable/modules/preprocessing.html\n",
            "Please also refer to the documentation for alternative solver options:\n",
            "    https://scikit-learn.org/stable/modules/linear_model.html#logistic-regression\n",
            "\n"
          ]
        }
      ]
    },
    {
      "cell_type": "code",
      "source": [
        "# Metricas \n",
        "\n",
        "from sklearn.metrics import precision_score\n",
        "from sklearn.metrics import recall_score\n",
        "from sklearn.metrics import f1_score\n",
        "\n",
        "DT_precision = precision_score(y_test, pred_v,average='weighted', zero_division = 0)\n",
        "DT_recall = recall_score(y_test, pred_v,average='weighted')\n",
        "print(\"Precision: \" + str(DT_precision))\n",
        "print(\"Recall: \" + str(DT_recall))\n",
        "print('F1-Score: {}'.format(f1_score(y_test, pred_v, average='weighted')))\n",
        "print('Accuracy: {}'.format(accuracy_score(y_test_v, pred_v)))"
      ],
      "metadata": {
        "colab": {
          "base_uri": "https://localhost:8080/"
        },
        "id": "MjouNdbuxUY2",
        "outputId": "342d4746-f352-4f42-bf17-2b628ebf84d1"
      },
      "execution_count": null,
      "outputs": [
        {
          "output_type": "stream",
          "name": "stdout",
          "text": [
            "Precision: 0.6524175189657023\n",
            "Recall: 0.6248439450686641\n",
            "F1-Score: 0.5945751052732463\n",
            "Accuracy: 0.6248439450686641\n"
          ]
        }
      ]
    },
    {
      "cell_type": "markdown",
      "source": [
        "Comparativas:"
      ],
      "metadata": {
        "id": "AZxSfIl2DR6e"
      }
    },
    {
      "cell_type": "markdown",
      "source": [
        "Modelo de Clasificacion:\n",
        "Precision: 0.3365608038785787\n",
        "Recall: 0.33605647208121825\n",
        "F1 Score: 0.2818827769486082\n",
        "\n",
        "Voting\n",
        "Precision: 0.6524175189657023\n",
        "Recall: 0.6248439450686641\n",
        "F1-Score: 0.5945751052732463"
      ],
      "metadata": {
        "id": "iX2XKJjmHwTH"
      }
    },
    {
      "cell_type": "markdown",
      "source": [
        "Se observa que Voting dio mejor resultado por lo que se la puede considerar como una posible optimizacion."
      ],
      "metadata": {
        "id": "QSx0PtG_H219"
      }
    },
    {
      "cell_type": "markdown",
      "source": [
        "# Conclusión"
      ],
      "metadata": {
        "id": "FfgFsh6WFOMx"
      }
    },
    {
      "cell_type": "markdown",
      "source": [
        "El trabajo para la obtención de nuevos datos utilizando procesamiento de lenguaje natural fue complejo dada la fuente de datos que teníamos. El manejo masivo de información de las descripciones requirió de un preprocesamiento, y al tener un texto con tantas alteraciones y poco uniforme llevó mucho tiempo de análisis.  "
      ],
      "metadata": {
        "id": "RuSSQ4jJGivQ"
      }
    },
    {
      "cell_type": "markdown",
      "source": [
        "Los algoritmos de extracción de información necesitan de una entrada lo más limpia posible para funcionar correctamente. Éstos nos ayudaron a encontrar datos relevantes del dataset, los cuáles pudimos usar luego para añadir nuevos features. "
      ],
      "metadata": {
        "id": "KPXCwNh4MRwL"
      }
    },
    {
      "cell_type": "markdown",
      "source": [
        "Los resultados en las métricas obtenidos al utilizar el modelo con las nuevas variables no cambiaron mucho respecto del TP1, algunas empeoraron y otras mejoraron levemente luego de optimizar los hiperparámetros (por ejemplo el score)."
      ],
      "metadata": {
        "id": "Jx5uCUn8M6S5"
      }
    },
    {
      "cell_type": "markdown",
      "source": [
        "Respecto a las redes neuronales, obtuvimos mejores resultados en el modelo de regresión, midiendo el error cuadrático medio, utilizando las variables nuevas creadas.\n",
        "En el modelo de clasificación optamos por definir el modelo mediante prueba y error, hasta que encontramos el que nos arrojó mejores metricas (siendo malas igualmente). \n",
        "Para intentar mejorarlo usamos KerasTuner para optimizar los hiperparámetros, pero las métricas obtenidas fueron similares. Utilizamos varios optimizadores pero el que mejor se adecuó a nuestro modelo fué SGD. "
      ],
      "metadata": {
        "id": "iWxaHAbVOLul"
      }
    },
    {
      "cell_type": "markdown",
      "source": [
        "Refiriéndonos a los modelos de ensamble, las métricas obtenidas en comparación a los modelos de clasificación del TP1 mejoraron notablemente, tanto en Stacking como Voting. Mejoramos en un 50% las métricas de precision, recall y f1_score."
      ],
      "metadata": {
        "id": "OH5tHEiFRGLr"
      }
    }
  ],
  "metadata": {
    "colab": {
      "provenance": [],
      "collapsed_sections": [
        "EoyIaosDkW9e",
        "ayCSsO_-WyzQ",
        "ab8MsLzaI14A",
        "hV1py8DMchhF",
        "JmcncdrhW2zK",
        "oK5jT1wHYxJU",
        "hUAF-gdfaLu5",
        "Lkk6C3caa3s5",
        "Y08CdCuFPJao",
        "kRor_yhFxITu",
        "obzSvZREXq3x",
        "FfgFsh6WFOMx"
      ],
      "include_colab_link": true
    },
    "kernelspec": {
      "display_name": "Python 3",
      "name": "python3"
    },
    "language_info": {
      "name": "python"
    }
  },
  "nbformat": 4,
  "nbformat_minor": 0
}